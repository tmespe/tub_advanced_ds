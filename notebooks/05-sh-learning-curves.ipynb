{
 "cells": [
  {
   "cell_type": "code",
   "execution_count": 1,
   "id": "a0b114f2",
   "metadata": {},
   "outputs": [],
   "source": [
    "import pandas as pd\n",
    "import numpy as np\n",
    "\n",
    "from sklearn.model_selection import train_test_split \n",
    "from sklearn.metrics import r2_score, mean_squared_error, mean_absolute_error\n",
    "from sklearn.ensemble import RandomForestRegressor\n",
    "from xgboost import XGBRegressor"
   ]
  },
  {
   "cell_type": "code",
   "execution_count": 33,
   "id": "e89a9c6d",
   "metadata": {},
   "outputs": [
    {
     "data": {
      "text/html": [
       "<div>\n",
       "<style scoped>\n",
       "    .dataframe tbody tr th:only-of-type {\n",
       "        vertical-align: middle;\n",
       "    }\n",
       "\n",
       "    .dataframe tbody tr th {\n",
       "        vertical-align: top;\n",
       "    }\n",
       "\n",
       "    .dataframe thead th {\n",
       "        text-align: right;\n",
       "    }\n",
       "</style>\n",
       "<table border=\"1\" class=\"dataframe\">\n",
       "  <thead>\n",
       "    <tr style=\"text-align: right;\">\n",
       "      <th></th>\n",
       "      <th>number_transactions</th>\n",
       "      <th>total_amount_usd</th>\n",
       "      <th>age</th>\n",
       "      <th>housing</th>\n",
       "      <th>loan</th>\n",
       "      <th>duration</th>\n",
       "      <th>campaign</th>\n",
       "      <th>pdays</th>\n",
       "      <th>previous</th>\n",
       "      <th>term_deposit</th>\n",
       "      <th>...</th>\n",
       "      <th>education_primary</th>\n",
       "      <th>education_secondary</th>\n",
       "      <th>education_tertiary</th>\n",
       "      <th>contact_Unknown</th>\n",
       "      <th>contact_cellular</th>\n",
       "      <th>contact_telephone</th>\n",
       "      <th>device_Unknown</th>\n",
       "      <th>device_desktop</th>\n",
       "      <th>device_mobile</th>\n",
       "      <th>device_tablet</th>\n",
       "    </tr>\n",
       "  </thead>\n",
       "  <tbody>\n",
       "    <tr>\n",
       "      <th>0</th>\n",
       "      <td>3.0</td>\n",
       "      <td>2143.0</td>\n",
       "      <td>58</td>\n",
       "      <td>True</td>\n",
       "      <td>False</td>\n",
       "      <td>261</td>\n",
       "      <td>1</td>\n",
       "      <td>-1</td>\n",
       "      <td>0</td>\n",
       "      <td>False</td>\n",
       "      <td>...</td>\n",
       "      <td>0</td>\n",
       "      <td>0</td>\n",
       "      <td>1</td>\n",
       "      <td>1</td>\n",
       "      <td>0</td>\n",
       "      <td>0</td>\n",
       "      <td>0</td>\n",
       "      <td>0</td>\n",
       "      <td>1</td>\n",
       "      <td>0</td>\n",
       "    </tr>\n",
       "    <tr>\n",
       "      <th>1</th>\n",
       "      <td>0.0</td>\n",
       "      <td>0.0</td>\n",
       "      <td>44</td>\n",
       "      <td>True</td>\n",
       "      <td>False</td>\n",
       "      <td>151</td>\n",
       "      <td>1</td>\n",
       "      <td>-1</td>\n",
       "      <td>0</td>\n",
       "      <td>False</td>\n",
       "      <td>...</td>\n",
       "      <td>0</td>\n",
       "      <td>1</td>\n",
       "      <td>0</td>\n",
       "      <td>1</td>\n",
       "      <td>0</td>\n",
       "      <td>0</td>\n",
       "      <td>0</td>\n",
       "      <td>1</td>\n",
       "      <td>0</td>\n",
       "      <td>0</td>\n",
       "    </tr>\n",
       "    <tr>\n",
       "      <th>2</th>\n",
       "      <td>2.0</td>\n",
       "      <td>2.0</td>\n",
       "      <td>33</td>\n",
       "      <td>True</td>\n",
       "      <td>True</td>\n",
       "      <td>76</td>\n",
       "      <td>1</td>\n",
       "      <td>-1</td>\n",
       "      <td>0</td>\n",
       "      <td>False</td>\n",
       "      <td>...</td>\n",
       "      <td>0</td>\n",
       "      <td>1</td>\n",
       "      <td>0</td>\n",
       "      <td>1</td>\n",
       "      <td>0</td>\n",
       "      <td>0</td>\n",
       "      <td>0</td>\n",
       "      <td>0</td>\n",
       "      <td>1</td>\n",
       "      <td>0</td>\n",
       "    </tr>\n",
       "    <tr>\n",
       "      <th>3</th>\n",
       "      <td>0.0</td>\n",
       "      <td>0.0</td>\n",
       "      <td>47</td>\n",
       "      <td>True</td>\n",
       "      <td>False</td>\n",
       "      <td>92</td>\n",
       "      <td>1</td>\n",
       "      <td>-1</td>\n",
       "      <td>0</td>\n",
       "      <td>False</td>\n",
       "      <td>...</td>\n",
       "      <td>0</td>\n",
       "      <td>0</td>\n",
       "      <td>0</td>\n",
       "      <td>1</td>\n",
       "      <td>0</td>\n",
       "      <td>0</td>\n",
       "      <td>0</td>\n",
       "      <td>0</td>\n",
       "      <td>0</td>\n",
       "      <td>1</td>\n",
       "    </tr>\n",
       "    <tr>\n",
       "      <th>4</th>\n",
       "      <td>1.0</td>\n",
       "      <td>1.0</td>\n",
       "      <td>33</td>\n",
       "      <td>False</td>\n",
       "      <td>False</td>\n",
       "      <td>198</td>\n",
       "      <td>1</td>\n",
       "      <td>-1</td>\n",
       "      <td>0</td>\n",
       "      <td>False</td>\n",
       "      <td>...</td>\n",
       "      <td>0</td>\n",
       "      <td>0</td>\n",
       "      <td>0</td>\n",
       "      <td>1</td>\n",
       "      <td>0</td>\n",
       "      <td>0</td>\n",
       "      <td>0</td>\n",
       "      <td>0</td>\n",
       "      <td>1</td>\n",
       "      <td>0</td>\n",
       "    </tr>\n",
       "  </tbody>\n",
       "</table>\n",
       "<p>5 rows × 37 columns</p>\n",
       "</div>"
      ],
      "text/plain": [
       "   number_transactions  total_amount_usd  age  housing   loan  duration  \\\n",
       "0                  3.0            2143.0   58     True  False       261   \n",
       "1                  0.0               0.0   44     True  False       151   \n",
       "2                  2.0               2.0   33     True   True        76   \n",
       "3                  0.0               0.0   47     True  False        92   \n",
       "4                  1.0               1.0   33    False  False       198   \n",
       "\n",
       "   campaign  pdays  previous  term_deposit  ...  education_primary  \\\n",
       "0         1     -1         0         False  ...                  0   \n",
       "1         1     -1         0         False  ...                  0   \n",
       "2         1     -1         0         False  ...                  0   \n",
       "3         1     -1         0         False  ...                  0   \n",
       "4         1     -1         0         False  ...                  0   \n",
       "\n",
       "   education_secondary  education_tertiary  contact_Unknown  contact_cellular  \\\n",
       "0                    0                   1                1                 0   \n",
       "1                    1                   0                1                 0   \n",
       "2                    1                   0                1                 0   \n",
       "3                    0                   0                1                 0   \n",
       "4                    0                   0                1                 0   \n",
       "\n",
       "   contact_telephone  device_Unknown  device_desktop  device_mobile  \\\n",
       "0                  0               0               0              1   \n",
       "1                  0               0               1              0   \n",
       "2                  0               0               0              1   \n",
       "3                  0               0               0              0   \n",
       "4                  0               0               0              1   \n",
       "\n",
       "   device_tablet  \n",
       "0              0  \n",
       "1              0  \n",
       "2              0  \n",
       "3              1  \n",
       "4              0  \n",
       "\n",
       "[5 rows x 37 columns]"
      ]
     },
     "execution_count": 33,
     "metadata": {},
     "output_type": "execute_result"
    }
   ],
   "source": [
    "# load data with encode features\n",
    "\n",
    "users_data = pd.read_pickle(\"../data/users_data_cleaned_and_encoded.pkl\")\n",
    "users_data.head()"
   ]
  },
  {
   "cell_type": "code",
   "execution_count": 34,
   "id": "9088f51c",
   "metadata": {},
   "outputs": [
    {
     "data": {
      "text/plain": [
       "(45179, 37)"
      ]
     },
     "execution_count": 34,
     "metadata": {},
     "output_type": "execute_result"
    }
   ],
   "source": [
    "users_data.shape"
   ]
  },
  {
   "cell_type": "code",
   "execution_count": 35,
   "id": "b9cc6cfc",
   "metadata": {},
   "outputs": [
    {
     "name": "stdout",
     "output_type": "stream",
     "text": [
      "<class 'pandas.core.frame.DataFrame'>\n",
      "Int64Index: 45179 entries, 0 to 45215\n",
      "Data columns (total 37 columns):\n",
      " #   Column               Non-Null Count  Dtype  \n",
      "---  ------               --------------  -----  \n",
      " 0   number_transactions  45179 non-null  float64\n",
      " 1   total_amount_usd     45179 non-null  float64\n",
      " 2   age                  45179 non-null  int64  \n",
      " 3   housing              45179 non-null  bool   \n",
      " 4   loan                 45179 non-null  bool   \n",
      " 5   duration             45179 non-null  int64  \n",
      " 6   campaign             45179 non-null  int64  \n",
      " 7   pdays                45179 non-null  int64  \n",
      " 8   previous             45179 non-null  int64  \n",
      " 9   term_deposit         45179 non-null  bool   \n",
      " 10  tenure               45179 non-null  int64  \n",
      " 11  job_Unknown          45179 non-null  uint8  \n",
      " 12  job_admin.           45179 non-null  uint8  \n",
      " 13  job_blue-collar      45179 non-null  uint8  \n",
      " 14  job_entrepreneur     45179 non-null  uint8  \n",
      " 15  job_housemaid        45179 non-null  uint8  \n",
      " 16  job_management       45179 non-null  uint8  \n",
      " 17  job_retired          45179 non-null  uint8  \n",
      " 18  job_self-employed    45179 non-null  uint8  \n",
      " 19  job_services         45179 non-null  uint8  \n",
      " 20  job_student          45179 non-null  uint8  \n",
      " 21  job_technician       45179 non-null  uint8  \n",
      " 22  job_unemployed       45179 non-null  uint8  \n",
      " 23  marital_divorced     45179 non-null  uint8  \n",
      " 24  marital_married      45179 non-null  uint8  \n",
      " 25  marital_single       45179 non-null  uint8  \n",
      " 26  education_Unknown    45179 non-null  uint8  \n",
      " 27  education_primary    45179 non-null  uint8  \n",
      " 28  education_secondary  45179 non-null  uint8  \n",
      " 29  education_tertiary   45179 non-null  uint8  \n",
      " 30  contact_Unknown      45179 non-null  uint8  \n",
      " 31  contact_cellular     45179 non-null  uint8  \n",
      " 32  contact_telephone    45179 non-null  uint8  \n",
      " 33  device_Unknown       45179 non-null  uint8  \n",
      " 34  device_desktop       45179 non-null  uint8  \n",
      " 35  device_mobile        45179 non-null  uint8  \n",
      " 36  device_tablet        45179 non-null  uint8  \n",
      "dtypes: bool(3), float64(2), int64(6), uint8(26)\n",
      "memory usage: 4.4 MB\n"
     ]
    }
   ],
   "source": [
    "users_data.info()"
   ]
  },
  {
   "cell_type": "markdown",
   "id": "f18dca8b",
   "metadata": {},
   "source": [
    "### Prepare the data for ML model"
   ]
  },
  {
   "cell_type": "code",
   "execution_count": 36,
   "id": "ae1143b9",
   "metadata": {},
   "outputs": [],
   "source": [
    "# define our X and y\n",
    "\n",
    "target = users_data.total_amount_usd\n",
    "features = users_data.drop(['total_amount_usd'], axis = 1)"
   ]
  },
  {
   "cell_type": "code",
   "execution_count": 37,
   "id": "f77e0616",
   "metadata": {},
   "outputs": [
    {
     "data": {
      "text/plain": [
       "(45179,)"
      ]
     },
     "execution_count": 37,
     "metadata": {},
     "output_type": "execute_result"
    }
   ],
   "source": [
    "target.shape"
   ]
  },
  {
   "cell_type": "code",
   "execution_count": 38,
   "id": "81eb3913",
   "metadata": {},
   "outputs": [
    {
     "data": {
      "text/plain": [
       "0        2143.0\n",
       "1           0.0\n",
       "2           2.0\n",
       "3           0.0\n",
       "4           1.0\n",
       "          ...  \n",
       "45211     825.0\n",
       "45212    1729.0\n",
       "45213    5715.0\n",
       "45214       0.0\n",
       "45215    2971.0\n",
       "Name: total_amount_usd, Length: 45179, dtype: float64"
      ]
     },
     "execution_count": 38,
     "metadata": {},
     "output_type": "execute_result"
    }
   ],
   "source": [
    "target"
   ]
  },
  {
   "cell_type": "code",
   "execution_count": 39,
   "id": "05042bed",
   "metadata": {},
   "outputs": [
    {
     "data": {
      "text/plain": [
       "(45179, 36)"
      ]
     },
     "execution_count": 39,
     "metadata": {},
     "output_type": "execute_result"
    }
   ],
   "source": [
    "features.shape"
   ]
  },
  {
   "cell_type": "code",
   "execution_count": 40,
   "id": "2634163c",
   "metadata": {},
   "outputs": [],
   "source": [
    "# split the data into train and test\n",
    "\n",
    "X_train, X_test, y_train, y_test = train_test_split(\n",
    "                                                features, \n",
    "                                                target,\n",
    "                                                test_size = 0.3, \n",
    "                                                random_state = 0)"
   ]
  },
  {
   "cell_type": "code",
   "execution_count": 10,
   "id": "7340d136",
   "metadata": {},
   "outputs": [
    {
     "name": "stdout",
     "output_type": "stream",
     "text": [
      "Training Data\n",
      "X_train shape: (31625, 36)\n",
      "y_train shape: (31625,)\n"
     ]
    }
   ],
   "source": [
    "# print the shape of the training data\n",
    "\n",
    "print(\"Training Data\")\n",
    "print(\"X_train shape:\", X_train.shape)\n",
    "print(\"y_train shape:\", y_train.shape)\n",
    "\n",
    "# question how rows and columns does the training have"
   ]
  },
  {
   "cell_type": "code",
   "execution_count": 11,
   "id": "a848e67a",
   "metadata": {},
   "outputs": [
    {
     "name": "stdout",
     "output_type": "stream",
     "text": [
      "Test Data\n",
      "X_test shape: (13554, 36)\n",
      "y_test shape: (13554,)\n"
     ]
    }
   ],
   "source": [
    "# print the shape of the test data \n",
    "\n",
    "print(\"Test Data\")\n",
    "print(\"X_test shape:\", X_test.shape)\n",
    "print(\"y_test shape:\", y_test.shape)"
   ]
  },
  {
   "cell_type": "markdown",
   "id": "88359a7f",
   "metadata": {},
   "source": [
    "### Best Model Evaluation - Random Forest"
   ]
  },
  {
   "cell_type": "code",
   "execution_count": 12,
   "id": "2eee49a9",
   "metadata": {},
   "outputs": [
    {
     "name": "stdout",
     "output_type": "stream",
     "text": [
      "[1916.47 1307.34   30.82 2159.63  200.98]\n"
     ]
    }
   ],
   "source": [
    "# what is the best model?\n",
    "# identify the best model\n",
    "# check for overfitting\n",
    "# advanced: hyperparameter tuning \n",
    "\n",
    "# let's say RF is our best model\n",
    "# import and fit our model\n",
    "best_model = RandomForestRegressor(max_features=0.1, n_estimators =100)\n",
    "best_model.fit(X_train, y_train)\n",
    "y_pred = best_model.predict(X_test)\n",
    "print(y_pred[0:5])"
   ]
  },
  {
   "cell_type": "code",
   "execution_count": 13,
   "id": "716824f2",
   "metadata": {},
   "outputs": [
    {
     "data": {
      "image/png": "[encoded data removed]",
      "text/plain": [
       "<Figure size 432x288 with 1 Axes>"
      ]
     },
     "metadata": {
      "needs_background": "light"
     },
     "output_type": "display_data"
    }
   ],
   "source": [
    "# for reference\n",
    "\n",
    "residuals = y_test - y_pred\n",
    "\n",
    "plt.scatter(residuals, y_pred)\n",
    "plt.title(\"Residual Plot\")\n",
    "plt.xlabel(\"Residuals\")\n",
    "plt.ylabel(\"Predicted Value\")\n",
    "plt.show();"
   ]
  },
  {
   "cell_type": "code",
   "execution_count": 14,
   "id": "f18eef97",
   "metadata": {},
   "outputs": [
    {
     "name": "stdout",
     "output_type": "stream",
     "text": [
      "R2: 0.87\n",
      "Mean Absolute Error: 447\n",
      "Mean Squared Error: 1037652\n"
     ]
    }
   ],
   "source": [
    "# eval metrics on training set\n",
    "\n",
    "# create y_pred_train variable, which predicts the y on training set\n",
    "y_pred_train = best_model.predict(X_train)\n",
    "\n",
    "# eval metrics on the training set\n",
    "r2_train = r2_score(y_train, y_pred_train)\n",
    "print(\"R2:\", round(r2, 2))\n",
    "mae = mean_absolute_error(y_train, y_pred_train)\n",
    "print(\"Mean Absolute Error:\", round(mae))\n",
    "mse = mean_squared_error(y_train, y_pred_train)\n",
    "print(\"Mean Squared Error:\", round(mse))\n"
   ]
  },
  {
   "cell_type": "code",
   "execution_count": 15,
   "id": "b1973786",
   "metadata": {},
   "outputs": [
    {
     "name": "stdout",
     "output_type": "stream",
     "text": [
      "R2: 0.08\n",
      "Mean Absolute Error: 1201\n",
      "Mean Squared Error: 6557092\n"
     ]
    }
   ],
   "source": [
    "# eval metrics on test - same as yesterday\n",
    "\n",
    "r2_test = r2_score(y_test, y_pred)\n",
    "print(\"R2:\", round(r2, 2))\n",
    "mae = mean_absolute_error(y_test, y_pred)\n",
    "print(\"Mean Absolute Error:\", round(mae))\n",
    "mse = mean_squared_error(y_test, y_pred)\n",
    "print(\"Mean Squared Error:\", round(mse))"
   ]
  },
  {
   "cell_type": "code",
   "execution_count": 41,
   "id": "4e5854bf",
   "metadata": {},
   "outputs": [],
   "source": [
    "# import python scripts we created to help with feature engineering\n",
    "import os, sys\n",
    "\n",
    "module_path = os.path.abspath(os.path.join('..'))\n",
    "if module_path not in sys.path:\n",
    "    sys.path.append(module_path)\n",
    "\n",
    "from src.learning_curve_plot import learning_curve_plot"
   ]
  },
  {
   "cell_type": "code",
   "execution_count": 42,
   "id": "fae11949",
   "metadata": {},
   "outputs": [
    {
     "data": {
      "image/png": "[encoded data removed]",
      "text/plain": [
       "<Figure size 360x360 with 1 Axes>"
      ]
     },
     "metadata": {
      "needs_background": "light"
     },
     "output_type": "display_data"
    }
   ],
   "source": [
    "learning_curve_plot(best_model, X_train, y_train, scoring=\"r2\")"
   ]
  },
  {
   "cell_type": "markdown",
   "id": "16b63fb2",
   "metadata": {},
   "source": [
    "## Best Model Evaluation - XGBoost"
   ]
  },
  {
   "cell_type": "code",
   "execution_count": 18,
   "id": "f44aead1",
   "metadata": {},
   "outputs": [
    {
     "name": "stdout",
     "output_type": "stream",
     "text": [
      "[1232.5426  1083.8535   191.28148 1873.5494    70.70738]\n"
     ]
    }
   ],
   "source": [
    "best_model = XGBRegressor()\n",
    "best_model.fit(X_train, y_train)\n",
    "y_pred = best_model.predict(X_test)\n",
    "print(y_pred[0:5])"
   ]
  },
  {
   "cell_type": "code",
   "execution_count": 19,
   "id": "ada0bd84",
   "metadata": {},
   "outputs": [
    {
     "data": {
      "image/png": "[encoded data removed]",
      "text/plain": [
       "<Figure size 432x288 with 1 Axes>"
      ]
     },
     "metadata": {
      "needs_background": "light"
     },
     "output_type": "display_data"
    }
   ],
   "source": [
    "residuals = y_test - y_pred\n",
    "\n",
    "plt.scatter(residuals, y_pred)\n",
    "plt.title(\"Residual Plot\")\n",
    "plt.xlabel(\"Residuals\")\n",
    "plt.ylabel(\"Predicted Value\")\n",
    "plt.show();"
   ]
  },
  {
   "cell_type": "code",
   "execution_count": 20,
   "id": "a2cf8256",
   "metadata": {},
   "outputs": [
    {
     "data": {
      "image/png": "[encoded data removed]",
      "text/plain": [
       "<Figure size 360x360 with 1 Axes>"
      ]
     },
     "metadata": {
      "needs_background": "light"
     },
     "output_type": "display_data"
    }
   ],
   "source": [
    "learning_curve_plot(best_model, X_train, y_train, scoring=\"r2\")"
   ]
  },
  {
   "cell_type": "code",
   "execution_count": 21,
   "id": "cdd99b0e",
   "metadata": {},
   "outputs": [
    {
     "name": "stdout",
     "output_type": "stream",
     "text": [
      "R2: 0.49\n",
      "Mean Absolute Error: 998\n",
      "Mean Squared Error: 4041580\n"
     ]
    }
   ],
   "source": [
    "# eval metrics on test and training set\n",
    "\n",
    "y_pred_train = best_model.predict(X_train)\n",
    "\n",
    "r2 = r2_score(y_train, y_pred_train)\n",
    "print(\"R2:\", round(r2, 2))\n",
    "mae = mean_absolute_error(y_train, y_pred_train)\n",
    "print(\"Mean Absolute Error:\", round(mae))\n",
    "mse = mean_squared_error(y_train, y_pred_train)\n",
    "print(\"Mean Squared Error:\", round(mse))"
   ]
  },
  {
   "cell_type": "code",
   "execution_count": 22,
   "id": "7a2c819f",
   "metadata": {},
   "outputs": [
    {
     "name": "stdout",
     "output_type": "stream",
     "text": [
      "R2: 0.05\n",
      "Mean Absolute Error: 1217\n",
      "Mean Squared Error: 6764436\n"
     ]
    }
   ],
   "source": [
    "r2 = r2_score(y_test, y_pred)\n",
    "print(\"R2:\", round(r2, 2))\n",
    "mae = mean_absolute_error(y_test, y_pred)\n",
    "print(\"Mean Absolute Error:\", round(mae))\n",
    "mse = mean_squared_error(y_test, y_pred)\n",
    "print(\"Mean Squared Error:\", round(mse))"
   ]
  },
  {
   "cell_type": "code",
   "execution_count": 23,
   "id": "a71dfa68",
   "metadata": {},
   "outputs": [],
   "source": [
    "# both models are showing signs of overfitting, low r2 score and high errors.\n",
    "# Next steps would include removing outliers to see if this would improve the results.\n",
    "# It is also possible that this is not a useful target, and it is not possible to make\n",
    "# however, some initial learnings we could take are from the feature importance plots \n",
    "# which show us some useful patterns for e.g. duration and tenure are important features"
   ]
  },
  {
   "cell_type": "code",
   "execution_count": 24,
   "id": "24155c03",
   "metadata": {},
   "outputs": [
    {
     "ename": "NameError",
     "evalue": "name 'n' is not defined",
     "output_type": "error",
     "traceback": [
      "\u001b[0;31m---------------------------------------------------------------------------\u001b[0m",
      "\u001b[0;31mNameError\u001b[0m                                 Traceback (most recent call last)",
      "\u001b[0;32m<ipython-input-24-521cbd1845b2>\u001b[0m in \u001b[0;36m<module>\u001b[0;34m\u001b[0m\n\u001b[1;32m      4\u001b[0m feat_importances = pd.Series(best_model.feature_importances_,\n\u001b[1;32m      5\u001b[0m                                  index = X_train.columns)\n\u001b[0;32m----> 6\u001b[0;31m \u001b[0mfeat_importances\u001b[0m\u001b[0;34m.\u001b[0m\u001b[0mnsmallest\u001b[0m\u001b[0;34m(\u001b[0m\u001b[0mn\u001b[0m\u001b[0;34m)\u001b[0m\u001b[0;34m\u001b[0m\u001b[0;34m\u001b[0m\u001b[0m\n\u001b[0m",
      "\u001b[0;31mNameError\u001b[0m: name 'n' is not defined"
     ]
    }
   ],
   "source": [
    "# identify redundant features\n",
    "import pandas as pd\n",
    "\n",
    "def identify_weakest_features(model, features_to_drop):\n",
    "        \"\"\"\n",
    "        statistical test to remove features with the weakest relationship\n",
    "        with the target variable\n",
    "        \"\"\"\n",
    "        X = self.data.drop([self.target], axis=1) # drop target\n",
    "        X = X.select_dtypes(include='bool') # keep boolean data only\n",
    "        y = self.data[self.target]\n",
    "\n",
    "        # apply chi-squared test to extract top 20 best features\n",
    "        bestfeatures = SelectKBest(score_func=chi2, k=20)\n",
    "        fit = bestfeatures.fit(X, y)\n",
    "        df_scores = pd.DataFrame(fit.scores_)\n",
    "        df_columns = pd.DataFrame(X.columns)\n",
    "        feature_scores = pd.concat([df_columns, df_scores], axis=1)\n",
    "        feature_scores.columns = ['Features', 'Score']  # naming the dataframe columns\n",
    "        feature_scores = feature_scores.sort_values(['Score'], ascending=False)  # sorting the dataframe by Score\n",
    "        to_drop = list(feature_scores.nsmallest(features_to_drop, 'Score')['Features']) # list of features to drop\n",
    "        self.feature_scores = feature_scores\n",
    "        self.ops['weakest_features'] = to_drop\n",
    "\n",
    "        print('%d features with the weakest relationshp with the target variable\\n' % (\n",
    "            len(self.ops['weakest_features'])))\n"
   ]
  },
  {
   "cell_type": "code",
   "execution_count": 26,
   "id": "f5e1ba94",
   "metadata": {},
   "outputs": [],
   "source": [
    "df_scores = pd.DataFrame(best_model.feature_importances_)\n",
    "df_columns = pd.DataFrame(X_train.columns)"
   ]
  },
  {
   "cell_type": "code",
   "execution_count": 32,
   "id": "ddd31811",
   "metadata": {},
   "outputs": [
    {
     "data": {
      "text/html": [
       "<div>\n",
       "<style scoped>\n",
       "    .dataframe tbody tr th:only-of-type {\n",
       "        vertical-align: middle;\n",
       "    }\n",
       "\n",
       "    .dataframe tbody tr th {\n",
       "        vertical-align: top;\n",
       "    }\n",
       "\n",
       "    .dataframe thead th {\n",
       "        text-align: right;\n",
       "    }\n",
       "</style>\n",
       "<table border=\"1\" class=\"dataframe\">\n",
       "  <thead>\n",
       "    <tr style=\"text-align: right;\">\n",
       "      <th></th>\n",
       "      <th>Features</th>\n",
       "      <th>Score</th>\n",
       "    </tr>\n",
       "  </thead>\n",
       "  <tbody>\n",
       "    <tr>\n",
       "      <th>1</th>\n",
       "      <td>age</td>\n",
       "      <td>0.042446</td>\n",
       "    </tr>\n",
       "    <tr>\n",
       "      <th>5</th>\n",
       "      <td>campaign</td>\n",
       "      <td>0.026896</td>\n",
       "    </tr>\n",
       "    <tr>\n",
       "      <th>29</th>\n",
       "      <td>contact_Unknown</td>\n",
       "      <td>0.012954</td>\n",
       "    </tr>\n",
       "    <tr>\n",
       "      <th>30</th>\n",
       "      <td>contact_cellular</td>\n",
       "      <td>0.014613</td>\n",
       "    </tr>\n",
       "    <tr>\n",
       "      <th>31</th>\n",
       "      <td>contact_telephone</td>\n",
       "      <td>0.059832</td>\n",
       "    </tr>\n",
       "    <tr>\n",
       "      <th>32</th>\n",
       "      <td>device_Unknown</td>\n",
       "      <td>0.012388</td>\n",
       "    </tr>\n",
       "    <tr>\n",
       "      <th>33</th>\n",
       "      <td>device_desktop</td>\n",
       "      <td>0.046562</td>\n",
       "    </tr>\n",
       "    <tr>\n",
       "      <th>34</th>\n",
       "      <td>device_mobile</td>\n",
       "      <td>0.010004</td>\n",
       "    </tr>\n",
       "    <tr>\n",
       "      <th>35</th>\n",
       "      <td>device_tablet</td>\n",
       "      <td>0.042665</td>\n",
       "    </tr>\n",
       "    <tr>\n",
       "      <th>4</th>\n",
       "      <td>duration</td>\n",
       "      <td>0.026267</td>\n",
       "    </tr>\n",
       "    <tr>\n",
       "      <th>25</th>\n",
       "      <td>education_Unknown</td>\n",
       "      <td>0.028535</td>\n",
       "    </tr>\n",
       "    <tr>\n",
       "      <th>26</th>\n",
       "      <td>education_primary</td>\n",
       "      <td>0.011179</td>\n",
       "    </tr>\n",
       "    <tr>\n",
       "      <th>27</th>\n",
       "      <td>education_secondary</td>\n",
       "      <td>0.011569</td>\n",
       "    </tr>\n",
       "    <tr>\n",
       "      <th>28</th>\n",
       "      <td>education_tertiary</td>\n",
       "      <td>0.061816</td>\n",
       "    </tr>\n",
       "    <tr>\n",
       "      <th>2</th>\n",
       "      <td>housing</td>\n",
       "      <td>0.033526</td>\n",
       "    </tr>\n",
       "    <tr>\n",
       "      <th>10</th>\n",
       "      <td>job_Unknown</td>\n",
       "      <td>0.012662</td>\n",
       "    </tr>\n",
       "    <tr>\n",
       "      <th>11</th>\n",
       "      <td>job_admin.</td>\n",
       "      <td>0.042862</td>\n",
       "    </tr>\n",
       "    <tr>\n",
       "      <th>12</th>\n",
       "      <td>job_blue-collar</td>\n",
       "      <td>0.011875</td>\n",
       "    </tr>\n",
       "    <tr>\n",
       "      <th>13</th>\n",
       "      <td>job_entrepreneur</td>\n",
       "      <td>0.023088</td>\n",
       "    </tr>\n",
       "    <tr>\n",
       "      <th>14</th>\n",
       "      <td>job_housemaid</td>\n",
       "      <td>0.023371</td>\n",
       "    </tr>\n",
       "    <tr>\n",
       "      <th>15</th>\n",
       "      <td>job_management</td>\n",
       "      <td>0.034483</td>\n",
       "    </tr>\n",
       "    <tr>\n",
       "      <th>16</th>\n",
       "      <td>job_retired</td>\n",
       "      <td>0.034240</td>\n",
       "    </tr>\n",
       "    <tr>\n",
       "      <th>17</th>\n",
       "      <td>job_self-employed</td>\n",
       "      <td>0.031746</td>\n",
       "    </tr>\n",
       "    <tr>\n",
       "      <th>18</th>\n",
       "      <td>job_services</td>\n",
       "      <td>0.030302</td>\n",
       "    </tr>\n",
       "    <tr>\n",
       "      <th>19</th>\n",
       "      <td>job_student</td>\n",
       "      <td>0.018871</td>\n",
       "    </tr>\n",
       "    <tr>\n",
       "      <th>20</th>\n",
       "      <td>job_technician</td>\n",
       "      <td>0.023226</td>\n",
       "    </tr>\n",
       "    <tr>\n",
       "      <th>21</th>\n",
       "      <td>job_unemployed</td>\n",
       "      <td>0.019503</td>\n",
       "    </tr>\n",
       "    <tr>\n",
       "      <th>3</th>\n",
       "      <td>loan</td>\n",
       "      <td>0.027466</td>\n",
       "    </tr>\n",
       "    <tr>\n",
       "      <th>22</th>\n",
       "      <td>marital_divorced</td>\n",
       "      <td>0.018045</td>\n",
       "    </tr>\n",
       "    <tr>\n",
       "      <th>23</th>\n",
       "      <td>marital_married</td>\n",
       "      <td>0.023575</td>\n",
       "    </tr>\n",
       "    <tr>\n",
       "      <th>24</th>\n",
       "      <td>marital_single</td>\n",
       "      <td>0.017731</td>\n",
       "    </tr>\n",
       "    <tr>\n",
       "      <th>0</th>\n",
       "      <td>number_transactions</td>\n",
       "      <td>0.060796</td>\n",
       "    </tr>\n",
       "    <tr>\n",
       "      <th>6</th>\n",
       "      <td>pdays</td>\n",
       "      <td>0.021061</td>\n",
       "    </tr>\n",
       "    <tr>\n",
       "      <th>7</th>\n",
       "      <td>previous</td>\n",
       "      <td>0.027749</td>\n",
       "    </tr>\n",
       "    <tr>\n",
       "      <th>9</th>\n",
       "      <td>tenure</td>\n",
       "      <td>0.033792</td>\n",
       "    </tr>\n",
       "    <tr>\n",
       "      <th>8</th>\n",
       "      <td>term_deposit</td>\n",
       "      <td>0.022305</td>\n",
       "    </tr>\n",
       "  </tbody>\n",
       "</table>\n",
       "</div>"
      ],
      "text/plain": [
       "               Features     Score\n",
       "1                   age  0.042446\n",
       "5              campaign  0.026896\n",
       "29      contact_Unknown  0.012954\n",
       "30     contact_cellular  0.014613\n",
       "31    contact_telephone  0.059832\n",
       "32       device_Unknown  0.012388\n",
       "33       device_desktop  0.046562\n",
       "34        device_mobile  0.010004\n",
       "35        device_tablet  0.042665\n",
       "4              duration  0.026267\n",
       "25    education_Unknown  0.028535\n",
       "26    education_primary  0.011179\n",
       "27  education_secondary  0.011569\n",
       "28   education_tertiary  0.061816\n",
       "2               housing  0.033526\n",
       "10          job_Unknown  0.012662\n",
       "11           job_admin.  0.042862\n",
       "12      job_blue-collar  0.011875\n",
       "13     job_entrepreneur  0.023088\n",
       "14        job_housemaid  0.023371\n",
       "15       job_management  0.034483\n",
       "16          job_retired  0.034240\n",
       "17    job_self-employed  0.031746\n",
       "18         job_services  0.030302\n",
       "19          job_student  0.018871\n",
       "20       job_technician  0.023226\n",
       "21       job_unemployed  0.019503\n",
       "3                  loan  0.027466\n",
       "22     marital_divorced  0.018045\n",
       "23      marital_married  0.023575\n",
       "24       marital_single  0.017731\n",
       "0   number_transactions  0.060796\n",
       "6                 pdays  0.021061\n",
       "7              previous  0.027749\n",
       "9                tenure  0.033792\n",
       "8          term_deposit  0.022305"
      ]
     },
     "execution_count": 32,
     "metadata": {},
     "output_type": "execute_result"
    }
   ],
   "source": [
    "feature_scores = pd.concat([df_columns, df_scores], axis=1)\n",
    "feature_scores.columns = ['Features', 'Score'] \n",
    "feature_scores.sort_values(by = ['Features'], ascending = True)"
   ]
  },
  {
   "cell_type": "code",
   "execution_count": null,
   "id": "9ef2714e",
   "metadata": {},
   "outputs": [],
   "source": []
  }
 ],
 "metadata": {
  "kernelspec": {
   "display_name": "Python 3",
   "language": "python",
   "name": "python3"
  },
  "language_info": {
   "codemirror_mode": {
    "name": "ipython",
    "version": 3
   },
   "file_extension": ".py",
   "mimetype": "text/x-python",
   "name": "python",
   "nbconvert_exporter": "python",
   "pygments_lexer": "ipython3",
   "version": "3.8.10"
  }
 },
 "nbformat": 4,
 "nbformat_minor": 5
}
