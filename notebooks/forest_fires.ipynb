{
 "cells": [
  {
   "cell_type": "markdown",
   "metadata": {
    "collapsed": false,
    "pycharm": {
     "name": "#%% md\n"
    }
   },
   "source": [
    "# Forest fire model"
   ]
  },
  {
   "cell_type": "code",
   "execution_count": 1,
   "metadata": {
    "collapsed": false,
    "pycharm": {
     "name": "#%%\n"
    }
   },
   "outputs": [],
   "source": [
    "import pandas as pd\n",
    "import numpy as np\n",
    "import matplotlib.pyplot as plt\n",
    "from tabulate import tabulate\n",
    "\n",
    "plt.style.use('seaborn')\n",
    "import seaborn as sns\n",
    "from sklearn.preprocessing import LabelEncoder, StandardScaler, MinMaxScaler\n",
    "import plotly.express as px\n",
    "\n",
    "sns.set(rc={\"figure.figsize\": (20,10)})"
   ]
  },
  {
   "cell_type": "code",
   "execution_count": 2,
   "metadata": {
    "collapsed": false,
    "pycharm": {
     "name": "#%%\n"
    }
   },
   "outputs": [],
   "source": [
    "fire_data = pd.read_csv(\"https://raw.githubusercontent.com/shaq31415926/tub_advanced_ds/main/data/algerian_forest_fires.csv\")"
   ]
  },
  {
   "cell_type": "markdown",
   "metadata": {
    "collapsed": false,
    "pycharm": {
     "name": "#%% md\n"
    }
   },
   "source": [
    "## EDA"
   ]
  },
  {
   "cell_type": "code",
   "execution_count": 29,
   "outputs": [],
   "source": [
    "class EDA:\n",
    "    def __init__(self, csv_file):\n",
    "        self.target_type = None\n",
    "        self.target_var = None\n",
    "        self.df = pd.read_csv(csv_file)\n",
    "        self.rows = self.df.shape[0]\n",
    "        self.cols = self.df.shape[1]\n",
    "\n",
    "    def __repr__(self):\n",
    "        return f\"A dataframe with {self.rows} rows and {self.cols} columns\"\n",
    "\n",
    "    def summary(self):\n",
    "        self.print_header(\"Info\")\n",
    "        print(self.df.info())\n",
    "\n",
    "        self.print_header(\"Sample rows\")\n",
    "        print(self.df.sample(10))\n",
    "\n",
    "        self.print_header(\"Description\")\n",
    "        print(self.df.describe())\n",
    "        \n",
    "        self.print_header(\"Standard deviation\")\n",
    "        print(self.df.std())\n",
    "    \n",
    "    def info(self):\n",
    "        self.df.info()\n",
    "\n",
    "    def describe(self, include=\"all\"):\n",
    "        self.df.describe(datetime_is_numeric=True, include=include)\n",
    "\n",
    "    def std(self):\n",
    "        self.df.std()\n",
    "\n",
    "    def print_header(self, title, sep=\"__\", n_sep=15):\n",
    "        return print(f'{sep * n_sep} {title} {sep * n_sep} \\n')\n",
    "\n",
    "    def target(self, target_name: str, target_type:str) -> None:\n",
    "        \"\"\"\n",
    "        Sets the target variable\n",
    "        :param target_name: Name of target variable in dataset\n",
    "        :param target_type: Type of variable cat, contin\n",
    "        :return:\n",
    "        \"\"\"\n",
    "        try:\n",
    "            self.target_var = self.df[target_name]\n",
    "            self.target_type = target_type\n",
    "        except KeyError:\n",
    "            raise KeyError(\"Target variable not in Dataset\")\n",
    "\n",
    "    def plot_target(self):\n",
    "        \"\"\"\n",
    "        Plots distribution of the target variable\n",
    "        :return:\n",
    "        \"\"\"\n",
    "        if self.target_type == \"cat\":\n",
    "            self.target_var.value_counts().plot(kind=\"bar\")\n",
    "        else:\n",
    "            self.target_var.hist()\n",
    "\n",
    "    def num_cats(self):\n",
    "        self.df.select_dtypes(\"object\").nunique(dropna=False).sort_values(ascending=False)\n",
    "\n",
    "    def remove_cats(self, n_cats):\n",
    "        num_cats = self.num_cats()\n",
    "\n",
    "        print(num_cats > n_cats)\n",
    "    # @target.setter\n",
    "    # def target(self, target_name):\n",
    "    #     self.target = target_name\n",
    "    #\n",
    "    def identify_missing_data(self):\n",
    "        \"\"\"\n",
    "        This function is used to identify missing data\n",
    "\n",
    "        @param df pandas DataFrame\n",
    "\n",
    "        @return a DataFrame with the percentage of missing data for every feature and the data types\n",
    "        \"\"\"\n",
    "\n",
    "        percent_missing = self.df.isnull().mean()\n",
    "\n",
    "        missing_value_df = pd.DataFrame(percent_missing).reset_index()  # convert to DataFrame\n",
    "        missing_value_df = missing_value_df.rename(columns={\"index\": \"feature\",\n",
    "                                                            0: \"percent_missing\"})  # rename columns\n",
    "\n",
    "        missing_value_df = missing_value_df.sort_values(by=['percent_missing'], ascending=False)  # sort the values\n",
    "\n",
    "        data_types_df = pd.DataFrame(self.df.dtypes).reset_index().rename(columns={\"index\": \"feature\",\n",
    "                                                                              0: \"data_type\"})  # rename columns\n",
    "\n",
    "        missing_value_df = missing_value_df.merge(data_types_df, on=\"feature\")  # join the dataframe with datatype\n",
    "\n",
    "        missing_value_df.percent_missing = round(missing_value_df.percent_missing * 100, 2)  # format the percent_missing\n",
    "\n",
    "        return missing_value_df\n",
    "\n",
    "\n"
   ],
   "metadata": {
    "collapsed": false,
    "pycharm": {
     "name": "#%%\n"
    }
   }
  },
  {
   "cell_type": "code",
   "execution_count": 30,
   "outputs": [],
   "source": [
    "test = EDA(\"https://raw.githubusercontent.com/shaq31415926/tub_advanced_ds/main/data/algerian_forest_fires.csv\")\n",
    "test.target(\"FWI\", \"reg\")"
   ],
   "metadata": {
    "collapsed": false,
    "pycharm": {
     "name": "#%%\n"
    }
   }
  },
  {
   "cell_type": "code",
   "execution_count": 32,
   "outputs": [
    {
     "ename": "TypeError",
     "evalue": "'>' not supported between instances of 'NoneType' and 'int'",
     "output_type": "error",
     "traceback": [
      "\u001B[1;31m---------------------------------------------------------------------------\u001B[0m",
      "\u001B[1;31mTypeError\u001B[0m                                 Traceback (most recent call last)",
      "Input \u001B[1;32mIn [32]\u001B[0m, in \u001B[0;36m<cell line: 1>\u001B[1;34m()\u001B[0m\n\u001B[1;32m----> 1\u001B[0m \u001B[43mtest\u001B[49m\u001B[38;5;241;43m.\u001B[39;49m\u001B[43mremove_cats\u001B[49m\u001B[43m(\u001B[49m\u001B[38;5;241;43m10\u001B[39;49m\u001B[43m)\u001B[49m\n",
      "Input \u001B[1;32mIn [29]\u001B[0m, in \u001B[0;36mEDA.remove_cats\u001B[1;34m(self, n_cats)\u001B[0m\n\u001B[0;32m     63\u001B[0m \u001B[38;5;28;01mdef\u001B[39;00m \u001B[38;5;21mremove_cats\u001B[39m(\u001B[38;5;28mself\u001B[39m, n_cats):\n\u001B[0;32m     64\u001B[0m     num_cats \u001B[38;5;241m=\u001B[39m \u001B[38;5;28mself\u001B[39m\u001B[38;5;241m.\u001B[39mnum_cats()\n\u001B[1;32m---> 66\u001B[0m     \u001B[38;5;28mprint\u001B[39m(\u001B[43mnum_cats\u001B[49m\u001B[43m \u001B[49m\u001B[38;5;241;43m>\u001B[39;49m\u001B[43m \u001B[49m\u001B[43mn_cats\u001B[49m)\n",
      "\u001B[1;31mTypeError\u001B[0m: '>' not supported between instances of 'NoneType' and 'int'"
     ]
    }
   ],
   "source": [
    "test.remove_cats(10)"
   ],
   "metadata": {
    "collapsed": false,
    "pycharm": {
     "name": "#%%\n"
    }
   }
  },
  {
   "cell_type": "code",
   "execution_count": 25,
   "outputs": [
    {
     "data": {
      "text/plain": "<Figure size 1440x720 with 1 Axes>",
      "image/png": "[encoded data removed]"
     },
     "metadata": {},
     "output_type": "display_data"
    }
   ],
   "source": [
    "test.plot_target()"
   ],
   "metadata": {
    "collapsed": false,
    "pycharm": {
     "name": "#%%\n"
    }
   }
  },
  {
   "cell_type": "code",
   "execution_count": 23,
   "outputs": [
    {
     "name": "stdout",
     "output_type": "stream",
     "text": [
      "______________________________ Info ______________________________ \n",
      "\n",
      "<class 'pandas.core.frame.DataFrame'>\n",
      "RangeIndex: 243 entries, 0 to 242\n",
      "Data columns (total 14 columns):\n",
      " #   Column       Non-Null Count  Dtype  \n",
      "---  ------       --------------  -----  \n",
      " 0   day          243 non-null    int64  \n",
      " 1   month        243 non-null    int64  \n",
      " 2   year         243 non-null    int64  \n",
      " 3   Temperature  243 non-null    int64  \n",
      " 4   RH           243 non-null    int64  \n",
      " 5   Ws           243 non-null    int64  \n",
      " 6   Rain         243 non-null    float64\n",
      " 7   FFMC         243 non-null    float64\n",
      " 8   DMC          243 non-null    float64\n",
      " 9   DC           243 non-null    float64\n",
      " 10  ISI          243 non-null    float64\n",
      " 11  BUI          243 non-null    float64\n",
      " 12  FWI          243 non-null    float64\n",
      " 13  Classes      243 non-null    object \n",
      "dtypes: float64(7), int64(6), object(1)\n",
      "memory usage: 26.7+ KB\n",
      "None\n",
      "______________________________ Sample rows ______________________________ \n",
      "\n",
      "     day  month  year  Temperature  RH  Ws  Rain  FFMC   DMC    DC  ISI   BUI  \\\n",
      "27    28      6  2012           32  55  14   0.0  89.1  25.5  88.5  7.6  29.7   \n",
      "147   26      6  2012           36  62  16   0.0  87.8  16.5  34.5  7.0  16.4   \n",
      "49    20      7  2012           33  65  15   0.1  81.4  12.3  62.1  2.8  16.5   \n",
      "227   15      9  2012           32  51  13   0.0  88.7  16.0  50.2  6.9  17.8   \n",
      "191   10      8  2012           39  39  15   0.2  89.3  15.8  35.4  8.2  15.8   \n",
      "76    16      8  2012           36  61  18   0.3  80.2  11.7  90.4  2.8  17.6   \n",
      "1      2      6  2012           29  61  13   1.3  64.4   4.1   7.6  1.0   3.9   \n",
      "30     1      7  2012           29  68  19   1.0  59.9   2.5   8.6  1.1   2.9   \n",
      "218    6      9  2012           34  71  14   6.5  64.5   3.3   9.1  1.0   3.5   \n",
      "8      9      6  2012           25  88  13   0.2  52.9   7.9  38.8  0.4  10.5   \n",
      "\n",
      "      FWI   Classes  \n",
      "27   13.9      fire  \n",
      "147   9.5      fire  \n",
      "49    4.0      fire  \n",
      "227   9.8      fire  \n",
      "191  10.7      fire  \n",
      "76    4.2      fire  \n",
      "1     0.4  not fire  \n",
      "30    0.4  not fire  \n",
      "218   0.4  not fire  \n",
      "8     0.3  not fire  \n",
      "______________________________ Description ______________________________ \n",
      "\n",
      "              day       month    year  Temperature          RH          Ws  \\\n",
      "count  243.000000  243.000000   243.0   243.000000  243.000000  243.000000   \n",
      "mean    15.761317    7.502058  2012.0    32.152263   62.041152   15.493827   \n",
      "std      8.842552    1.114793     0.0     3.628039   14.828160    2.811385   \n",
      "min      1.000000    6.000000  2012.0    22.000000   21.000000    6.000000   \n",
      "25%      8.000000    7.000000  2012.0    30.000000   52.500000   14.000000   \n",
      "50%     16.000000    8.000000  2012.0    32.000000   63.000000   15.000000   \n",
      "75%     23.000000    8.000000  2012.0    35.000000   73.500000   17.000000   \n",
      "max     31.000000    9.000000  2012.0    42.000000   90.000000   29.000000   \n",
      "\n",
      "             Rain        FFMC         DMC          DC         ISI         BUI  \\\n",
      "count  243.000000  243.000000  243.000000  243.000000  243.000000  243.000000   \n",
      "mean     0.762963   77.842387   14.680658   49.430864    4.742387   16.690535   \n",
      "std      2.003207   14.349641   12.393040   47.665606    4.154234   14.228421   \n",
      "min      0.000000   28.600000    0.700000    6.900000    0.000000    1.100000   \n",
      "25%      0.000000   71.850000    5.800000   12.350000    1.400000    6.000000   \n",
      "50%      0.000000   83.300000   11.300000   33.100000    3.500000   12.400000   \n",
      "75%      0.500000   88.300000   20.800000   69.100000    7.250000   22.650000   \n",
      "max     16.800000   96.000000   65.900000  220.400000   19.000000   68.000000   \n",
      "\n",
      "              FWI  \n",
      "count  243.000000  \n",
      "mean     7.035391  \n",
      "std      7.440568  \n",
      "min      0.000000  \n",
      "25%      0.700000  \n",
      "50%      4.200000  \n",
      "75%     11.450000  \n",
      "max     31.100000  \n",
      "______________________________ Standard deviation ______________________________ \n",
      "\n",
      "day            8.842552e+00\n",
      "month          1.114793e+00\n",
      "year           2.278430e-13\n",
      "Temperature    3.628039e+00\n",
      "RH             1.482816e+01\n",
      "Ws             2.811385e+00\n",
      "Rain           2.003207e+00\n",
      "FFMC           1.434964e+01\n",
      "DMC            1.239304e+01\n",
      "DC             4.766561e+01\n",
      "ISI            4.154234e+00\n",
      "BUI            1.422842e+01\n",
      "FWI            7.440568e+00\n",
      "dtype: float64\n"
     ]
    },
    {
     "name": "stderr",
     "output_type": "stream",
     "text": [
      "C:\\Users\\terje\\AppData\\Local\\Temp\\ipykernel_12408\\394807670.py:23: FutureWarning: Dropping of nuisance columns in DataFrame reductions (with 'numeric_only=None') is deprecated; in a future version this will raise TypeError.  Select only valid columns before calling the reduction.\n",
      "  print(self.df.std())\n"
     ]
    }
   ],
   "source": [
    "test.summary()"
   ],
   "metadata": {
    "collapsed": false,
    "pycharm": {
     "name": "#%%\n"
    }
   }
  },
  {
   "cell_type": "code",
   "execution_count": null,
   "metadata": {
    "pycharm": {
     "name": "#%%\n"
    }
   },
   "outputs": [],
   "source": [
    "class EDA:\n",
    "    def __init__(self, csv_file):\n",
    "        self.df = pd.read_csv(csv_file)\n",
    "        self.rows = self.df.shape[0]\n",
    "        self.cols = self.df.shape[1]\n",
    "\n",
    "    def __repr__(self):\n",
    "        return f\"A dataframe with {self.rows} rows and {self.cols} columns\"\n",
    "\n",
    "    def summary(self):\n",
    "        print(self.df.info())\n",
    "        print(self.df.describe())\n",
    "        print(self.df.std())\n",
    "    \n",
    "    def info(self):\n",
    "        self.df.info()\n",
    "\n",
    "    def describe(self, include=\"all\"):\n",
    "        self.df.describe(datetime_is_numeric=True, include=include)\n",
    "\n",
    "    def std(self):\n",
    "        self.df.std()\n",
    "\n",
    "    \n",
    "\n",
    "\n",
    "    \n",
    "\n"
   ]
  },
  {
   "cell_type": "code",
   "execution_count": null,
   "metadata": {
    "pycharm": {
     "name": "#%%\n"
    }
   },
   "outputs": [],
   "source": [
    "test = EDA(\"https://raw.githubusercontent.com/shaq31415926/tub_advanced_ds/main/data/algerian_forest_fires.csv\")"
   ]
  },
  {
   "cell_type": "code",
   "execution_count": null,
   "metadata": {
    "pycharm": {
     "name": "#%%\n"
    }
   },
   "outputs": [],
   "source": [
    "test.summary()"
   ]
  },
  {
   "cell_type": "code",
   "execution_count": null,
   "metadata": {
    "collapsed": false,
    "pycharm": {
     "name": "#%%\n"
    }
   },
   "outputs": [],
   "source": [
    "fire_data.info()"
   ]
  },
  {
   "cell_type": "code",
   "execution_count": null,
   "metadata": {
    "collapsed": false,
    "pycharm": {
     "name": "#%%\n"
    }
   },
   "outputs": [],
   "source": [
    "fire_data.describe(datetime_is_numeric=True, include=\"all\")"
   ]
  },
  {
   "cell_type": "code",
   "execution_count": null,
   "metadata": {
    "collapsed": false,
    "pycharm": {
     "name": "#%%\n"
    }
   },
   "outputs": [],
   "source": [
    "fire_data.sample(10)"
   ]
  },
  {
   "cell_type": "code",
   "execution_count": null,
   "metadata": {
    "collapsed": false,
    "pycharm": {
     "name": "#%%\n"
    }
   },
   "outputs": [],
   "source": [
    "fire_data.std()"
   ]
  },
  {
   "cell_type": "code",
   "execution_count": null,
   "metadata": {
    "collapsed": false,
    "pycharm": {
     "name": "#%%\n"
    }
   },
   "outputs": [],
   "source": [
    "fire_data_clean = fire_data.drop(columns=\"year\")"
   ]
  },
  {
   "cell_type": "markdown",
   "metadata": {
    "collapsed": false,
    "pycharm": {
     "name": "#%% md\n"
    }
   },
   "source": [
    "### Exploring target"
   ]
  },
  {
   "cell_type": "code",
   "execution_count": null,
   "metadata": {
    "collapsed": false,
    "pycharm": {
     "name": "#%%\n"
    }
   },
   "outputs": [],
   "source": [
    "target = fire_data_clean[\"Classes\"]\n",
    "\n",
    "target.value_counts(normalize=True)"
   ]
  },
  {
   "cell_type": "code",
   "execution_count": null,
   "metadata": {
    "collapsed": false,
    "pycharm": {
     "name": "#%%\n"
    }
   },
   "outputs": [],
   "source": [
    "px.bar(target.value_counts())"
   ]
  },
  {
   "cell_type": "code",
   "execution_count": null,
   "metadata": {
    "collapsed": false,
    "pycharm": {
     "name": "#%%\n"
    }
   },
   "outputs": [],
   "source": [
    "fire_data_clean.hist(figsize=(20,10))"
   ]
  },
  {
   "cell_type": "code",
   "execution_count": null,
   "metadata": {
    "collapsed": false,
    "pycharm": {
     "name": "#%%\n"
    }
   },
   "outputs": [],
   "source": [
    "corrs = fire_data_clean.corr()\n",
    "sns.heatmap(corrs, annot=True,\n",
    "            linewidth=0.75,\n",
    "            linecolor='black',\n",
    "            cbar=False,\n",
    "            # cbar_kws={\"orientation\": \"horizontal\"},\n",
    "            vmin=-1,\n",
    "            vmax=1,\n",
    "            annot_kws={\"size\": 12, \"color\": \"black\"})\n",
    "plt.tick_params(labelsize=14, rotation=45)\n",
    "plt.title(\"Correlation Plot\", size=14);"
   ]
  },
  {
   "cell_type": "code",
   "execution_count": 71,
   "metadata": {
    "collapsed": false,
    "pycharm": {
     "name": "#%%\n"
    }
   },
   "outputs": [],
   "source": [
    "def drop_correlated(df: pd.DataFrame, threshold: float = 0.6) -> pd.DataFrame:\n",
    "    df = df.copy()\n",
    "    corr_matrix = df.corr().abs()\n",
    "\n",
    "    # Select upper triangle of correlation matrix\n",
    "    upper = corr_matrix.where(np.triu(np.ones(corr_matrix.shape), k=1).astype(bool))\n",
    "\n",
    "    # Find features with correlation greater than 0.95\n",
    "    to_drop = [column for column in upper.columns if any(upper[column] > threshold)]\n",
    "    print(f\"Removed the following columns {','.join(to_drop)} due to high correlation\")\n",
    "\n",
    "    return df.drop(columns=to_drop)"
   ]
  },
  {
   "cell_type": "code",
   "execution_count": 76,
   "metadata": {
    "collapsed": false,
    "pycharm": {
     "name": "#%%\n"
    }
   },
   "outputs": [
    {
     "data": {
      "text/plain": [
       "(13, 13)"
      ]
     },
     "execution_count": 76,
     "metadata": {},
     "output_type": "execute_result"
    }
   ],
   "source": [
    "fire_data.corr().shape"
   ]
  },
  {
   "cell_type": "code",
   "execution_count": 72,
   "metadata": {
    "collapsed": false,
    "pycharm": {
     "name": "#%%\n"
    }
   },
   "outputs": [
    {
     "name": "stdout",
     "output_type": "stream",
     "text": [
      "Removed the following columns RH,FFMC,DMC,DC,ISI,BUI,FWI due to high correlation\n"
     ]
    },
    {
     "data": {
      "text/html": [
       "<div>\n",
       "<style scoped>\n",
       "    .dataframe tbody tr th:only-of-type {\n",
       "        vertical-align: middle;\n",
       "    }\n",
       "\n",
       "    .dataframe tbody tr th {\n",
       "        vertical-align: top;\n",
       "    }\n",
       "\n",
       "    .dataframe thead th {\n",
       "        text-align: right;\n",
       "    }\n",
       "</style>\n",
       "<table border=\"1\" class=\"dataframe\">\n",
       "  <thead>\n",
       "    <tr style=\"text-align: right;\">\n",
       "      <th></th>\n",
       "      <th>day</th>\n",
       "      <th>month</th>\n",
       "      <th>year</th>\n",
       "      <th>Temperature</th>\n",
       "      <th>Ws</th>\n",
       "      <th>Rain</th>\n",
       "      <th>Classes</th>\n",
       "    </tr>\n",
       "  </thead>\n",
       "  <tbody>\n",
       "    <tr>\n",
       "      <th>0</th>\n",
       "      <td>1</td>\n",
       "      <td>6</td>\n",
       "      <td>2012</td>\n",
       "      <td>29</td>\n",
       "      <td>18</td>\n",
       "      <td>0.0</td>\n",
       "      <td>not fire</td>\n",
       "    </tr>\n",
       "    <tr>\n",
       "      <th>1</th>\n",
       "      <td>2</td>\n",
       "      <td>6</td>\n",
       "      <td>2012</td>\n",
       "      <td>29</td>\n",
       "      <td>13</td>\n",
       "      <td>1.3</td>\n",
       "      <td>not fire</td>\n",
       "    </tr>\n",
       "    <tr>\n",
       "      <th>2</th>\n",
       "      <td>3</td>\n",
       "      <td>6</td>\n",
       "      <td>2012</td>\n",
       "      <td>26</td>\n",
       "      <td>22</td>\n",
       "      <td>13.1</td>\n",
       "      <td>not fire</td>\n",
       "    </tr>\n",
       "    <tr>\n",
       "      <th>3</th>\n",
       "      <td>4</td>\n",
       "      <td>6</td>\n",
       "      <td>2012</td>\n",
       "      <td>25</td>\n",
       "      <td>13</td>\n",
       "      <td>2.5</td>\n",
       "      <td>not fire</td>\n",
       "    </tr>\n",
       "    <tr>\n",
       "      <th>4</th>\n",
       "      <td>5</td>\n",
       "      <td>6</td>\n",
       "      <td>2012</td>\n",
       "      <td>27</td>\n",
       "      <td>16</td>\n",
       "      <td>0.0</td>\n",
       "      <td>not fire</td>\n",
       "    </tr>\n",
       "    <tr>\n",
       "      <th>...</th>\n",
       "      <td>...</td>\n",
       "      <td>...</td>\n",
       "      <td>...</td>\n",
       "      <td>...</td>\n",
       "      <td>...</td>\n",
       "      <td>...</td>\n",
       "      <td>...</td>\n",
       "    </tr>\n",
       "    <tr>\n",
       "      <th>238</th>\n",
       "      <td>26</td>\n",
       "      <td>9</td>\n",
       "      <td>2012</td>\n",
       "      <td>30</td>\n",
       "      <td>14</td>\n",
       "      <td>0.0</td>\n",
       "      <td>fire</td>\n",
       "    </tr>\n",
       "    <tr>\n",
       "      <th>239</th>\n",
       "      <td>27</td>\n",
       "      <td>9</td>\n",
       "      <td>2012</td>\n",
       "      <td>28</td>\n",
       "      <td>15</td>\n",
       "      <td>4.4</td>\n",
       "      <td>not fire</td>\n",
       "    </tr>\n",
       "    <tr>\n",
       "      <th>240</th>\n",
       "      <td>28</td>\n",
       "      <td>9</td>\n",
       "      <td>2012</td>\n",
       "      <td>27</td>\n",
       "      <td>29</td>\n",
       "      <td>0.5</td>\n",
       "      <td>not fire</td>\n",
       "    </tr>\n",
       "    <tr>\n",
       "      <th>241</th>\n",
       "      <td>29</td>\n",
       "      <td>9</td>\n",
       "      <td>2012</td>\n",
       "      <td>24</td>\n",
       "      <td>18</td>\n",
       "      <td>0.1</td>\n",
       "      <td>not fire</td>\n",
       "    </tr>\n",
       "    <tr>\n",
       "      <th>242</th>\n",
       "      <td>30</td>\n",
       "      <td>9</td>\n",
       "      <td>2012</td>\n",
       "      <td>24</td>\n",
       "      <td>15</td>\n",
       "      <td>0.2</td>\n",
       "      <td>not fire</td>\n",
       "    </tr>\n",
       "  </tbody>\n",
       "</table>\n",
       "<p>243 rows × 7 columns</p>\n",
       "</div>"
      ],
      "text/plain": [
       "     day  month  year  Temperature  Ws  Rain   Classes\n",
       "0      1      6  2012           29  18   0.0  not fire\n",
       "1      2      6  2012           29  13   1.3  not fire\n",
       "2      3      6  2012           26  22  13.1  not fire\n",
       "3      4      6  2012           25  13   2.5  not fire\n",
       "4      5      6  2012           27  16   0.0  not fire\n",
       "..   ...    ...   ...          ...  ..   ...       ...\n",
       "238   26      9  2012           30  14   0.0      fire\n",
       "239   27      9  2012           28  15   4.4  not fire\n",
       "240   28      9  2012           27  29   0.5  not fire\n",
       "241   29      9  2012           24  18   0.1  not fire\n",
       "242   30      9  2012           24  15   0.2  not fire\n",
       "\n",
       "[243 rows x 7 columns]"
      ]
     },
     "execution_count": 72,
     "metadata": {},
     "output_type": "execute_result"
    }
   ],
   "source": [
    "drop_correlated(fire_data)"
   ]
  }
 ],
 "metadata": {
  "interpreter": {
   "hash": "12e8015224a131ff4231ea75d36f26101e7bfede757bfdc025f1e8b46096a2ba"
  },
  "kernelspec": {
   "display_name": "Python 3.9.12 ('base')",
   "language": "python",
   "name": "python3"
  },
  "language_info": {
   "codemirror_mode": {
    "name": "ipython",
    "version": 3
   },
   "file_extension": ".py",
   "mimetype": "text/x-python",
   "name": "python",
   "nbconvert_exporter": "python",
   "pygments_lexer": "ipython3",
   "version": "3.9.12"
  }
 },
 "nbformat": 4,
 "nbformat_minor": 0
}