{
 "cells": [
  {
   "cell_type": "code",
   "execution_count": 2,
   "id": "a0b114f2",
   "metadata": {},
   "outputs": [],
   "source": [
    "import pandas as pd\n",
    "import numpy as np\n",
    "\n",
    "import seaborn as sns\n",
    "import matplotlib.pyplot as plt\n",
    "\n",
    "from sklearn.model_selection import train_test_split \n",
    "from sklearn.linear_model import LinearRegression\n",
    "from sklearn.preprocessing import StandardScaler\n",
    "from sklearn.metrics import r2_score, mean_squared_error"
   ]
  },
  {
   "cell_type": "code",
   "execution_count": 8,
   "id": "e89a9c6d",
   "metadata": {},
   "outputs": [
    {
     "data": {
      "text/html": [
       "<div>\n",
       "<style scoped>\n",
       "    .dataframe tbody tr th:only-of-type {\n",
       "        vertical-align: middle;\n",
       "    }\n",
       "\n",
       "    .dataframe tbody tr th {\n",
       "        vertical-align: top;\n",
       "    }\n",
       "\n",
       "    .dataframe thead th {\n",
       "        text-align: right;\n",
       "    }\n",
       "</style>\n",
       "<table border=\"1\" class=\"dataframe\">\n",
       "  <thead>\n",
       "    <tr style=\"text-align: right;\">\n",
       "      <th></th>\n",
       "      <th>number_transactions</th>\n",
       "      <th>total_amount_usd</th>\n",
       "      <th>age</th>\n",
       "      <th>housing</th>\n",
       "      <th>loan</th>\n",
       "      <th>duration</th>\n",
       "      <th>campaign</th>\n",
       "      <th>pdays</th>\n",
       "      <th>previous</th>\n",
       "      <th>term_deposit</th>\n",
       "      <th>...</th>\n",
       "      <th>education_primary</th>\n",
       "      <th>education_secondary</th>\n",
       "      <th>education_tertiary</th>\n",
       "      <th>contact_Unknown</th>\n",
       "      <th>contact_cellular</th>\n",
       "      <th>contact_telephone</th>\n",
       "      <th>device_Unknown</th>\n",
       "      <th>device_desktop</th>\n",
       "      <th>device_mobile</th>\n",
       "      <th>device_tablet</th>\n",
       "    </tr>\n",
       "  </thead>\n",
       "  <tbody>\n",
       "    <tr>\n",
       "      <th>0</th>\n",
       "      <td>3.0</td>\n",
       "      <td>2143.0</td>\n",
       "      <td>58</td>\n",
       "      <td>True</td>\n",
       "      <td>False</td>\n",
       "      <td>261</td>\n",
       "      <td>1</td>\n",
       "      <td>-1</td>\n",
       "      <td>0</td>\n",
       "      <td>False</td>\n",
       "      <td>...</td>\n",
       "      <td>0</td>\n",
       "      <td>0</td>\n",
       "      <td>1</td>\n",
       "      <td>1</td>\n",
       "      <td>0</td>\n",
       "      <td>0</td>\n",
       "      <td>0</td>\n",
       "      <td>0</td>\n",
       "      <td>1</td>\n",
       "      <td>0</td>\n",
       "    </tr>\n",
       "    <tr>\n",
       "      <th>1</th>\n",
       "      <td>0.0</td>\n",
       "      <td>0.0</td>\n",
       "      <td>44</td>\n",
       "      <td>True</td>\n",
       "      <td>False</td>\n",
       "      <td>151</td>\n",
       "      <td>1</td>\n",
       "      <td>-1</td>\n",
       "      <td>0</td>\n",
       "      <td>False</td>\n",
       "      <td>...</td>\n",
       "      <td>0</td>\n",
       "      <td>1</td>\n",
       "      <td>0</td>\n",
       "      <td>1</td>\n",
       "      <td>0</td>\n",
       "      <td>0</td>\n",
       "      <td>0</td>\n",
       "      <td>1</td>\n",
       "      <td>0</td>\n",
       "      <td>0</td>\n",
       "    </tr>\n",
       "    <tr>\n",
       "      <th>2</th>\n",
       "      <td>2.0</td>\n",
       "      <td>2.0</td>\n",
       "      <td>33</td>\n",
       "      <td>True</td>\n",
       "      <td>True</td>\n",
       "      <td>76</td>\n",
       "      <td>1</td>\n",
       "      <td>-1</td>\n",
       "      <td>0</td>\n",
       "      <td>False</td>\n",
       "      <td>...</td>\n",
       "      <td>0</td>\n",
       "      <td>1</td>\n",
       "      <td>0</td>\n",
       "      <td>1</td>\n",
       "      <td>0</td>\n",
       "      <td>0</td>\n",
       "      <td>0</td>\n",
       "      <td>0</td>\n",
       "      <td>1</td>\n",
       "      <td>0</td>\n",
       "    </tr>\n",
       "    <tr>\n",
       "      <th>3</th>\n",
       "      <td>0.0</td>\n",
       "      <td>0.0</td>\n",
       "      <td>47</td>\n",
       "      <td>True</td>\n",
       "      <td>False</td>\n",
       "      <td>92</td>\n",
       "      <td>1</td>\n",
       "      <td>-1</td>\n",
       "      <td>0</td>\n",
       "      <td>False</td>\n",
       "      <td>...</td>\n",
       "      <td>0</td>\n",
       "      <td>0</td>\n",
       "      <td>0</td>\n",
       "      <td>1</td>\n",
       "      <td>0</td>\n",
       "      <td>0</td>\n",
       "      <td>0</td>\n",
       "      <td>0</td>\n",
       "      <td>0</td>\n",
       "      <td>1</td>\n",
       "    </tr>\n",
       "    <tr>\n",
       "      <th>4</th>\n",
       "      <td>1.0</td>\n",
       "      <td>1.0</td>\n",
       "      <td>33</td>\n",
       "      <td>False</td>\n",
       "      <td>False</td>\n",
       "      <td>198</td>\n",
       "      <td>1</td>\n",
       "      <td>-1</td>\n",
       "      <td>0</td>\n",
       "      <td>False</td>\n",
       "      <td>...</td>\n",
       "      <td>0</td>\n",
       "      <td>0</td>\n",
       "      <td>0</td>\n",
       "      <td>1</td>\n",
       "      <td>0</td>\n",
       "      <td>0</td>\n",
       "      <td>0</td>\n",
       "      <td>0</td>\n",
       "      <td>1</td>\n",
       "      <td>0</td>\n",
       "    </tr>\n",
       "  </tbody>\n",
       "</table>\n",
       "<p>5 rows × 37 columns</p>\n",
       "</div>"
      ],
      "text/plain": [
       "   number_transactions  total_amount_usd  age  housing   loan  duration  \\\n",
       "0                  3.0            2143.0   58     True  False       261   \n",
       "1                  0.0               0.0   44     True  False       151   \n",
       "2                  2.0               2.0   33     True   True        76   \n",
       "3                  0.0               0.0   47     True  False        92   \n",
       "4                  1.0               1.0   33    False  False       198   \n",
       "\n",
       "   campaign  pdays  previous  term_deposit  ...  education_primary  \\\n",
       "0         1     -1         0         False  ...                  0   \n",
       "1         1     -1         0         False  ...                  0   \n",
       "2         1     -1         0         False  ...                  0   \n",
       "3         1     -1         0         False  ...                  0   \n",
       "4         1     -1         0         False  ...                  0   \n",
       "\n",
       "   education_secondary  education_tertiary  contact_Unknown  contact_cellular  \\\n",
       "0                    0                   1                1                 0   \n",
       "1                    1                   0                1                 0   \n",
       "2                    1                   0                1                 0   \n",
       "3                    0                   0                1                 0   \n",
       "4                    0                   0                1                 0   \n",
       "\n",
       "   contact_telephone  device_Unknown  device_desktop  device_mobile  \\\n",
       "0                  0               0               0              1   \n",
       "1                  0               0               1              0   \n",
       "2                  0               0               0              1   \n",
       "3                  0               0               0              0   \n",
       "4                  0               0               0              1   \n",
       "\n",
       "   device_tablet  \n",
       "0              0  \n",
       "1              0  \n",
       "2              0  \n",
       "3              1  \n",
       "4              0  \n",
       "\n",
       "[5 rows x 37 columns]"
      ]
     },
     "execution_count": 8,
     "metadata": {},
     "output_type": "execute_result"
    }
   ],
   "source": [
    "# load data\n",
    "\n",
    "users_data = pd.read_pickle(\"../data/users_data_cleaned_and_encoded.pkl\")\n",
    "users_data.head()"
   ]
  },
  {
   "cell_type": "code",
   "execution_count": 9,
   "id": "9088f51c",
   "metadata": {},
   "outputs": [
    {
     "data": {
      "text/plain": [
       "(45179, 37)"
      ]
     },
     "execution_count": 9,
     "metadata": {},
     "output_type": "execute_result"
    }
   ],
   "source": [
    "users_data.shape"
   ]
  },
  {
   "cell_type": "code",
   "execution_count": 10,
   "id": "b9cc6cfc",
   "metadata": {},
   "outputs": [
    {
     "name": "stdout",
     "output_type": "stream",
     "text": [
      "<class 'pandas.core.frame.DataFrame'>\n",
      "Int64Index: 45179 entries, 0 to 45215\n",
      "Data columns (total 37 columns):\n",
      " #   Column               Non-Null Count  Dtype  \n",
      "---  ------               --------------  -----  \n",
      " 0   number_transactions  45179 non-null  float64\n",
      " 1   total_amount_usd     45179 non-null  float64\n",
      " 2   age                  45179 non-null  int64  \n",
      " 3   housing              45179 non-null  bool   \n",
      " 4   loan                 45179 non-null  bool   \n",
      " 5   duration             45179 non-null  int64  \n",
      " 6   campaign             45179 non-null  int64  \n",
      " 7   pdays                45179 non-null  int64  \n",
      " 8   previous             45179 non-null  int64  \n",
      " 9   term_deposit         45179 non-null  bool   \n",
      " 10  tenure               45179 non-null  int64  \n",
      " 11  job_Unknown          45179 non-null  uint8  \n",
      " 12  job_admin.           45179 non-null  uint8  \n",
      " 13  job_blue-collar      45179 non-null  uint8  \n",
      " 14  job_entrepreneur     45179 non-null  uint8  \n",
      " 15  job_housemaid        45179 non-null  uint8  \n",
      " 16  job_management       45179 non-null  uint8  \n",
      " 17  job_retired          45179 non-null  uint8  \n",
      " 18  job_self-employed    45179 non-null  uint8  \n",
      " 19  job_services         45179 non-null  uint8  \n",
      " 20  job_student          45179 non-null  uint8  \n",
      " 21  job_technician       45179 non-null  uint8  \n",
      " 22  job_unemployed       45179 non-null  uint8  \n",
      " 23  marital_divorced     45179 non-null  uint8  \n",
      " 24  marital_married      45179 non-null  uint8  \n",
      " 25  marital_single       45179 non-null  uint8  \n",
      " 26  education_Unknown    45179 non-null  uint8  \n",
      " 27  education_primary    45179 non-null  uint8  \n",
      " 28  education_secondary  45179 non-null  uint8  \n",
      " 29  education_tertiary   45179 non-null  uint8  \n",
      " 30  contact_Unknown      45179 non-null  uint8  \n",
      " 31  contact_cellular     45179 non-null  uint8  \n",
      " 32  contact_telephone    45179 non-null  uint8  \n",
      " 33  device_Unknown       45179 non-null  uint8  \n",
      " 34  device_desktop       45179 non-null  uint8  \n",
      " 35  device_mobile        45179 non-null  uint8  \n",
      " 36  device_tablet        45179 non-null  uint8  \n",
      "dtypes: bool(3), float64(2), int64(6), uint8(26)\n",
      "memory usage: 4.4 MB\n"
     ]
    }
   ],
   "source": [
    "users_data.info()"
   ]
  },
  {
   "cell_type": "code",
   "execution_count": 11,
   "id": "ae1143b9",
   "metadata": {},
   "outputs": [],
   "source": [
    "# define our X and y\n",
    "\n",
    "target = users_data.total_amount_usd\n",
    "features = users_data.drop(['total_amount_usd'], axis = 1)"
   ]
  },
  {
   "cell_type": "code",
   "execution_count": 5,
   "id": "f77e0616",
   "metadata": {},
   "outputs": [
    {
     "data": {
      "text/plain": [
       "(45179,)"
      ]
     },
     "execution_count": 5,
     "metadata": {},
     "output_type": "execute_result"
    }
   ],
   "source": [
    "target.shape"
   ]
  },
  {
   "cell_type": "code",
   "execution_count": 6,
   "id": "81eb3913",
   "metadata": {},
   "outputs": [
    {
     "data": {
      "text/plain": [
       "0        2143.0\n",
       "1           0.0\n",
       "2           2.0\n",
       "3           0.0\n",
       "4           1.0\n",
       "          ...  \n",
       "45211     825.0\n",
       "45212    1729.0\n",
       "45213    5715.0\n",
       "45214       0.0\n",
       "45215    2971.0\n",
       "Name: total_amount_usd, Length: 45179, dtype: float64"
      ]
     },
     "execution_count": 6,
     "metadata": {},
     "output_type": "execute_result"
    }
   ],
   "source": [
    "target"
   ]
  },
  {
   "cell_type": "code",
   "execution_count": 7,
   "id": "05042bed",
   "metadata": {},
   "outputs": [
    {
     "data": {
      "text/plain": [
       "(45179, 36)"
      ]
     },
     "execution_count": 7,
     "metadata": {},
     "output_type": "execute_result"
    }
   ],
   "source": [
    "features.shape"
   ]
  },
  {
   "cell_type": "code",
   "execution_count": 8,
   "id": "2634163c",
   "metadata": {},
   "outputs": [],
   "source": [
    "# split the data into train and test\n",
    "\n",
    "X_train, X_test, y_train, y_test = train_test_split(\n",
    "                                                features, \n",
    "                                                target,\n",
    "                                                test_size = 0.3, \n",
    "                                                random_state = 0)"
   ]
  },
  {
   "cell_type": "code",
   "execution_count": 9,
   "id": "7340d136",
   "metadata": {},
   "outputs": [
    {
     "name": "stdout",
     "output_type": "stream",
     "text": [
      "Training Data\n",
      "X_train shape: (31625, 36)\n",
      "y_train shape: (31625,)\n"
     ]
    }
   ],
   "source": [
    "# print the shape of the training data\n",
    "\n",
    "print(\"Training Data\")\n",
    "print(\"X_train shape:\", X_train.shape)\n",
    "print(\"y_train shape:\", y_train.shape)\n",
    "\n",
    "# question how rows and columns does the training have"
   ]
  },
  {
   "cell_type": "code",
   "execution_count": 10,
   "id": "a848e67a",
   "metadata": {},
   "outputs": [
    {
     "name": "stdout",
     "output_type": "stream",
     "text": [
      "Test Data\n",
      "X_test shape: (13554, 36)\n",
      "y_test shape: (13554,)\n"
     ]
    }
   ],
   "source": [
    "# print the shape of the test data \n",
    "\n",
    "print(\"Test Data\")\n",
    "print(\"X_test shape:\", X_test.shape)\n",
    "print(\"y_test shape:\", y_test.shape)"
   ]
  },
  {
   "cell_type": "code",
   "execution_count": 11,
   "id": "a8566be4",
   "metadata": {},
   "outputs": [],
   "source": [
    "# scale the data using MinMax or StandardScaler\n",
    "\n",
    "scaler = StandardScaler()\n",
    "scaler.fit(X_train)\n",
    "\n",
    "# transform training data\n",
    "X_train_scaled = scaler.transform(X_train)\n"
   ]
  },
  {
   "cell_type": "code",
   "execution_count": 12,
   "id": "540b8b19",
   "metadata": {},
   "outputs": [
    {
     "data": {
      "text/plain": [
       "array([[-0.02478743, -1.11890607,  0.89325054, ...,  1.65996754,\n",
       "        -1.24606087, -0.3750015 ],\n",
       "       [-0.02478743, -0.64819899,  0.89325054, ...,  1.65996754,\n",
       "        -1.24606087, -0.3750015 ],\n",
       "       [-0.29260512,  0.48149799, -1.11950674, ..., -0.60242142,\n",
       "         0.80252901, -0.3750015 ],\n",
       "       ...,\n",
       "       [-0.8282405 ,  0.01079091,  0.89325054, ..., -0.60242142,\n",
       "         0.80252901, -0.3750015 ],\n",
       "       [-0.02478743, -0.36577475, -1.11950674, ..., -0.60242142,\n",
       "         0.80252901, -0.3750015 ],\n",
       "       [-0.29260512,  0.10493233,  0.89325054, ..., -0.60242142,\n",
       "        -1.24606087,  2.66665598]])"
      ]
     },
     "execution_count": 12,
     "metadata": {},
     "output_type": "execute_result"
    }
   ],
   "source": [
    "X_train_scaled"
   ]
  },
  {
   "cell_type": "code",
   "execution_count": 13,
   "id": "22fda185",
   "metadata": {},
   "outputs": [
    {
     "data": {
      "text/plain": [
       "LinearRegression()"
      ]
     },
     "execution_count": 13,
     "metadata": {},
     "output_type": "execute_result"
    }
   ],
   "source": [
    "# Import the Linear Regression model from sklearn and call it lr\n",
    "\n",
    "lr = LinearRegression()\n",
    "lr"
   ]
  },
  {
   "cell_type": "code",
   "execution_count": 14,
   "id": "e1efa1e8",
   "metadata": {},
   "outputs": [
    {
     "data": {
      "text/plain": [
       "LinearRegression()"
      ]
     },
     "execution_count": 14,
     "metadata": {},
     "output_type": "execute_result"
    }
   ],
   "source": [
    "# Fit the model on the \"training data\"\n",
    "\n",
    "lr.fit(X_train_scaled, y_train) \n",
    "\n",
    "# OUR MACHINE LEARNING MODEL"
   ]
  },
  {
   "cell_type": "code",
   "execution_count": 13,
   "id": "c172dc85",
   "metadata": {},
   "outputs": [
    {
     "data": {
      "text/plain": [
       "6317     1196.0\n",
       "16336     566.0\n",
       "15161       0.0\n",
       "43527    4833.0\n",
       "13686       3.0\n",
       "          ...  \n",
       "35887       0.0\n",
       "3566        0.0\n",
       "15660     158.0\n",
       "15823    2105.0\n",
       "17226     373.0\n",
       "Name: total_amount_usd, Length: 13554, dtype: float64"
      ]
     },
     "execution_count": 13,
     "metadata": {},
     "output_type": "execute_result"
    }
   ],
   "source": [
    "y_test"
   ]
  },
  {
   "cell_type": "code",
   "execution_count": 15,
   "id": "e4e52dfe",
   "metadata": {},
   "outputs": [
    {
     "data": {
      "text/plain": [
       "array([1.41782789e+15, 1.18532743e+15, 1.38358775e+15, ...,\n",
       "       9.05582075e+14, 2.94497891e+14, 1.47402445e+15])"
      ]
     },
     "execution_count": 15,
     "metadata": {},
     "output_type": "execute_result"
    }
   ],
   "source": [
    "# Evaluate how well the model predicts on unseen data aka \"test data\"\n",
    "\n",
    "y_pred = lr.predict(X_test) \n",
    "y_pred"
   ]
  },
  {
   "cell_type": "code",
   "execution_count": 16,
   "id": "9d455949",
   "metadata": {},
   "outputs": [
    {
     "name": "stdout",
     "output_type": "stream",
     "text": [
      "first five predicted total amounts: [1.41782789e+15 1.18532743e+15 1.38358775e+15 9.66089258e+14\n",
      " 1.20580706e+15]\n",
      "first five actual total amounts: [1196.0, 566.0, 0.0, 4833.0, 3.0]\n"
     ]
    }
   ],
   "source": [
    "print(\"first five predicted total amounts:\", y_pred[0:5])\n",
    "print(\"first five actual total amounts:\", list(y_test[0:5]))"
   ]
  },
  {
   "cell_type": "code",
   "execution_count": 17,
   "id": "ae8dba0c",
   "metadata": {},
   "outputs": [
    {
     "data": {
      "image/png": "[encoded data removed]",
      "text/plain": [
       "<Figure size 720x360 with 1 Axes>"
      ]
     },
     "metadata": {
      "needs_background": "light"
     },
     "output_type": "display_data"
    }
   ],
   "source": [
    "# residual plot\n",
    "\n",
    "plt.rcParams[\"figure.figsize\"] = (10,5)\n",
    "\n",
    "residuals = y_test - y_pred\n",
    "\n",
    "plt.scatter(residuals, y_pred)\n",
    "plt.title(\"Residual Plot for the Linear Regression Model\")\n",
    "plt.xlabel(\"Residuals\")\n",
    "plt.ylabel(\"Predicted Value\")\n",
    "plt.show();\n",
    "\n",
    "# we want them the points to be centred around 0"
   ]
  },
  {
   "cell_type": "code",
   "execution_count": 18,
   "id": "f077f1b2",
   "metadata": {},
   "outputs": [
    {
     "data": {
      "text/plain": [
       "-2.5243529622323794e+23"
      ]
     },
     "execution_count": 18,
     "metadata": {},
     "output_type": "execute_result"
    }
   ],
   "source": [
    "# We will use r2 to evaluating the model performance.\n",
    "\n",
    "r2_score(y_test, y_pred)\n",
    "\n",
    "# R^2 (coefficient of determination) regression score function.\n",
    "# Best possible score is 1.0 and it can be negative (because the model can be arbitrarily worse). \n",
    "\n",
    "# Our r2 sucks. Can we improve this score? Can you try without scaling?\n",
    "# which assumptions are we violating?"
   ]
  },
  {
   "cell_type": "code",
   "execution_count": 18,
   "id": "c41ee0cb",
   "metadata": {},
   "outputs": [
    {
     "data": {
      "text/plain": [
       "-2.5243529622324113e+23"
      ]
     },
     "execution_count": 18,
     "metadata": {},
     "output_type": "execute_result"
    }
   ],
   "source": [
    "r2_score(y_test, y_pred)"
   ]
  },
  {
   "cell_type": "code",
   "execution_count": 19,
   "id": "73ca1f0a",
   "metadata": {},
   "outputs": [
    {
     "name": "stdout",
     "output_type": "stream",
     "text": [
      "Mean Squared Error: 1800227472610620335817469460480\n"
     ]
    }
   ],
   "source": [
    "mse = mean_squared_error(y_test, y_pred)\n",
    "print(\"Mean Squared Error:\", round(mse))"
   ]
  }
 ],
 "metadata": {
  "kernelspec": {
   "display_name": "Python 3",
   "language": "python",
   "name": "python3"
  },
  "language_info": {
   "codemirror_mode": {
    "name": "ipython",
    "version": 3
   },
   "file_extension": ".py",
   "mimetype": "text/x-python",
   "name": "python",
   "nbconvert_exporter": "python",
   "pygments_lexer": "ipython3",
   "version": "3.8.10"
  }
 },
 "nbformat": 4,
 "nbformat_minor": 5
}