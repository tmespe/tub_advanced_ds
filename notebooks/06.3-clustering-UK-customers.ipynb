{
 "cells": [
  {
   "cell_type": "code",
   "execution_count": 2,
   "id": "d1fdb469",
   "metadata": {},
   "outputs": [],
   "source": [
    "# import libraries\n",
    "\n",
    "import pandas as pd\n",
    "import numpy as np\n",
    "import matplotlib.pyplot as plt\n",
    "import seaborn as sns"
   ]
  },
  {
   "cell_type": "code",
   "execution_count": 5,
   "id": "c4308395",
   "metadata": {},
   "outputs": [
    {
     "data": {
      "text/html": [
       "<div>\n",
       "<style scoped>\n",
       "    .dataframe tbody tr th:only-of-type {\n",
       "        vertical-align: middle;\n",
       "    }\n",
       "\n",
       "    .dataframe tbody tr th {\n",
       "        vertical-align: top;\n",
       "    }\n",
       "\n",
       "    .dataframe thead th {\n",
       "        text-align: right;\n",
       "    }\n",
       "</style>\n",
       "<table border=\"1\" class=\"dataframe\">\n",
       "  <thead>\n",
       "    <tr style=\"text-align: right;\">\n",
       "      <th></th>\n",
       "      <th>Frequency</th>\n",
       "      <th>Monetary</th>\n",
       "      <th>Recency</th>\n",
       "    </tr>\n",
       "    <tr>\n",
       "      <th>CustomerID</th>\n",
       "      <th></th>\n",
       "      <th></th>\n",
       "      <th></th>\n",
       "    </tr>\n",
       "  </thead>\n",
       "  <tbody>\n",
       "    <tr>\n",
       "      <th>u12346</th>\n",
       "      <td>1</td>\n",
       "      <td>77183.60</td>\n",
       "      <td>325</td>\n",
       "    </tr>\n",
       "    <tr>\n",
       "      <th>u12747</th>\n",
       "      <td>11</td>\n",
       "      <td>3763.01</td>\n",
       "      <td>1</td>\n",
       "    </tr>\n",
       "    <tr>\n",
       "      <th>u12748</th>\n",
       "      <td>202</td>\n",
       "      <td>28308.44</td>\n",
       "      <td>0</td>\n",
       "    </tr>\n",
       "  </tbody>\n",
       "</table>\n",
       "</div>"
      ],
      "text/plain": [
       "            Frequency  Monetary  Recency\n",
       "CustomerID                              \n",
       "u12346              1  77183.60      325\n",
       "u12747             11   3763.01        1\n",
       "u12748            202  28308.44        0"
      ]
     },
     "execution_count": 5,
     "metadata": {},
     "output_type": "execute_result"
    }
   ],
   "source": [
    "# read the data\n",
    "\n",
    "UK_customers_data = pd.read_pickle(\"../data/UK_customers_rfm.pkl\")\n",
    "\n",
    "# preview the data\n",
    "\n",
    "UK_customers_data.head(n = 3)"
   ]
  },
  {
   "cell_type": "code",
   "execution_count": 6,
   "id": "773cc053",
   "metadata": {},
   "outputs": [
    {
     "data": {
      "text/html": [
       "<div>\n",
       "<style scoped>\n",
       "    .dataframe tbody tr th:only-of-type {\n",
       "        vertical-align: middle;\n",
       "    }\n",
       "\n",
       "    .dataframe tbody tr th {\n",
       "        vertical-align: top;\n",
       "    }\n",
       "\n",
       "    .dataframe thead th {\n",
       "        text-align: right;\n",
       "    }\n",
       "</style>\n",
       "<table border=\"1\" class=\"dataframe\">\n",
       "  <thead>\n",
       "    <tr style=\"text-align: right;\">\n",
       "      <th></th>\n",
       "      <th>Frequency</th>\n",
       "      <th>Monetary</th>\n",
       "      <th>Recency</th>\n",
       "    </tr>\n",
       "  </thead>\n",
       "  <tbody>\n",
       "    <tr>\n",
       "      <th>count</th>\n",
       "      <td>3891.000000</td>\n",
       "      <td>3891.000000</td>\n",
       "      <td>3891.000000</td>\n",
       "    </tr>\n",
       "    <tr>\n",
       "      <th>mean</th>\n",
       "      <td>4.193010</td>\n",
       "      <td>1625.351723</td>\n",
       "      <td>90.868928</td>\n",
       "    </tr>\n",
       "    <tr>\n",
       "      <th>std</th>\n",
       "      <td>7.045063</td>\n",
       "      <td>6744.803129</td>\n",
       "      <td>99.393812</td>\n",
       "    </tr>\n",
       "    <tr>\n",
       "      <th>min</th>\n",
       "      <td>1.000000</td>\n",
       "      <td>0.000000</td>\n",
       "      <td>0.000000</td>\n",
       "    </tr>\n",
       "    <tr>\n",
       "      <th>25%</th>\n",
       "      <td>1.000000</td>\n",
       "      <td>243.430000</td>\n",
       "      <td>17.000000</td>\n",
       "    </tr>\n",
       "    <tr>\n",
       "      <th>50%</th>\n",
       "      <td>2.000000</td>\n",
       "      <td>548.280000</td>\n",
       "      <td>49.000000</td>\n",
       "    </tr>\n",
       "    <tr>\n",
       "      <th>75%</th>\n",
       "      <td>5.000000</td>\n",
       "      <td>1368.345000</td>\n",
       "      <td>140.500000</td>\n",
       "    </tr>\n",
       "    <tr>\n",
       "      <th>max</th>\n",
       "      <td>202.000000</td>\n",
       "      <td>221190.810000</td>\n",
       "      <td>373.000000</td>\n",
       "    </tr>\n",
       "  </tbody>\n",
       "</table>\n",
       "</div>"
      ],
      "text/plain": [
       "         Frequency       Monetary      Recency\n",
       "count  3891.000000    3891.000000  3891.000000\n",
       "mean      4.193010    1625.351723    90.868928\n",
       "std       7.045063    6744.803129    99.393812\n",
       "min       1.000000       0.000000     0.000000\n",
       "25%       1.000000     243.430000    17.000000\n",
       "50%       2.000000     548.280000    49.000000\n",
       "75%       5.000000    1368.345000   140.500000\n",
       "max     202.000000  221190.810000   373.000000"
      ]
     },
     "execution_count": 6,
     "metadata": {},
     "output_type": "execute_result"
    }
   ],
   "source": [
    "# distribution of the data\n",
    "\n",
    "UK_customers_data.describe()"
   ]
  },
  {
   "cell_type": "code",
   "execution_count": 7,
   "id": "e50ddd16",
   "metadata": {},
   "outputs": [
    {
     "name": "stdout",
     "output_type": "stream",
     "text": [
      "Total Number of Customers: 3891\n"
     ]
    }
   ],
   "source": [
    "# print the number of customers\n",
    "print(\"Total Number of Customers:\", (UK_customers_data.shape[0]))"
   ]
  },
  {
   "cell_type": "code",
   "execution_count": null,
   "id": "932c33f2",
   "metadata": {},
   "outputs": [],
   "source": [
    "# cluster the customer data\n",
    "\n",
    "# step 1: scale the data\n",
    "\n",
    "scaler = StandardScaler()\n",
    "\n",
    "scaler.fit(UK_customers_data)\n",
    "\n",
    "UK_customers_scaled = scaler.transform(UK_customers_data)\n",
    "print('New std deviation:', users_data_scaled.std())\n",
    "print('New mean:', round(users_data_scaled.mean()))\n",
    "\n",
    "# normalized data has a mean of 0 and std of 1"
   ]
  },
  {
   "cell_type": "code",
   "execution_count": null,
   "id": "5c617a47",
   "metadata": {},
   "outputs": [],
   "source": [
    "# step 2: identify optimal number of clusters we want to segment the data\n",
    "\n",
    "def optimal_number_clusters(data_scaled):\n",
    "    \"\"\"\n",
    "    Calculates optimal number of clusted based on Elbow Method\n",
    "    \n",
    "    parameters: scaled data\n",
    "    \"\"\"\n",
    "    Sum_of_squared_distances = []\n",
    "    K = range(1, 30) # define the range of clusters we would like to cluster the data into\n",
    "\n",
    "    for k in K:\n",
    "        km = KMeans(n_clusters = k)\n",
    "        km = km.fit(data_scaled)\n",
    "        Sum_of_squared_distances.append(km.inertia_)\n",
    "\n",
    "    plt.figure(figsize=(20,6))\n",
    "\n",
    "    plt.plot(K, Sum_of_squared_distances, 'bx-')\n",
    "    plt.xlabel('k')\n",
    "    plt.ylabel('Sum_of_squared_distances')\n",
    "    plt.title('Elbow Method For Optimal k')\n",
    "    plt.show()"
   ]
  },
  {
   "cell_type": "code",
   "execution_count": null,
   "id": "c81590b7",
   "metadata": {},
   "outputs": [],
   "source": [
    "optimal_number_clusters(UK_customers_scaled)\n",
    "\n",
    "# Question: Where is the elbow forming? \n",
    "# identifying clusters: https://medium.com/analytics-vidhya/how-to-determine-the-optimal-k-for-k-means-708505d204eb"
   ]
  },
  {
   "cell_type": "code",
   "execution_count": null,
   "id": "7dfa1a3f",
   "metadata": {},
   "outputs": [],
   "source": [
    "# THE MACHINE LEARNING ALGORITHM\n",
    "\n",
    "n_clusters = 5 # define the number of clusters, where the elbow if formed\n",
    "\n",
    "kmeans = KMeans(n_clusters = n_clusters, random_state = 10) # initialize the k-means function\n",
    "kmeans.fit(UK_customers_scaled) # fit to the summary scaled data"
   ]
  },
  {
   "cell_type": "code",
   "execution_count": null,
   "id": "f42564eb",
   "metadata": {},
   "outputs": [],
   "source": [
    "# predict the clusters for the users\n",
    "\n",
    "y_kmeans = kmeans.predict(UK_customers_scaled)\n",
    "\n"
   ]
  },
  {
   "cell_type": "code",
   "execution_count": null,
   "id": "c1c6e446",
   "metadata": {},
   "outputs": [],
   "source": [
    "# check the distribution of the clusters\n",
    "\n",
    "pd.DataFrame(Counter(y_kmeans).most_common()).set_index(0).plot.bar(legend=None)\n",
    "plt.title('Distribution of Clusters')\n",
    "plt.xlabel('Cluster ID')\n",
    "plt.ylabel('# of users belonging to the cluster');"
   ]
  },
  {
   "cell_type": "code",
   "execution_count": null,
   "id": "72f77640",
   "metadata": {},
   "outputs": [],
   "source": [
    "# to do: insert what else we can do with "
   ]
  },
  {
   "cell_type": "code",
   "execution_count": null,
   "id": "e040ea95",
   "metadata": {},
   "outputs": [],
   "source": [
    "# join this to our data frame\n",
    "\n",
    "results = pd.DataFrame(summary_wout_outliers.copy())\n",
    "results.insert(0, 'cluster', y_kmeans)\n",
    "results.head()\n",
    "\n",
    "# the customers and their assigned clusters"
   ]
  },
  {
   "cell_type": "code",
   "execution_count": null,
   "id": "914830d2",
   "metadata": {},
   "outputs": [],
   "source": [
    "Counter(y_kmeans)"
   ]
  }
 ],
 "metadata": {
  "kernelspec": {
   "display_name": "Python 3",
   "language": "python",
   "name": "python3"
  },
  "language_info": {
   "codemirror_mode": {
    "name": "ipython",
    "version": 3
   },
   "file_extension": ".py",
   "mimetype": "text/x-python",
   "name": "python",
   "nbconvert_exporter": "python",
   "pygments_lexer": "ipython3",
   "version": "3.8.10"
  }
 },
 "nbformat": 4,
 "nbformat_minor": 5
}
