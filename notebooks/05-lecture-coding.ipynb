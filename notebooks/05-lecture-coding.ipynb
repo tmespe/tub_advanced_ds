{
 "cells": [
  {
   "cell_type": "markdown",
   "source": [
    "# Lecture 5 coding"
   ],
   "metadata": {
    "collapsed": false,
    "pycharm": {
     "name": "#%% md\n"
    }
   }
  },
  {
   "cell_type": "code",
   "execution_count": 2,
   "outputs": [],
   "source": [
    "import pandas as pd\n",
    "import numpy as np\n",
    "import seaborn as sns\n",
    "import matplotlib.pyplot as plt\n",
    "\n",
    "# import scikit learn libraries\n",
    "from sklearn.model_selection import train_test_split\n",
    "from sklearn.tree import DecisionTreeRegressor\n",
    "from sklearn.ensemble import RandomForestRegressor\n",
    "from xgboost import XGBRegressor# you may need to install XGBoost\n",
    "from sklearn.metrics import r2_score,mean_absolute_error, mean_squared_error\n",
    "from yellowbrick.model_selection import learning_curve\n",
    "\n",
    "# helpers\n",
    "from src.helpers import feature_importance_plot\n",
    "\n",
    "import warnings\n",
    "warnings.filterwarnings('ignore')\n"
   ],
   "metadata": {
    "collapsed": false,
    "pycharm": {
     "name": "#%%\n"
    }
   }
  },
  {
   "cell_type": "code",
   "execution_count": 46,
   "outputs": [],
   "source": [
    "class EDA:\n",
    "    def __init__(self, csv_file):\n",
    "        self.target_type = None\n",
    "        self.target_var = None\n",
    "        self.df = pd.read_csv(csv_file)\n",
    "        self.rows = self.df.shape[0]\n",
    "        self.cols = self.df.shape[1]\n",
    "\n",
    "    def __repr__(self):\n",
    "        return f\"A dataframe with {self.rows} rows and {self.cols} columns\"\n",
    "\n",
    "    def summary(self):\n",
    "        self.print_header(\"Info\")\n",
    "        print(self.df.info())\n",
    "\n",
    "        self.print_header(\"Sample rows\")\n",
    "        print(self.df.sample(10))\n",
    "\n",
    "        self.print_header(\"Description\")\n",
    "        print(self.df.describe())\n",
    "\n",
    "        self.print_header(\"Standard deviation\")\n",
    "        print(self.df.std())\n",
    "\n",
    "    def info(self):\n",
    "        self.df.info()\n",
    "\n",
    "    def describe(self, include=\"all\"):\n",
    "        self.df.describe(datetime_is_numeric=True, include=include)\n",
    "\n",
    "    def std(self):\n",
    "        self.df.std()\n",
    "\n",
    "    def print_header(self, title, sep=\"__\", n_sep=15):\n",
    "        return print(f'{sep * n_sep} {title} {sep * n_sep} \\n')\n",
    "\n",
    "    def target(self, target_name: str, target_type:str) -> None:\n",
    "        \"\"\"\n",
    "        Sets the target variable\n",
    "        :param target_name: Name of target variable in dataset\n",
    "        :param target_type: Type of variable cat, contin\n",
    "        :return:\n",
    "        \"\"\"\n",
    "        try:\n",
    "            self.target_var = self.df[target_name]\n",
    "            self.target_type = target_type\n",
    "        except KeyError:\n",
    "            raise KeyError(\"Target variable not in Dataset\")\n",
    "\n",
    "    def plot_target(self):\n",
    "        \"\"\"\n",
    "        Plots distribution of the target variable\n",
    "        :return:\n",
    "        \"\"\"\n",
    "        if self.target_type == \"cat\":\n",
    "            self.target_var.value_counts().plot(kind=\"bar\")\n",
    "            plt.title(\"Distribution of target variable\")\n",
    "        else:\n",
    "            self.target_var.hist()\n",
    "\n",
    "    def identify_correlations(self):\n",
    "        corr = self.df.corr()\n",
    "        corr.style.background_gradient(cmap='coolwarm')\n",
    "        sns.heatmap(corr)\n",
    "\n",
    "    def num_cats(self):\n",
    "        try:\n",
    "            cat_features = self.df.select_dtypes(\"object\").nunique(dropna=False).sort_values(ascending=False)\n",
    "            return cat_features\n",
    "        except TypeError as e:\n",
    "            raise TypeError(\"No categorical variables\")\n",
    "\n",
    "    def remove_cats(self, n_cats):\n",
    "        num_cats = self.num_cats()\n",
    "\n",
    "        print(num_cats > n_cats)\n",
    "\n",
    "    def identify_low_variance(self, treshhold=0.2):\n",
    "        variance = self.std()\n",
    "\n",
    "        return variance\n",
    "\n",
    "    # @target.setter\n",
    "    # def target(self, target_name):\n",
    "    #     self.target = target_name\n",
    "    #\n",
    "\n",
    "    def identify_missing_data(self):\n",
    "        \"\"\"\n",
    "        This function is used to identify missing data\n",
    "\n",
    "        @param df pandas DataFrame\n",
    "\n",
    "        @return a DataFrame with the percentage of missing data for every feature and the data types\n",
    "        \"\"\"\n",
    "\n",
    "        percent_missing = self.df.isnull().mean()\n",
    "\n",
    "        missing_value_df = pd.DataFrame(percent_missing).reset_index()  # convert to DataFrame\n",
    "        missing_value_df = missing_value_df.rename(columns={\"index\": \"feature\",\n",
    "                                                            0: \"percent_missing\"})  # rename columns\n",
    "\n",
    "        missing_value_df = missing_value_df.sort_values(by=['percent_missing'], ascending=False)  # sort the values\n",
    "\n",
    "        data_types_df = pd.DataFrame(self.df.dtypes).reset_index().rename(columns={\"index\": \"feature\",\n",
    "                                                                                   0: \"data_type\"})  # rename columns\n",
    "\n",
    "        missing_value_df = missing_value_df.merge(data_types_df, on=\"feature\")  # join the dataframe with datatype\n",
    "\n",
    "        missing_value_df.percent_missing = round(missing_value_df.percent_missing * 100, 2)  # format the percent_missing\n",
    "\n",
    "        return missing_value_df\n",
    "\n",
    "    def remove_missing_data(self, threshold=0.6):\n",
    "        df_missing = self.identify_missing_data()\n",
    "        missing_cols = df_missing[df_missing[\"percent_missing\"] >= threshold * 100]\n",
    "\n",
    "        print(f\"Removed the following columns {','.join(missing_cols['feature'].to_list())} due to missing data beigh higher than {threshold}\")\n",
    "        return self.df.drop(columns=missing_cols[\"feature\"].tolist())\n",
    "\n",
    "\n",
    "\n"
   ],
   "metadata": {
    "collapsed": false,
    "pycharm": {
     "name": "#%%\n"
    }
   }
  },
  {
   "cell_type": "code",
   "execution_count": 36,
   "outputs": [
    {
     "data": {
      "text/plain": "   age  sex  cp  trestbps   chol  fbs  restecg  thalach  exang  oldpeak  \\\n0   28    1   2     130.0  132.0  0.0      2.0    185.0    0.0      0.0   \n1   29    1   2     120.0  243.0  0.0      0.0    160.0    0.0      0.0   \n2   29    1   2     140.0    NaN  0.0      0.0    170.0    0.0      0.0   \n3   30    0   1     170.0  237.0  0.0      1.0    170.0    0.0      0.0   \n4   31    0   2     100.0  219.0  0.0      1.0    150.0    0.0      0.0   \n\n   slope  ca  thal  target  \n0    NaN NaN   NaN       0  \n1    NaN NaN   NaN       0  \n2    NaN NaN   NaN       0  \n3    NaN NaN   6.0       0  \n4    NaN NaN   NaN       0  ",
      "text/html": "<div>\n<style scoped>\n    .dataframe tbody tr th:only-of-type {\n        vertical-align: middle;\n    }\n\n    .dataframe tbody tr th {\n        vertical-align: top;\n    }\n\n    .dataframe thead th {\n        text-align: right;\n    }\n</style>\n<table border=\"1\" class=\"dataframe\">\n  <thead>\n    <tr style=\"text-align: right;\">\n      <th></th>\n      <th>age</th>\n      <th>sex</th>\n      <th>cp</th>\n      <th>trestbps</th>\n      <th>chol</th>\n      <th>fbs</th>\n      <th>restecg</th>\n      <th>thalach</th>\n      <th>exang</th>\n      <th>oldpeak</th>\n      <th>slope</th>\n      <th>ca</th>\n      <th>thal</th>\n      <th>target</th>\n    </tr>\n  </thead>\n  <tbody>\n    <tr>\n      <th>0</th>\n      <td>28</td>\n      <td>1</td>\n      <td>2</td>\n      <td>130.0</td>\n      <td>132.0</td>\n      <td>0.0</td>\n      <td>2.0</td>\n      <td>185.0</td>\n      <td>0.0</td>\n      <td>0.0</td>\n      <td>NaN</td>\n      <td>NaN</td>\n      <td>NaN</td>\n      <td>0</td>\n    </tr>\n    <tr>\n      <th>1</th>\n      <td>29</td>\n      <td>1</td>\n      <td>2</td>\n      <td>120.0</td>\n      <td>243.0</td>\n      <td>0.0</td>\n      <td>0.0</td>\n      <td>160.0</td>\n      <td>0.0</td>\n      <td>0.0</td>\n      <td>NaN</td>\n      <td>NaN</td>\n      <td>NaN</td>\n      <td>0</td>\n    </tr>\n    <tr>\n      <th>2</th>\n      <td>29</td>\n      <td>1</td>\n      <td>2</td>\n      <td>140.0</td>\n      <td>NaN</td>\n      <td>0.0</td>\n      <td>0.0</td>\n      <td>170.0</td>\n      <td>0.0</td>\n      <td>0.0</td>\n      <td>NaN</td>\n      <td>NaN</td>\n      <td>NaN</td>\n      <td>0</td>\n    </tr>\n    <tr>\n      <th>3</th>\n      <td>30</td>\n      <td>0</td>\n      <td>1</td>\n      <td>170.0</td>\n      <td>237.0</td>\n      <td>0.0</td>\n      <td>1.0</td>\n      <td>170.0</td>\n      <td>0.0</td>\n      <td>0.0</td>\n      <td>NaN</td>\n      <td>NaN</td>\n      <td>6.0</td>\n      <td>0</td>\n    </tr>\n    <tr>\n      <th>4</th>\n      <td>31</td>\n      <td>0</td>\n      <td>2</td>\n      <td>100.0</td>\n      <td>219.0</td>\n      <td>0.0</td>\n      <td>1.0</td>\n      <td>150.0</td>\n      <td>0.0</td>\n      <td>0.0</td>\n      <td>NaN</td>\n      <td>NaN</td>\n      <td>NaN</td>\n      <td>0</td>\n    </tr>\n  </tbody>\n</table>\n</div>"
     },
     "execution_count": 36,
     "metadata": {},
     "output_type": "execute_result"
    }
   ],
   "source": [
    "heart_attack_df = pd.read_csv(\"../data/../data/heart_attack_data.csv\")\n",
    "heart_attack_df.head()"
   ],
   "metadata": {
    "collapsed": false,
    "pycharm": {
     "name": "#%%\n"
    }
   }
  },
  {
   "cell_type": "code",
   "execution_count": 44,
   "outputs": [],
   "source": [
    "heart_attack = EDA(\"../data/../data/heart_attack_data.csv\")\n",
    "heart_attack.target(\"target\", target_type=\"cat\")"
   ],
   "metadata": {
    "collapsed": false,
    "pycharm": {
     "name": "#%%\n"
    }
   }
  },
  {
   "cell_type": "code",
   "execution_count": 9,
   "outputs": [
    {
     "name": "stdout",
     "output_type": "stream",
     "text": [
      "______________________________ Info ______________________________ \n",
      "\n",
      "<class 'pandas.core.frame.DataFrame'>\n",
      "RangeIndex: 294 entries, 0 to 293\n",
      "Data columns (total 14 columns):\n",
      " #   Column    Non-Null Count  Dtype  \n",
      "---  ------    --------------  -----  \n",
      " 0   age       294 non-null    int64  \n",
      " 1   sex       294 non-null    int64  \n",
      " 2   cp        294 non-null    int64  \n",
      " 3   trestbps  293 non-null    float64\n",
      " 4   chol      271 non-null    float64\n",
      " 5   fbs       286 non-null    float64\n",
      " 6   restecg   293 non-null    float64\n",
      " 7   thalach   293 non-null    float64\n",
      " 8   exang     293 non-null    float64\n",
      " 9   oldpeak   294 non-null    float64\n",
      " 10  slope     104 non-null    float64\n",
      " 11  ca        3 non-null      float64\n",
      " 12  thal      28 non-null     float64\n",
      " 13  target    294 non-null    int64  \n",
      "dtypes: float64(10), int64(4)\n",
      "memory usage: 32.3 KB\n",
      "None\n",
      "______________________________ Sample rows ______________________________ \n",
      "\n",
      "     age  sex  cp  trestbps   chol  fbs  restecg  thalach  exang  oldpeak  \\\n",
      "243   54    1   4     130.0  603.0  1.0      0.0    125.0    1.0      1.0   \n",
      "8     33    1   3     120.0  298.0  0.0      0.0    185.0    0.0      0.0   \n",
      "59    43    0   1     100.0  223.0  0.0      0.0    142.0    0.0      0.0   \n",
      "228   40    0   4     150.0  392.0  0.0      0.0    130.0    0.0      2.0   \n",
      "120   51    1   2     125.0  188.0  0.0      0.0    145.0    0.0      0.0   \n",
      "226   38    1   4     110.0    NaN  0.0      0.0    150.0    1.0      1.0   \n",
      "41    40    1   2     140.0  289.0  0.0      0.0    172.0    0.0      0.0   \n",
      "112   50    1   2     140.0  216.0  0.0      0.0    170.0    0.0      0.0   \n",
      "170   56    1   4     120.0   85.0  0.0      0.0    140.0    0.0      0.0   \n",
      "94    48    0   4     108.0  163.0  0.0      0.0    175.0    0.0      2.0   \n",
      "\n",
      "     slope  ca  thal  target  \n",
      "243    2.0 NaN   NaN       1  \n",
      "8      NaN NaN   NaN       0  \n",
      "59     NaN NaN   NaN       0  \n",
      "228    2.0 NaN   6.0       1  \n",
      "120    NaN NaN   NaN       0  \n",
      "226    2.0 NaN   NaN       1  \n",
      "41     NaN NaN   NaN       0  \n",
      "112    NaN NaN   3.0       0  \n",
      "170    NaN NaN   NaN       0  \n",
      "94     1.0 NaN   NaN       0  \n",
      "______________________________ Description ______________________________ \n",
      "\n",
      "              age         sex          cp    trestbps        chol         fbs  \\\n",
      "count  294.000000  294.000000  294.000000  293.000000  271.000000  286.000000   \n",
      "mean    47.826531    0.724490    2.982993  132.583618  250.848708    0.069930   \n",
      "std      7.811812    0.447533    0.965117   17.626568   67.657711    0.255476   \n",
      "min     28.000000    0.000000    1.000000   92.000000   85.000000    0.000000   \n",
      "25%     42.000000    0.000000    2.000000  120.000000  209.000000    0.000000   \n",
      "50%     49.000000    1.000000    3.000000  130.000000  243.000000    0.000000   \n",
      "75%     54.000000    1.000000    4.000000  140.000000  282.500000    0.000000   \n",
      "max     66.000000    1.000000    4.000000  200.000000  603.000000    1.000000   \n",
      "\n",
      "          restecg     thalach       exang     oldpeak       slope   ca  \\\n",
      "count  293.000000  293.000000  293.000000  294.000000  104.000000  3.0   \n",
      "mean     0.218430  139.129693    0.303754    0.586054    1.894231  0.0   \n",
      "std      0.460868   23.589749    0.460665    0.908648    0.338995  0.0   \n",
      "min      0.000000   82.000000    0.000000    0.000000    1.000000  0.0   \n",
      "25%      0.000000  122.000000    0.000000    0.000000    2.000000  0.0   \n",
      "50%      0.000000  140.000000    0.000000    0.000000    2.000000  0.0   \n",
      "75%      0.000000  155.000000    1.000000    1.000000    2.000000  0.0   \n",
      "max      2.000000  190.000000    1.000000    5.000000    3.000000  0.0   \n",
      "\n",
      "            thal      target  \n",
      "count  28.000000  294.000000  \n",
      "mean    5.642857    0.360544  \n",
      "std     1.615074    0.480977  \n",
      "min     3.000000    0.000000  \n",
      "25%     5.250000    0.000000  \n",
      "50%     6.000000    0.000000  \n",
      "75%     7.000000    1.000000  \n",
      "max     7.000000    1.000000  \n",
      "______________________________ Standard deviation ______________________________ \n",
      "\n",
      "age          7.811812\n",
      "sex          0.447533\n",
      "cp           0.965117\n",
      "trestbps    17.626568\n",
      "chol        67.657711\n",
      "fbs          0.255476\n",
      "restecg      0.460868\n",
      "thalach     23.589749\n",
      "exang        0.460665\n",
      "oldpeak      0.908648\n",
      "slope        0.338995\n",
      "ca           0.000000\n",
      "thal         1.615074\n",
      "target       0.480977\n",
      "dtype: float64\n"
     ]
    }
   ],
   "source": [
    "heart_attack.summary()"
   ],
   "metadata": {
    "collapsed": false,
    "pycharm": {
     "name": "#%%\n"
    }
   }
  },
  {
   "cell_type": "code",
   "execution_count": 34,
   "outputs": [
    {
     "data": {
      "text/plain": "     feature  percent_missing data_type\n0         ca            98.98   float64\n1       thal            90.48   float64\n2      slope            64.63   float64\n3       chol             7.82   float64\n4        fbs             2.72   float64\n5   trestbps             0.34   float64\n6    restecg             0.34   float64\n7    thalach             0.34   float64\n8      exang             0.34   float64\n9        age             0.00     int64\n10       sex             0.00     int64\n11        cp             0.00     int64\n12   oldpeak             0.00   float64\n13    target             0.00     int64",
      "text/html": "<div>\n<style scoped>\n    .dataframe tbody tr th:only-of-type {\n        vertical-align: middle;\n    }\n\n    .dataframe tbody tr th {\n        vertical-align: top;\n    }\n\n    .dataframe thead th {\n        text-align: right;\n    }\n</style>\n<table border=\"1\" class=\"dataframe\">\n  <thead>\n    <tr style=\"text-align: right;\">\n      <th></th>\n      <th>feature</th>\n      <th>percent_missing</th>\n      <th>data_type</th>\n    </tr>\n  </thead>\n  <tbody>\n    <tr>\n      <th>0</th>\n      <td>ca</td>\n      <td>98.98</td>\n      <td>float64</td>\n    </tr>\n    <tr>\n      <th>1</th>\n      <td>thal</td>\n      <td>90.48</td>\n      <td>float64</td>\n    </tr>\n    <tr>\n      <th>2</th>\n      <td>slope</td>\n      <td>64.63</td>\n      <td>float64</td>\n    </tr>\n    <tr>\n      <th>3</th>\n      <td>chol</td>\n      <td>7.82</td>\n      <td>float64</td>\n    </tr>\n    <tr>\n      <th>4</th>\n      <td>fbs</td>\n      <td>2.72</td>\n      <td>float64</td>\n    </tr>\n    <tr>\n      <th>5</th>\n      <td>trestbps</td>\n      <td>0.34</td>\n      <td>float64</td>\n    </tr>\n    <tr>\n      <th>6</th>\n      <td>restecg</td>\n      <td>0.34</td>\n      <td>float64</td>\n    </tr>\n    <tr>\n      <th>7</th>\n      <td>thalach</td>\n      <td>0.34</td>\n      <td>float64</td>\n    </tr>\n    <tr>\n      <th>8</th>\n      <td>exang</td>\n      <td>0.34</td>\n      <td>float64</td>\n    </tr>\n    <tr>\n      <th>9</th>\n      <td>age</td>\n      <td>0.00</td>\n      <td>int64</td>\n    </tr>\n    <tr>\n      <th>10</th>\n      <td>sex</td>\n      <td>0.00</td>\n      <td>int64</td>\n    </tr>\n    <tr>\n      <th>11</th>\n      <td>cp</td>\n      <td>0.00</td>\n      <td>int64</td>\n    </tr>\n    <tr>\n      <th>12</th>\n      <td>oldpeak</td>\n      <td>0.00</td>\n      <td>float64</td>\n    </tr>\n    <tr>\n      <th>13</th>\n      <td>target</td>\n      <td>0.00</td>\n      <td>int64</td>\n    </tr>\n  </tbody>\n</table>\n</div>"
     },
     "execution_count": 34,
     "metadata": {},
     "output_type": "execute_result"
    }
   ],
   "source": [
    "heart_attack.identify_missing_data()"
   ],
   "metadata": {
    "collapsed": false,
    "pycharm": {
     "name": "#%%\n"
    }
   }
  },
  {
   "cell_type": "code",
   "execution_count": 35,
   "outputs": [
    {
     "name": "stdout",
     "output_type": "stream",
     "text": [
      "Removed the following columns ca,thal,slope due to missing data beigh higher than 0.6\n"
     ]
    },
    {
     "data": {
      "text/plain": "     age  sex  cp  trestbps   chol  fbs  restecg  thalach  exang  oldpeak  \\\n0     28    1   2     130.0  132.0  0.0      2.0    185.0    0.0      0.0   \n1     29    1   2     120.0  243.0  0.0      0.0    160.0    0.0      0.0   \n2     29    1   2     140.0    NaN  0.0      0.0    170.0    0.0      0.0   \n3     30    0   1     170.0  237.0  0.0      1.0    170.0    0.0      0.0   \n4     31    0   2     100.0  219.0  0.0      1.0    150.0    0.0      0.0   \n..   ...  ...  ..       ...    ...  ...      ...      ...    ...      ...   \n289   52    1   4     160.0  331.0  0.0      0.0     94.0    1.0      2.5   \n290   54    0   3     130.0  294.0  0.0      1.0    100.0    1.0      0.0   \n291   56    1   4     155.0  342.0  1.0      0.0    150.0    1.0      3.0   \n292   58    0   2     180.0  393.0  0.0      0.0    110.0    1.0      1.0   \n293   65    1   4     130.0  275.0  0.0      1.0    115.0    1.0      1.0   \n\n     target  \n0         0  \n1         0  \n2         0  \n3         0  \n4         0  \n..      ...  \n289       1  \n290       1  \n291       1  \n292       1  \n293       1  \n\n[294 rows x 11 columns]",
      "text/html": "<div>\n<style scoped>\n    .dataframe tbody tr th:only-of-type {\n        vertical-align: middle;\n    }\n\n    .dataframe tbody tr th {\n        vertical-align: top;\n    }\n\n    .dataframe thead th {\n        text-align: right;\n    }\n</style>\n<table border=\"1\" class=\"dataframe\">\n  <thead>\n    <tr style=\"text-align: right;\">\n      <th></th>\n      <th>age</th>\n      <th>sex</th>\n      <th>cp</th>\n      <th>trestbps</th>\n      <th>chol</th>\n      <th>fbs</th>\n      <th>restecg</th>\n      <th>thalach</th>\n      <th>exang</th>\n      <th>oldpeak</th>\n      <th>target</th>\n    </tr>\n  </thead>\n  <tbody>\n    <tr>\n      <th>0</th>\n      <td>28</td>\n      <td>1</td>\n      <td>2</td>\n      <td>130.0</td>\n      <td>132.0</td>\n      <td>0.0</td>\n      <td>2.0</td>\n      <td>185.0</td>\n      <td>0.0</td>\n      <td>0.0</td>\n      <td>0</td>\n    </tr>\n    <tr>\n      <th>1</th>\n      <td>29</td>\n      <td>1</td>\n      <td>2</td>\n      <td>120.0</td>\n      <td>243.0</td>\n      <td>0.0</td>\n      <td>0.0</td>\n      <td>160.0</td>\n      <td>0.0</td>\n      <td>0.0</td>\n      <td>0</td>\n    </tr>\n    <tr>\n      <th>2</th>\n      <td>29</td>\n      <td>1</td>\n      <td>2</td>\n      <td>140.0</td>\n      <td>NaN</td>\n      <td>0.0</td>\n      <td>0.0</td>\n      <td>170.0</td>\n      <td>0.0</td>\n      <td>0.0</td>\n      <td>0</td>\n    </tr>\n    <tr>\n      <th>3</th>\n      <td>30</td>\n      <td>0</td>\n      <td>1</td>\n      <td>170.0</td>\n      <td>237.0</td>\n      <td>0.0</td>\n      <td>1.0</td>\n      <td>170.0</td>\n      <td>0.0</td>\n      <td>0.0</td>\n      <td>0</td>\n    </tr>\n    <tr>\n      <th>4</th>\n      <td>31</td>\n      <td>0</td>\n      <td>2</td>\n      <td>100.0</td>\n      <td>219.0</td>\n      <td>0.0</td>\n      <td>1.0</td>\n      <td>150.0</td>\n      <td>0.0</td>\n      <td>0.0</td>\n      <td>0</td>\n    </tr>\n    <tr>\n      <th>...</th>\n      <td>...</td>\n      <td>...</td>\n      <td>...</td>\n      <td>...</td>\n      <td>...</td>\n      <td>...</td>\n      <td>...</td>\n      <td>...</td>\n      <td>...</td>\n      <td>...</td>\n      <td>...</td>\n    </tr>\n    <tr>\n      <th>289</th>\n      <td>52</td>\n      <td>1</td>\n      <td>4</td>\n      <td>160.0</td>\n      <td>331.0</td>\n      <td>0.0</td>\n      <td>0.0</td>\n      <td>94.0</td>\n      <td>1.0</td>\n      <td>2.5</td>\n      <td>1</td>\n    </tr>\n    <tr>\n      <th>290</th>\n      <td>54</td>\n      <td>0</td>\n      <td>3</td>\n      <td>130.0</td>\n      <td>294.0</td>\n      <td>0.0</td>\n      <td>1.0</td>\n      <td>100.0</td>\n      <td>1.0</td>\n      <td>0.0</td>\n      <td>1</td>\n    </tr>\n    <tr>\n      <th>291</th>\n      <td>56</td>\n      <td>1</td>\n      <td>4</td>\n      <td>155.0</td>\n      <td>342.0</td>\n      <td>1.0</td>\n      <td>0.0</td>\n      <td>150.0</td>\n      <td>1.0</td>\n      <td>3.0</td>\n      <td>1</td>\n    </tr>\n    <tr>\n      <th>292</th>\n      <td>58</td>\n      <td>0</td>\n      <td>2</td>\n      <td>180.0</td>\n      <td>393.0</td>\n      <td>0.0</td>\n      <td>0.0</td>\n      <td>110.0</td>\n      <td>1.0</td>\n      <td>1.0</td>\n      <td>1</td>\n    </tr>\n    <tr>\n      <th>293</th>\n      <td>65</td>\n      <td>1</td>\n      <td>4</td>\n      <td>130.0</td>\n      <td>275.0</td>\n      <td>0.0</td>\n      <td>1.0</td>\n      <td>115.0</td>\n      <td>1.0</td>\n      <td>1.0</td>\n      <td>1</td>\n    </tr>\n  </tbody>\n</table>\n<p>294 rows × 11 columns</p>\n</div>"
     },
     "execution_count": 35,
     "metadata": {},
     "output_type": "execute_result"
    }
   ],
   "source": [
    "heart_attack.remove_missing_data()"
   ],
   "metadata": {
    "collapsed": false,
    "pycharm": {
     "name": "#%%\n"
    }
   }
  },
  {
   "cell_type": "code",
   "execution_count": 41,
   "outputs": [
    {
     "data": {
      "text/plain": "<Figure size 576x396 with 1 Axes>",
      "image/png": "[encoded data removed]"
     },
     "metadata": {},
     "output_type": "display_data"
    }
   ],
   "source": [
    "heart_attack.plot_target()"
   ],
   "metadata": {
    "collapsed": false,
    "pycharm": {
     "name": "#%%\n"
    }
   }
  },
  {
   "cell_type": "code",
   "execution_count": 45,
   "outputs": [
    {
     "data": {
      "text/plain": "<Figure size 576x396 with 2 Axes>",
      "image/png": "[encoded data removed]"
     },
     "metadata": {},
     "output_type": "display_data"
    }
   ],
   "source": [
    "heart_attack.identify_correlations()"
   ],
   "metadata": {
    "collapsed": false,
    "pycharm": {
     "name": "#%%\n"
    }
   }
  }
 ],
 "metadata": {
  "kernelspec": {
   "display_name": "Python 3",
   "language": "python",
   "name": "python3"
  },
  "language_info": {
   "codemirror_mode": {
    "name": "ipython",
    "version": 2
   },
   "file_extension": ".py",
   "mimetype": "text/x-python",
   "name": "python",
   "nbconvert_exporter": "python",
   "pygments_lexer": "ipython2",
   "version": "2.7.6"
  }
 },
 "nbformat": 4,
 "nbformat_minor": 0
}