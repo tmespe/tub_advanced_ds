{
 "cells": [
  {
   "cell_type": "code",
   "execution_count": 19,
   "id": "ac3d73bc",
   "metadata": {
    "pycharm": {
     "name": "#%%\n"
    }
   },
   "outputs": [],
   "source": [
    "import pandas as pd\n",
    "import numpy as np\n",
    "import seaborn as sns\n",
    "import matplotlib.pyplot as plt\n"
   ]
  },
  {
   "cell_type": "code",
   "execution_count": 4,
   "id": "1309fd71",
   "metadata": {
    "pycharm": {
     "name": "#%%\n"
    }
   },
   "outputs": [
    {
     "data": {
      "text/html": [
       "<div>\n",
       "<style scoped>\n",
       "    .dataframe tbody tr th:only-of-type {\n",
       "        vertical-align: middle;\n",
       "    }\n",
       "\n",
       "    .dataframe tbody tr th {\n",
       "        vertical-align: top;\n",
       "    }\n",
       "\n",
       "    .dataframe thead th {\n",
       "        text-align: right;\n",
       "    }\n",
       "</style>\n",
       "<table border=\"1\" class=\"dataframe\">\n",
       "  <thead>\n",
       "    <tr style=\"text-align: right;\">\n",
       "      <th></th>\n",
       "      <th>user_id</th>\n",
       "      <th>number_transactions</th>\n",
       "      <th>total_amount_usd</th>\n",
       "      <th>age</th>\n",
       "      <th>job</th>\n",
       "      <th>marital</th>\n",
       "      <th>education</th>\n",
       "      <th>default</th>\n",
       "      <th>housing</th>\n",
       "      <th>loan</th>\n",
       "      <th>contact</th>\n",
       "      <th>duration</th>\n",
       "      <th>campaign</th>\n",
       "      <th>pdays</th>\n",
       "      <th>previous</th>\n",
       "      <th>poutcome</th>\n",
       "      <th>term_deposit</th>\n",
       "      <th>date_joined</th>\n",
       "      <th>device</th>\n",
       "    </tr>\n",
       "  </thead>\n",
       "  <tbody>\n",
       "    <tr>\n",
       "      <th>0</th>\n",
       "      <td>9231c446-cb16-4b2b-a7f7-ddfc8b25aaf6</td>\n",
       "      <td>3.0</td>\n",
       "      <td>2143.0</td>\n",
       "      <td>58</td>\n",
       "      <td>management</td>\n",
       "      <td>married</td>\n",
       "      <td>tertiary</td>\n",
       "      <td>False</td>\n",
       "      <td>True</td>\n",
       "      <td>False</td>\n",
       "      <td>None</td>\n",
       "      <td>261</td>\n",
       "      <td>1</td>\n",
       "      <td>-1</td>\n",
       "      <td>0</td>\n",
       "      <td>None</td>\n",
       "      <td>False</td>\n",
       "      <td>1998-08-23</td>\n",
       "      <td>mobile</td>\n",
       "    </tr>\n",
       "    <tr>\n",
       "      <th>1</th>\n",
       "      <td>bb92765a-08de-4963-b432-496524b39157</td>\n",
       "      <td>NaN</td>\n",
       "      <td>NaN</td>\n",
       "      <td>44</td>\n",
       "      <td>technician</td>\n",
       "      <td>single</td>\n",
       "      <td>secondary</td>\n",
       "      <td>False</td>\n",
       "      <td>True</td>\n",
       "      <td>False</td>\n",
       "      <td>None</td>\n",
       "      <td>151</td>\n",
       "      <td>1</td>\n",
       "      <td>-1</td>\n",
       "      <td>0</td>\n",
       "      <td>None</td>\n",
       "      <td>False</td>\n",
       "      <td>2008-07-15</td>\n",
       "      <td>desktop</td>\n",
       "    </tr>\n",
       "    <tr>\n",
       "      <th>2</th>\n",
       "      <td>573de577-49ef-42b9-83da-d3cfb817b5c1</td>\n",
       "      <td>2.0</td>\n",
       "      <td>2.0</td>\n",
       "      <td>33</td>\n",
       "      <td>entrepreneur</td>\n",
       "      <td>married</td>\n",
       "      <td>secondary</td>\n",
       "      <td>False</td>\n",
       "      <td>True</td>\n",
       "      <td>True</td>\n",
       "      <td>None</td>\n",
       "      <td>76</td>\n",
       "      <td>1</td>\n",
       "      <td>-1</td>\n",
       "      <td>0</td>\n",
       "      <td>None</td>\n",
       "      <td>False</td>\n",
       "      <td>2002-06-04</td>\n",
       "      <td>mobile</td>\n",
       "    </tr>\n",
       "  </tbody>\n",
       "</table>\n",
       "</div>"
      ],
      "text/plain": [
       "                                user_id  number_transactions  \\\n",
       "0  9231c446-cb16-4b2b-a7f7-ddfc8b25aaf6                  3.0   \n",
       "1  bb92765a-08de-4963-b432-496524b39157                  NaN   \n",
       "2  573de577-49ef-42b9-83da-d3cfb817b5c1                  2.0   \n",
       "\n",
       "   total_amount_usd  age           job  marital  education  default  housing  \\\n",
       "0            2143.0   58    management  married   tertiary    False     True   \n",
       "1               NaN   44    technician   single  secondary    False     True   \n",
       "2               2.0   33  entrepreneur  married  secondary    False     True   \n",
       "\n",
       "    loan contact  duration  campaign  pdays  previous poutcome  term_deposit  \\\n",
       "0  False    None       261         1     -1         0     None         False   \n",
       "1  False    None       151         1     -1         0     None         False   \n",
       "2   True    None        76         1     -1         0     None         False   \n",
       "\n",
       "  date_joined   device  \n",
       "0  1998-08-23   mobile  \n",
       "1  2008-07-15  desktop  \n",
       "2  2002-06-04   mobile  "
      ]
     },
     "execution_count": 4,
     "metadata": {},
     "output_type": "execute_result"
    }
   ],
   "source": [
    "# import the data\n",
    "\n",
    "users_data = pd.read_pickle(\"../data/users_data_final.pkl\")\n",
    "\n",
    "# preview the data \n",
    "users_data.head(n = 3)"
   ]
  },
  {
   "cell_type": "code",
   "execution_count": 5,
   "id": "1f1a3891",
   "metadata": {
    "pycharm": {
     "name": "#%%\n"
    }
   },
   "outputs": [
    {
     "data": {
      "text/plain": [
       "(45209, 19)"
      ]
     },
     "execution_count": 5,
     "metadata": {},
     "output_type": "execute_result"
    }
   ],
   "source": [
    "# check the shape of data\n",
    "\n",
    "users_data.shape"
   ]
  },
  {
   "cell_type": "code",
   "execution_count": 7,
   "id": "f12e6494",
   "metadata": {
    "pycharm": {
     "name": "#%%\n"
    }
   },
   "outputs": [
    {
     "name": "stdout",
     "output_type": "stream",
     "text": [
      "# of number of unique users: 45209\n"
     ]
    }
   ],
   "source": [
    "# number of unique users\n",
    "\n",
    "print(\"# of number of unique users:\", len(users_data.user_id.unique()))"
   ]
  },
  {
   "cell_type": "code",
   "execution_count": 8,
   "id": "c6205a74",
   "metadata": {
    "pycharm": {
     "name": "#%%\n"
    }
   },
   "outputs": [
    {
     "name": "stdout",
     "output_type": "stream",
     "text": [
      "<class 'pandas.core.frame.DataFrame'>\n",
      "Int64Index: 45209 entries, 0 to 45215\n",
      "Data columns (total 19 columns):\n",
      " #   Column               Non-Null Count  Dtype         \n",
      "---  ------               --------------  -----         \n",
      " 0   user_id              45209 non-null  object        \n",
      " 1   number_transactions  35210 non-null  float64       \n",
      " 2   total_amount_usd     35210 non-null  float64       \n",
      " 3   age                  45209 non-null  int64         \n",
      " 4   job                  44921 non-null  object        \n",
      " 5   marital              45209 non-null  object        \n",
      " 6   education            43352 non-null  object        \n",
      " 7   default              45209 non-null  bool          \n",
      " 8   housing              45209 non-null  bool          \n",
      " 9   loan                 45209 non-null  bool          \n",
      " 10  contact              32191 non-null  object        \n",
      " 11  duration             45209 non-null  int64         \n",
      " 12  campaign             45209 non-null  int64         \n",
      " 13  pdays                45209 non-null  int64         \n",
      " 14  previous             45209 non-null  int64         \n",
      " 15  poutcome             8252 non-null   object        \n",
      " 16  term_deposit         45209 non-null  bool          \n",
      " 17  date_joined          45179 non-null  datetime64[ns]\n",
      " 18  device               45115 non-null  object        \n",
      "dtypes: bool(4), datetime64[ns](1), float64(2), int64(5), object(7)\n",
      "memory usage: 5.7+ MB\n"
     ]
    }
   ],
   "source": [
    "# structure of the data\n",
    "\n",
    "users_data.info()"
   ]
  },
  {
   "cell_type": "code",
   "execution_count": 9,
   "id": "66f7507c",
   "metadata": {
    "pycharm": {
     "name": "#%%\n"
    }
   },
   "outputs": [
    {
     "data": {
      "text/html": [
       "<div>\n",
       "<style scoped>\n",
       "    .dataframe tbody tr th:only-of-type {\n",
       "        vertical-align: middle;\n",
       "    }\n",
       "\n",
       "    .dataframe tbody tr th {\n",
       "        vertical-align: top;\n",
       "    }\n",
       "\n",
       "    .dataframe thead th {\n",
       "        text-align: right;\n",
       "    }\n",
       "</style>\n",
       "<table border=\"1\" class=\"dataframe\">\n",
       "  <thead>\n",
       "    <tr style=\"text-align: right;\">\n",
       "      <th></th>\n",
       "      <th>number_transactions</th>\n",
       "      <th>total_amount_usd</th>\n",
       "      <th>age</th>\n",
       "      <th>duration</th>\n",
       "      <th>campaign</th>\n",
       "      <th>pdays</th>\n",
       "      <th>previous</th>\n",
       "    </tr>\n",
       "  </thead>\n",
       "  <tbody>\n",
       "    <tr>\n",
       "      <th>count</th>\n",
       "      <td>35210.000000</td>\n",
       "      <td>35210.000000</td>\n",
       "      <td>45209.000000</td>\n",
       "      <td>45209.000000</td>\n",
       "      <td>45209.000000</td>\n",
       "      <td>45209.000000</td>\n",
       "      <td>45209.000000</td>\n",
       "    </tr>\n",
       "    <tr>\n",
       "      <th>mean</th>\n",
       "      <td>3.977052</td>\n",
       "      <td>1369.417751</td>\n",
       "      <td>40.935853</td>\n",
       "      <td>258.153067</td>\n",
       "      <td>2.763897</td>\n",
       "      <td>40.199651</td>\n",
       "      <td>0.580349</td>\n",
       "    </tr>\n",
       "    <tr>\n",
       "      <th>std</th>\n",
       "      <td>3.814329</td>\n",
       "      <td>3063.412688</td>\n",
       "      <td>10.618653</td>\n",
       "      <td>257.525446</td>\n",
       "      <td>3.098076</td>\n",
       "      <td>100.130586</td>\n",
       "      <td>2.303489</td>\n",
       "    </tr>\n",
       "    <tr>\n",
       "      <th>min</th>\n",
       "      <td>1.000000</td>\n",
       "      <td>-8019.000000</td>\n",
       "      <td>18.000000</td>\n",
       "      <td>0.000000</td>\n",
       "      <td>1.000000</td>\n",
       "      <td>-1.000000</td>\n",
       "      <td>0.000000</td>\n",
       "    </tr>\n",
       "    <tr>\n",
       "      <th>25%</th>\n",
       "      <td>2.000000</td>\n",
       "      <td>73.000000</td>\n",
       "      <td>33.000000</td>\n",
       "      <td>103.000000</td>\n",
       "      <td>1.000000</td>\n",
       "      <td>-1.000000</td>\n",
       "      <td>0.000000</td>\n",
       "    </tr>\n",
       "    <tr>\n",
       "      <th>50%</th>\n",
       "      <td>3.000000</td>\n",
       "      <td>451.000000</td>\n",
       "      <td>39.000000</td>\n",
       "      <td>180.000000</td>\n",
       "      <td>2.000000</td>\n",
       "      <td>-1.000000</td>\n",
       "      <td>0.000000</td>\n",
       "    </tr>\n",
       "    <tr>\n",
       "      <th>75%</th>\n",
       "      <td>4.000000</td>\n",
       "      <td>1438.000000</td>\n",
       "      <td>48.000000</td>\n",
       "      <td>319.000000</td>\n",
       "      <td>3.000000</td>\n",
       "      <td>-1.000000</td>\n",
       "      <td>0.000000</td>\n",
       "    </tr>\n",
       "    <tr>\n",
       "      <th>max</th>\n",
       "      <td>20.000000</td>\n",
       "      <td>102127.000000</td>\n",
       "      <td>95.000000</td>\n",
       "      <td>4918.000000</td>\n",
       "      <td>63.000000</td>\n",
       "      <td>871.000000</td>\n",
       "      <td>275.000000</td>\n",
       "    </tr>\n",
       "  </tbody>\n",
       "</table>\n",
       "</div>"
      ],
      "text/plain": [
       "       number_transactions  total_amount_usd           age      duration  \\\n",
       "count         35210.000000      35210.000000  45209.000000  45209.000000   \n",
       "mean              3.977052       1369.417751     40.935853    258.153067   \n",
       "std               3.814329       3063.412688     10.618653    257.525446   \n",
       "min               1.000000      -8019.000000     18.000000      0.000000   \n",
       "25%               2.000000         73.000000     33.000000    103.000000   \n",
       "50%               3.000000        451.000000     39.000000    180.000000   \n",
       "75%               4.000000       1438.000000     48.000000    319.000000   \n",
       "max              20.000000     102127.000000     95.000000   4918.000000   \n",
       "\n",
       "           campaign         pdays      previous  \n",
       "count  45209.000000  45209.000000  45209.000000  \n",
       "mean       2.763897     40.199651      0.580349  \n",
       "std        3.098076    100.130586      2.303489  \n",
       "min        1.000000     -1.000000      0.000000  \n",
       "25%        1.000000     -1.000000      0.000000  \n",
       "50%        2.000000     -1.000000      0.000000  \n",
       "75%        3.000000     -1.000000      0.000000  \n",
       "max       63.000000    871.000000    275.000000  "
      ]
     },
     "execution_count": 9,
     "metadata": {},
     "output_type": "execute_result"
    }
   ],
   "source": [
    "# summary statistics\n",
    "\n",
    "users_data.describe()"
   ]
  },
  {
   "cell_type": "code",
   "execution_count": 10,
   "id": "9e645029",
   "metadata": {
    "pycharm": {
     "name": "#%%\n"
    }
   },
   "outputs": [
    {
     "data": {
      "text/html": [
       "<div>\n",
       "<style scoped>\n",
       "    .dataframe tbody tr th:only-of-type {\n",
       "        vertical-align: middle;\n",
       "    }\n",
       "\n",
       "    .dataframe tbody tr th {\n",
       "        vertical-align: top;\n",
       "    }\n",
       "\n",
       "    .dataframe thead th {\n",
       "        text-align: right;\n",
       "    }\n",
       "</style>\n",
       "<table border=\"1\" class=\"dataframe\">\n",
       "  <thead>\n",
       "    <tr style=\"text-align: right;\">\n",
       "      <th></th>\n",
       "      <th>number_transactions</th>\n",
       "      <th>total_amount_usd</th>\n",
       "      <th>age</th>\n",
       "      <th>duration</th>\n",
       "      <th>campaign</th>\n",
       "      <th>pdays</th>\n",
       "      <th>previous</th>\n",
       "      <th>date_joined</th>\n",
       "    </tr>\n",
       "  </thead>\n",
       "  <tbody>\n",
       "    <tr>\n",
       "      <th>count</th>\n",
       "      <td>35210.000000</td>\n",
       "      <td>35210.000000</td>\n",
       "      <td>45209.000000</td>\n",
       "      <td>45209.000000</td>\n",
       "      <td>45209.000000</td>\n",
       "      <td>45209.000000</td>\n",
       "      <td>45209.000000</td>\n",
       "      <td>45179</td>\n",
       "    </tr>\n",
       "    <tr>\n",
       "      <th>mean</th>\n",
       "      <td>3.977052</td>\n",
       "      <td>1369.417751</td>\n",
       "      <td>40.935853</td>\n",
       "      <td>258.153067</td>\n",
       "      <td>2.763897</td>\n",
       "      <td>40.199651</td>\n",
       "      <td>0.580349</td>\n",
       "      <td>1999-06-14 21:54:38.558622336</td>\n",
       "    </tr>\n",
       "    <tr>\n",
       "      <th>min</th>\n",
       "      <td>1.000000</td>\n",
       "      <td>-8019.000000</td>\n",
       "      <td>18.000000</td>\n",
       "      <td>0.000000</td>\n",
       "      <td>1.000000</td>\n",
       "      <td>-1.000000</td>\n",
       "      <td>0.000000</td>\n",
       "      <td>1988-01-01 00:00:00</td>\n",
       "    </tr>\n",
       "    <tr>\n",
       "      <th>25%</th>\n",
       "      <td>2.000000</td>\n",
       "      <td>73.000000</td>\n",
       "      <td>33.000000</td>\n",
       "      <td>103.000000</td>\n",
       "      <td>1.000000</td>\n",
       "      <td>-1.000000</td>\n",
       "      <td>0.000000</td>\n",
       "      <td>1993-09-18 00:00:00</td>\n",
       "    </tr>\n",
       "    <tr>\n",
       "      <th>50%</th>\n",
       "      <td>3.000000</td>\n",
       "      <td>451.000000</td>\n",
       "      <td>39.000000</td>\n",
       "      <td>180.000000</td>\n",
       "      <td>2.000000</td>\n",
       "      <td>-1.000000</td>\n",
       "      <td>0.000000</td>\n",
       "      <td>1999-06-11 00:00:00</td>\n",
       "    </tr>\n",
       "    <tr>\n",
       "      <th>75%</th>\n",
       "      <td>4.000000</td>\n",
       "      <td>1438.000000</td>\n",
       "      <td>48.000000</td>\n",
       "      <td>319.000000</td>\n",
       "      <td>3.000000</td>\n",
       "      <td>-1.000000</td>\n",
       "      <td>0.000000</td>\n",
       "      <td>2005-03-18 00:00:00</td>\n",
       "    </tr>\n",
       "    <tr>\n",
       "      <th>max</th>\n",
       "      <td>20.000000</td>\n",
       "      <td>102127.000000</td>\n",
       "      <td>95.000000</td>\n",
       "      <td>4918.000000</td>\n",
       "      <td>63.000000</td>\n",
       "      <td>871.000000</td>\n",
       "      <td>275.000000</td>\n",
       "      <td>2010-11-30 00:00:00</td>\n",
       "    </tr>\n",
       "    <tr>\n",
       "      <th>std</th>\n",
       "      <td>3.814329</td>\n",
       "      <td>3063.412688</td>\n",
       "      <td>10.618653</td>\n",
       "      <td>257.525446</td>\n",
       "      <td>3.098076</td>\n",
       "      <td>100.130586</td>\n",
       "      <td>2.303489</td>\n",
       "      <td>NaN</td>\n",
       "    </tr>\n",
       "  </tbody>\n",
       "</table>\n",
       "</div>"
      ],
      "text/plain": [
       "       number_transactions  total_amount_usd           age      duration  \\\n",
       "count         35210.000000      35210.000000  45209.000000  45209.000000   \n",
       "mean              3.977052       1369.417751     40.935853    258.153067   \n",
       "min               1.000000      -8019.000000     18.000000      0.000000   \n",
       "25%               2.000000         73.000000     33.000000    103.000000   \n",
       "50%               3.000000        451.000000     39.000000    180.000000   \n",
       "75%               4.000000       1438.000000     48.000000    319.000000   \n",
       "max              20.000000     102127.000000     95.000000   4918.000000   \n",
       "std               3.814329       3063.412688     10.618653    257.525446   \n",
       "\n",
       "           campaign         pdays      previous                    date_joined  \n",
       "count  45209.000000  45209.000000  45209.000000                          45179  \n",
       "mean       2.763897     40.199651      0.580349  1999-06-14 21:54:38.558622336  \n",
       "min        1.000000     -1.000000      0.000000            1988-01-01 00:00:00  \n",
       "25%        1.000000     -1.000000      0.000000            1993-09-18 00:00:00  \n",
       "50%        2.000000     -1.000000      0.000000            1999-06-11 00:00:00  \n",
       "75%        3.000000     -1.000000      0.000000            2005-03-18 00:00:00  \n",
       "max       63.000000    871.000000    275.000000            2010-11-30 00:00:00  \n",
       "std        3.098076    100.130586      2.303489                            NaN  "
      ]
     },
     "execution_count": 10,
     "metadata": {},
     "output_type": "execute_result"
    }
   ],
   "source": [
    "users_data.describe(datetime_is_numeric = True)"
   ]
  },
  {
   "cell_type": "code",
   "execution_count": 13,
   "id": "aac1f07e",
   "metadata": {
    "pycharm": {
     "name": "#%%\n"
    }
   },
   "outputs": [
    {
     "data": {
      "text/plain": [
       "blue-collar      9731\n",
       "management       9457\n",
       "technician       7597\n",
       "admin.           5171\n",
       "services         4154\n",
       "retired          2264\n",
       "self-employed    1579\n",
       "entrepreneur     1487\n",
       "unemployed       1303\n",
       "housemaid        1240\n",
       "student           938\n",
       "NaN               288\n",
       "Name: job, dtype: int64"
      ]
     },
     "execution_count": 13,
     "metadata": {},
     "output_type": "execute_result"
    }
   ],
   "source": [
    "# distribution of a non numerical feature\n",
    "\n",
    "users_data.job.value_counts(dropna = False)"
   ]
  },
  {
   "cell_type": "code",
   "execution_count": 26,
   "id": "28fd9d02",
   "metadata": {
    "pycharm": {
     "name": "#%%\n"
    }
   },
   "outputs": [
    {
     "data": {
      "image/png": "[encoded data removed]",
      "text/plain": [
       "<Figure size 432x288 with 1 Axes>"
      ]
     },
     "metadata": {
      "needs_background": "light"
     },
     "output_type": "display_data"
    }
   ],
   "source": [
    "# visualise the data\n",
    "\n",
    "var = \"education\"\n",
    "\n",
    "users_data[var].value_counts(dropna=False).plot(kind = \"bar\")\n",
    "plt.title(f\"Distribution of the {var}\")\n",
    "plt.show()\n"
   ]
  },
  {
   "cell_type": "code",
   "execution_count": 27,
   "id": "804b1a86",
   "metadata": {
    "pycharm": {
     "name": "#%%\n"
    }
   },
   "outputs": [
    {
     "name": "stderr",
     "output_type": "stream",
     "text": [
      "<ipython-input-27-46197dbb2a92>:3: FutureWarning: Dropping of nuisance columns in DataFrame reductions (with 'numeric_only=None') is deprecated; in a future version this will raise TypeError.  Select only valid columns before calling the reduction.\n",
      "  users_data.std()\n"
     ]
    },
    {
     "data": {
      "text/plain": [
       "number_transactions                        3.814329\n",
       "total_amount_usd                        3063.412688\n",
       "age                                       10.618653\n",
       "default                                    0.133052\n",
       "housing                                     0.49688\n",
       "loan                                       0.366827\n",
       "duration                                 257.525446\n",
       "campaign                                   3.098076\n",
       "pdays                                    100.130586\n",
       "previous                                   2.303489\n",
       "term_deposit                               0.321412\n",
       "date_joined            2420 days 10:04:20.364896480\n",
       "dtype: object"
      ]
     },
     "execution_count": 27,
     "metadata": {},
     "output_type": "execute_result"
    }
   ],
   "source": [
    "# identify features with low variance\n",
    "\n",
    "users_data.std()"
   ]
  },
  {
   "cell_type": "code",
   "execution_count": 29,
   "id": "84bf4599",
   "metadata": {
    "pycharm": {
     "name": "#%%\n"
    }
   },
   "outputs": [
    {
     "data": {
      "text/plain": [
       "False    0.981973\n",
       "True     0.018027\n",
       "Name: default, dtype: float64"
      ]
     },
     "execution_count": 29,
     "metadata": {},
     "output_type": "execute_result"
    }
   ],
   "source": [
    "# look at the distribution of default\n",
    "\n",
    "users_data.default.value_counts(normalize = True)"
   ]
  },
  {
   "cell_type": "code",
   "execution_count": 34,
   "id": "3f1a9847",
   "metadata": {
    "pycharm": {
     "name": "#%%\n"
    }
   },
   "outputs": [
    {
     "data": {
      "text/html": [
       "<div>\n",
       "<style scoped>\n",
       "    .dataframe tbody tr th:only-of-type {\n",
       "        vertical-align: middle;\n",
       "    }\n",
       "\n",
       "    .dataframe tbody tr th {\n",
       "        vertical-align: top;\n",
       "    }\n",
       "\n",
       "    .dataframe thead th {\n",
       "        text-align: right;\n",
       "    }\n",
       "</style>\n",
       "<table border=\"1\" class=\"dataframe\">\n",
       "  <thead>\n",
       "    <tr style=\"text-align: right;\">\n",
       "      <th></th>\n",
       "      <th>number_transactions</th>\n",
       "      <th>total_amount_usd</th>\n",
       "      <th>age</th>\n",
       "      <th>default</th>\n",
       "      <th>housing</th>\n",
       "      <th>loan</th>\n",
       "      <th>duration</th>\n",
       "      <th>campaign</th>\n",
       "      <th>pdays</th>\n",
       "      <th>previous</th>\n",
       "      <th>term_deposit</th>\n",
       "    </tr>\n",
       "  </thead>\n",
       "  <tbody>\n",
       "    <tr>\n",
       "      <th>number_transactions</th>\n",
       "      <td>1.000000</td>\n",
       "      <td>-0.163409</td>\n",
       "      <td>-0.008813</td>\n",
       "      <td>0.138838</td>\n",
       "      <td>0.030429</td>\n",
       "      <td>0.075319</td>\n",
       "      <td>-0.017220</td>\n",
       "      <td>0.026431</td>\n",
       "      <td>-0.030751</td>\n",
       "      <td>-0.023046</td>\n",
       "      <td>-0.053390</td>\n",
       "    </tr>\n",
       "    <tr>\n",
       "      <th>total_amount_usd</th>\n",
       "      <td>-0.163409</td>\n",
       "      <td>1.000000</td>\n",
       "      <td>0.095839</td>\n",
       "      <td>-0.065390</td>\n",
       "      <td>-0.066857</td>\n",
       "      <td>-0.084526</td>\n",
       "      <td>0.022586</td>\n",
       "      <td>-0.017274</td>\n",
       "      <td>0.006435</td>\n",
       "      <td>0.016952</td>\n",
       "      <td>0.050785</td>\n",
       "    </tr>\n",
       "    <tr>\n",
       "      <th>age</th>\n",
       "      <td>-0.008813</td>\n",
       "      <td>0.095839</td>\n",
       "      <td>1.000000</td>\n",
       "      <td>-0.017875</td>\n",
       "      <td>-0.185552</td>\n",
       "      <td>-0.015641</td>\n",
       "      <td>-0.004645</td>\n",
       "      <td>0.004767</td>\n",
       "      <td>-0.023745</td>\n",
       "      <td>0.001297</td>\n",
       "      <td>0.025168</td>\n",
       "    </tr>\n",
       "    <tr>\n",
       "      <th>default</th>\n",
       "      <td>0.138838</td>\n",
       "      <td>-0.065390</td>\n",
       "      <td>-0.017875</td>\n",
       "      <td>1.000000</td>\n",
       "      <td>-0.006020</td>\n",
       "      <td>0.077232</td>\n",
       "      <td>-0.010017</td>\n",
       "      <td>0.016819</td>\n",
       "      <td>-0.029982</td>\n",
       "      <td>-0.018331</td>\n",
       "      <td>-0.022421</td>\n",
       "    </tr>\n",
       "    <tr>\n",
       "      <th>housing</th>\n",
       "      <td>0.030429</td>\n",
       "      <td>-0.066857</td>\n",
       "      <td>-0.185552</td>\n",
       "      <td>-0.006020</td>\n",
       "      <td>1.000000</td>\n",
       "      <td>0.041341</td>\n",
       "      <td>0.005041</td>\n",
       "      <td>-0.023583</td>\n",
       "      <td>0.124197</td>\n",
       "      <td>0.037087</td>\n",
       "      <td>-0.139161</td>\n",
       "    </tr>\n",
       "    <tr>\n",
       "      <th>loan</th>\n",
       "      <td>0.075319</td>\n",
       "      <td>-0.084526</td>\n",
       "      <td>-0.015641</td>\n",
       "      <td>0.077232</td>\n",
       "      <td>0.041341</td>\n",
       "      <td>1.000000</td>\n",
       "      <td>-0.012395</td>\n",
       "      <td>0.009972</td>\n",
       "      <td>-0.022762</td>\n",
       "      <td>-0.011048</td>\n",
       "      <td>-0.068193</td>\n",
       "    </tr>\n",
       "    <tr>\n",
       "      <th>duration</th>\n",
       "      <td>-0.017220</td>\n",
       "      <td>0.022586</td>\n",
       "      <td>-0.004645</td>\n",
       "      <td>-0.010017</td>\n",
       "      <td>0.005041</td>\n",
       "      <td>-0.012395</td>\n",
       "      <td>1.000000</td>\n",
       "      <td>-0.084551</td>\n",
       "      <td>-0.001549</td>\n",
       "      <td>0.001213</td>\n",
       "      <td>0.394549</td>\n",
       "    </tr>\n",
       "    <tr>\n",
       "      <th>campaign</th>\n",
       "      <td>0.026431</td>\n",
       "      <td>-0.017274</td>\n",
       "      <td>0.004767</td>\n",
       "      <td>0.016819</td>\n",
       "      <td>-0.023583</td>\n",
       "      <td>0.009972</td>\n",
       "      <td>-0.084551</td>\n",
       "      <td>1.000000</td>\n",
       "      <td>-0.088636</td>\n",
       "      <td>-0.032860</td>\n",
       "      <td>-0.073179</td>\n",
       "    </tr>\n",
       "    <tr>\n",
       "      <th>pdays</th>\n",
       "      <td>-0.030751</td>\n",
       "      <td>0.006435</td>\n",
       "      <td>-0.023745</td>\n",
       "      <td>-0.029982</td>\n",
       "      <td>0.124197</td>\n",
       "      <td>-0.022762</td>\n",
       "      <td>-0.001549</td>\n",
       "      <td>-0.088636</td>\n",
       "      <td>1.000000</td>\n",
       "      <td>0.454817</td>\n",
       "      <td>0.103616</td>\n",
       "    </tr>\n",
       "    <tr>\n",
       "      <th>previous</th>\n",
       "      <td>-0.023046</td>\n",
       "      <td>0.016952</td>\n",
       "      <td>0.001297</td>\n",
       "      <td>-0.018331</td>\n",
       "      <td>0.037087</td>\n",
       "      <td>-0.011048</td>\n",
       "      <td>0.001213</td>\n",
       "      <td>-0.032860</td>\n",
       "      <td>0.454817</td>\n",
       "      <td>1.000000</td>\n",
       "      <td>0.093232</td>\n",
       "    </tr>\n",
       "    <tr>\n",
       "      <th>term_deposit</th>\n",
       "      <td>-0.053390</td>\n",
       "      <td>0.050785</td>\n",
       "      <td>0.025168</td>\n",
       "      <td>-0.022421</td>\n",
       "      <td>-0.139161</td>\n",
       "      <td>-0.068193</td>\n",
       "      <td>0.394549</td>\n",
       "      <td>-0.073179</td>\n",
       "      <td>0.103616</td>\n",
       "      <td>0.093232</td>\n",
       "      <td>1.000000</td>\n",
       "    </tr>\n",
       "  </tbody>\n",
       "</table>\n",
       "</div>"
      ],
      "text/plain": [
       "                     number_transactions  total_amount_usd       age  \\\n",
       "number_transactions             1.000000         -0.163409 -0.008813   \n",
       "total_amount_usd               -0.163409          1.000000  0.095839   \n",
       "age                            -0.008813          0.095839  1.000000   \n",
       "default                         0.138838         -0.065390 -0.017875   \n",
       "housing                         0.030429         -0.066857 -0.185552   \n",
       "loan                            0.075319         -0.084526 -0.015641   \n",
       "duration                       -0.017220          0.022586 -0.004645   \n",
       "campaign                        0.026431         -0.017274  0.004767   \n",
       "pdays                          -0.030751          0.006435 -0.023745   \n",
       "previous                       -0.023046          0.016952  0.001297   \n",
       "term_deposit                   -0.053390          0.050785  0.025168   \n",
       "\n",
       "                      default   housing      loan  duration  campaign  \\\n",
       "number_transactions  0.138838  0.030429  0.075319 -0.017220  0.026431   \n",
       "total_amount_usd    -0.065390 -0.066857 -0.084526  0.022586 -0.017274   \n",
       "age                 -0.017875 -0.185552 -0.015641 -0.004645  0.004767   \n",
       "default              1.000000 -0.006020  0.077232 -0.010017  0.016819   \n",
       "housing             -0.006020  1.000000  0.041341  0.005041 -0.023583   \n",
       "loan                 0.077232  0.041341  1.000000 -0.012395  0.009972   \n",
       "duration            -0.010017  0.005041 -0.012395  1.000000 -0.084551   \n",
       "campaign             0.016819 -0.023583  0.009972 -0.084551  1.000000   \n",
       "pdays               -0.029982  0.124197 -0.022762 -0.001549 -0.088636   \n",
       "previous            -0.018331  0.037087 -0.011048  0.001213 -0.032860   \n",
       "term_deposit        -0.022421 -0.139161 -0.068193  0.394549 -0.073179   \n",
       "\n",
       "                        pdays  previous  term_deposit  \n",
       "number_transactions -0.030751 -0.023046     -0.053390  \n",
       "total_amount_usd     0.006435  0.016952      0.050785  \n",
       "age                 -0.023745  0.001297      0.025168  \n",
       "default             -0.029982 -0.018331     -0.022421  \n",
       "housing              0.124197  0.037087     -0.139161  \n",
       "loan                -0.022762 -0.011048     -0.068193  \n",
       "duration            -0.001549  0.001213      0.394549  \n",
       "campaign            -0.088636 -0.032860     -0.073179  \n",
       "pdays                1.000000  0.454817      0.103616  \n",
       "previous             0.454817  1.000000      0.093232  \n",
       "term_deposit         0.103616  0.093232      1.000000  "
      ]
     },
     "execution_count": 34,
     "metadata": {},
     "output_type": "execute_result"
    }
   ],
   "source": [
    "# look at correlations between the data\n",
    "\n",
    "corr_matrix = users_data.corr()\n",
    "corr_matrix\n",
    "\n",
    "# did not identify any features with high correlations, no feature engineering required"
   ]
  },
  {
   "cell_type": "code",
   "execution_count": 37,
   "id": "c178a12e",
   "metadata": {
    "pycharm": {
     "name": "#%%\n"
    }
   },
   "outputs": [
    {
     "data": {
      "image/png": "[encoded data removed]",
      "text/plain": [
       "<Figure size 720x720 with 2 Axes>"
      ]
     },
     "metadata": {
      "needs_background": "light"
     },
     "output_type": "display_data"
    }
   ],
   "source": [
    "fig = plt.figure(figsize = (10, 10))\n",
    "\n",
    "sns.heatmap(corr_matrix,\n",
    "           cmap = \"Blues\",\n",
    "           annot = True)\n",
    "plt.show()"
   ]
  },
  {
   "cell_type": "code",
   "execution_count": 39,
   "id": "f7f9f189",
   "metadata": {
    "pycharm": {
     "name": "#%%\n"
    }
   },
   "outputs": [
    {
     "data": {
      "image/png": "[encoded data removed]",
      "text/plain": [
       "<Figure size 432x288 with 1 Axes>"
      ]
     },
     "metadata": {
      "needs_background": "light"
     },
     "output_type": "display_data"
    }
   ],
   "source": [
    "# explore the distribution of numerical data\n",
    "\n",
    "users_data.age.hist()\n",
    "plt.title(\"Distribution of age\")\n",
    "plt.show()"
   ]
  },
  {
   "cell_type": "code",
   "execution_count": 41,
   "id": "e986ef8f",
   "metadata": {
    "pycharm": {
     "name": "#%%\n"
    }
   },
   "outputs": [
    {
     "name": "stderr",
     "output_type": "stream",
     "text": [
      "/Users/shaq/.pyenv/versions/3.8.10/lib/python3.8/site-packages/seaborn/distributions.py:2557: FutureWarning: `distplot` is a deprecated function and will be removed in a future version. Please adapt your code to use either `displot` (a figure-level function with similar flexibility) or `histplot` (an axes-level function for histograms).\n",
      "  warnings.warn(msg, FutureWarning)\n"
     ]
    },
    {
     "data": {
      "image/png": "[encoded data removed]",
      "text/plain": [
       "<Figure size 432x288 with 1 Axes>"
      ]
     },
     "metadata": {
      "needs_background": "light"
     },
     "output_type": "display_data"
    }
   ],
   "source": [
    "sns.distplot(users_data.age);"
   ]
  },
  {
   "cell_type": "code",
   "execution_count": 43,
   "id": "7056c2b8",
   "metadata": {
    "pycharm": {
     "name": "#%%\n"
    }
   },
   "outputs": [
    {
     "data": {
      "image/png": "[encoded data removed]",
      "text/plain": [
       "<Figure size 720x720 with 9 Axes>"
      ]
     },
     "metadata": {
      "needs_background": "light"
     },
     "output_type": "display_data"
    }
   ],
   "source": [
    "users_data.hist(figsize = (10,10));"
   ]
  },
  {
   "cell_type": "markdown",
   "id": "4f9c586f",
   "metadata": {
    "pycharm": {
     "name": "#%% md\n"
    }
   },
   "source": [
    "- All the features are skewed - We noticed one feature with low variance, default that we need to drop"
   ]
  },
  {
   "cell_type": "code",
   "execution_count": 44,
   "id": "940ba1e2",
   "metadata": {
    "pycharm": {
     "name": "#%%\n"
    }
   },
   "outputs": [
    {
     "data": {
      "text/plain": [
       "count    45209.000000\n",
       "mean        40.935853\n",
       "std         10.618653\n",
       "min         18.000000\n",
       "25%         33.000000\n",
       "50%         39.000000\n",
       "75%         48.000000\n",
       "max         95.000000\n",
       "Name: age, dtype: float64"
      ]
     },
     "execution_count": 44,
     "metadata": {},
     "output_type": "execute_result"
    }
   ],
   "source": [
    "# distribution of age\n",
    "\n",
    "users_data.age.describe()"
   ]
  },
  {
   "cell_type": "code",
   "execution_count": 45,
   "id": "11c6123e",
   "metadata": {
    "pycharm": {
     "name": "#%%\n"
    }
   },
   "outputs": [
    {
     "data": {
      "text/plain": [
       "0    32\n",
       "dtype: int64"
      ]
     },
     "execution_count": 45,
     "metadata": {},
     "output_type": "execute_result"
    }
   ],
   "source": [
    "# mode of age\n",
    "\n",
    "users_data.age.mode()\n",
    "\n",
    "# since median, mean and mode are not equal this is not normally distributed and may require transformation"
   ]
  },
  {
   "cell_type": "code",
   "execution_count": 48,
   "id": "5d3b17b1",
   "metadata": {
    "pycharm": {
     "name": "#%%\n"
    }
   },
   "outputs": [
    {
     "data": {
      "image/png": "[encoded data removed]",
      "text/plain": [
       "<Figure size 432x288 with 1 Axes>"
      ]
     },
     "metadata": {
      "needs_background": "light"
     },
     "output_type": "display_data"
    }
   ],
   "source": [
    "np.log(users_data.age).hist()\n",
    "plt.title(\"Applying Logarithmic Transformation of Age\");"
   ]
  },
  {
   "cell_type": "code",
   "execution_count": 50,
   "id": "f152f918",
   "metadata": {
    "pycharm": {
     "name": "#%%\n"
    }
   },
   "outputs": [
    {
     "data": {
      "image/png": "[encoded data removed]",
      "text/plain": [
       "<Figure size 432x288 with 1 Axes>"
      ]
     },
     "metadata": {
      "needs_background": "light"
     },
     "output_type": "display_data"
    }
   ],
   "source": [
    "users_data.age.hist()\n",
    "plt.title(\"Distribution of Age\");"
   ]
  },
  {
   "cell_type": "code",
   "execution_count": 51,
   "id": "0087bb1a",
   "metadata": {
    "pycharm": {
     "name": "#%%\n"
    }
   },
   "outputs": [
    {
     "data": {
      "image/png": "[encoded data removed]",
      "text/plain": [
       "<Figure size 432x288 with 1 Axes>"
      ]
     },
     "metadata": {
      "needs_background": "light"
     },
     "output_type": "display_data"
    }
   ],
   "source": [
    "np.log(users_data.number_transactions).hist()\n",
    "plt.title(\"Applying Logarithmic Transformation of Number Transactions\");"
   ]
  },
  {
   "cell_type": "code",
   "execution_count": 53,
   "id": "a47caec1",
   "metadata": {
    "pycharm": {
     "name": "#%%\n"
    }
   },
   "outputs": [
    {
     "data": {
      "image/png": "[encoded data removed]",
      "text/plain": [
       "<Figure size 432x288 with 1 Axes>"
      ]
     },
     "metadata": {
      "needs_background": "light"
     },
     "output_type": "display_data"
    }
   ],
   "source": [
    "users_data.number_transactions.hist()\n",
    "plt.title(\"Distribution of Number Transactions\");"
   ]
  },
  {
   "cell_type": "code",
   "execution_count": 54,
   "id": "d0759fe6",
   "metadata": {
    "pycharm": {
     "name": "#%%\n"
    }
   },
   "outputs": [
    {
     "name": "stdout",
     "output_type": "stream",
     "text": [
      "<class 'pandas.core.frame.DataFrame'>\n",
      "Int64Index: 45209 entries, 0 to 45215\n",
      "Data columns (total 19 columns):\n",
      " #   Column               Non-Null Count  Dtype         \n",
      "---  ------               --------------  -----         \n",
      " 0   user_id              45209 non-null  object        \n",
      " 1   number_transactions  35210 non-null  float64       \n",
      " 2   total_amount_usd     35210 non-null  float64       \n",
      " 3   age                  45209 non-null  int64         \n",
      " 4   job                  44921 non-null  object        \n",
      " 5   marital              45209 non-null  object        \n",
      " 6   education            43352 non-null  object        \n",
      " 7   default              45209 non-null  bool          \n",
      " 8   housing              45209 non-null  bool          \n",
      " 9   loan                 45209 non-null  bool          \n",
      " 10  contact              32191 non-null  object        \n",
      " 11  duration             45209 non-null  int64         \n",
      " 12  campaign             45209 non-null  int64         \n",
      " 13  pdays                45209 non-null  int64         \n",
      " 14  previous             45209 non-null  int64         \n",
      " 15  poutcome             8252 non-null   object        \n",
      " 16  term_deposit         45209 non-null  bool          \n",
      " 17  date_joined          45179 non-null  datetime64[ns]\n",
      " 18  device               45115 non-null  object        \n",
      "dtypes: bool(4), datetime64[ns](1), float64(2), int64(5), object(7)\n",
      "memory usage: 5.7+ MB\n"
     ]
    }
   ],
   "source": [
    "# \n",
    "\n",
    "users_data.info()"
   ]
  },
  {
   "cell_type": "code",
   "execution_count": 58,
   "id": "0e1ac174",
   "metadata": {
    "pycharm": {
     "name": "#%%\n"
    }
   },
   "outputs": [
    {
     "data": {
      "image/png": "[encoded data removed]",
      "text/plain": [
       "<Figure size 432x288 with 9 Axes>"
      ]
     },
     "metadata": {
      "needs_background": "light"
     },
     "output_type": "display_data"
    }
   ],
   "source": [
    "# how many categories does each feature have, with data type object?\n",
    "\n",
    "users_data.select_dtypes(['int64', 'float64']).hist();"
   ]
  },
  {
   "cell_type": "code",
   "execution_count": 62,
   "id": "71815910",
   "metadata": {
    "pycharm": {
     "name": "#%%\n"
    }
   },
   "outputs": [
    {
     "data": {
      "text/plain": [
       "['user_id', 'job', 'marital', 'education', 'contact', 'poutcome', 'device']"
      ]
     },
     "execution_count": 62,
     "metadata": {},
     "output_type": "execute_result"
    }
   ],
   "source": [
    "categorical_columns = list(users_data.select_dtypes(['object']).columns)\n",
    "categorical_columns"
   ]
  },
  {
   "cell_type": "code",
   "execution_count": 74,
   "id": "80674bb5",
   "metadata": {
    "pycharm": {
     "name": "#%%\n"
    }
   },
   "outputs": [
    {
     "data": {
      "text/html": [
       "<div>\n",
       "<style scoped>\n",
       "    .dataframe tbody tr th:only-of-type {\n",
       "        vertical-align: middle;\n",
       "    }\n",
       "\n",
       "    .dataframe tbody tr th {\n",
       "        vertical-align: top;\n",
       "    }\n",
       "\n",
       "    .dataframe thead th {\n",
       "        text-align: right;\n",
       "    }\n",
       "</style>\n",
       "<table border=\"1\" class=\"dataframe\">\n",
       "  <thead>\n",
       "    <tr style=\"text-align: right;\">\n",
       "      <th></th>\n",
       "      <th>categorical_feature_name</th>\n",
       "      <th>count</th>\n",
       "    </tr>\n",
       "  </thead>\n",
       "  <tbody>\n",
       "    <tr>\n",
       "      <th>0</th>\n",
       "      <td>user_id</td>\n",
       "      <td>45209</td>\n",
       "    </tr>\n",
       "    <tr>\n",
       "      <th>1</th>\n",
       "      <td>job</td>\n",
       "      <td>12</td>\n",
       "    </tr>\n",
       "    <tr>\n",
       "      <th>2</th>\n",
       "      <td>marital</td>\n",
       "      <td>3</td>\n",
       "    </tr>\n",
       "    <tr>\n",
       "      <th>3</th>\n",
       "      <td>education</td>\n",
       "      <td>4</td>\n",
       "    </tr>\n",
       "    <tr>\n",
       "      <th>4</th>\n",
       "      <td>contact</td>\n",
       "      <td>3</td>\n",
       "    </tr>\n",
       "    <tr>\n",
       "      <th>5</th>\n",
       "      <td>poutcome</td>\n",
       "      <td>4</td>\n",
       "    </tr>\n",
       "    <tr>\n",
       "      <th>6</th>\n",
       "      <td>device</td>\n",
       "      <td>4</td>\n",
       "    </tr>\n",
       "  </tbody>\n",
       "</table>\n",
       "</div>"
      ],
      "text/plain": [
       "  categorical_feature_name  count\n",
       "0                  user_id  45209\n",
       "1                      job     12\n",
       "2                  marital      3\n",
       "3                education      4\n",
       "4                  contact      3\n",
       "5                 poutcome      4\n",
       "6                   device      4"
      ]
     },
     "execution_count": 74,
     "metadata": {},
     "output_type": "execute_result"
    }
   ],
   "source": [
    "cat_df = []\n",
    "\n",
    "for c in categorical_columns:\n",
    "    cat_df.append({\"categorical_feature_name\":c,\n",
    "                    \"count\": len(users_data[c].unique())\n",
    "                  })\n",
    "    \n",
    "pd.DataFrame(cat_df)"
   ]
  },
  {
   "cell_type": "code",
   "execution_count": 137,
   "id": "1c98e212",
   "metadata": {
    "pycharm": {
     "name": "#%%\n"
    }
   },
   "outputs": [
    {
     "data": {
      "text/plain": [
       "12"
      ]
     },
     "execution_count": 137,
     "metadata": {},
     "output_type": "execute_result"
    }
   ],
   "source": [
    "len(users_data.job.unique())"
   ]
  },
  {
   "cell_type": "code",
   "execution_count": 78,
   "id": "74fb46f2",
   "metadata": {
    "pycharm": {
     "name": "#%%\n"
    }
   },
   "outputs": [],
   "source": [
    "def identify_number_categories(df):\n",
    "    \"\"\"\n",
    "    This definition can be used to identify the number of categories of every categorical feature \n",
    "    \n",
    "    @param df DataFrame \n",
    "    \n",
    "    @return a DataFrame with the categorical features and number of categories\"\"\"\n",
    "\n",
    "    categorical_columns = list(df.select_dtypes(['object']).columns)\n",
    "\n",
    "    cat_df = []\n",
    "\n",
    "    for c in categorical_columns:\n",
    "        cat_df.append({\"categorical_feature\": c,\n",
    "                       \"number_categories\": len(df[c].value_counts(dropna = False))\n",
    "                    })\n",
    "        \n",
    "    return pd.DataFrame(cat_df).sort_values(by = \"number_categories\", ascending = False)"
   ]
  },
  {
   "cell_type": "code",
   "execution_count": 79,
   "id": "95e64117",
   "metadata": {
    "pycharm": {
     "name": "#%%\n"
    }
   },
   "outputs": [
    {
     "data": {
      "text/html": [
       "<div>\n",
       "<style scoped>\n",
       "    .dataframe tbody tr th:only-of-type {\n",
       "        vertical-align: middle;\n",
       "    }\n",
       "\n",
       "    .dataframe tbody tr th {\n",
       "        vertical-align: top;\n",
       "    }\n",
       "\n",
       "    .dataframe thead th {\n",
       "        text-align: right;\n",
       "    }\n",
       "</style>\n",
       "<table border=\"1\" class=\"dataframe\">\n",
       "  <thead>\n",
       "    <tr style=\"text-align: right;\">\n",
       "      <th></th>\n",
       "      <th>categorical_feature</th>\n",
       "      <th>number_categories</th>\n",
       "    </tr>\n",
       "  </thead>\n",
       "  <tbody>\n",
       "    <tr>\n",
       "      <th>0</th>\n",
       "      <td>user_id</td>\n",
       "      <td>45209</td>\n",
       "    </tr>\n",
       "    <tr>\n",
       "      <th>1</th>\n",
       "      <td>job</td>\n",
       "      <td>12</td>\n",
       "    </tr>\n",
       "    <tr>\n",
       "      <th>3</th>\n",
       "      <td>education</td>\n",
       "      <td>4</td>\n",
       "    </tr>\n",
       "    <tr>\n",
       "      <th>5</th>\n",
       "      <td>poutcome</td>\n",
       "      <td>4</td>\n",
       "    </tr>\n",
       "    <tr>\n",
       "      <th>6</th>\n",
       "      <td>device</td>\n",
       "      <td>4</td>\n",
       "    </tr>\n",
       "    <tr>\n",
       "      <th>2</th>\n",
       "      <td>marital</td>\n",
       "      <td>3</td>\n",
       "    </tr>\n",
       "    <tr>\n",
       "      <th>4</th>\n",
       "      <td>contact</td>\n",
       "      <td>3</td>\n",
       "    </tr>\n",
       "  </tbody>\n",
       "</table>\n",
       "</div>"
      ],
      "text/plain": [
       "  categorical_feature  number_categories\n",
       "0             user_id              45209\n",
       "1                 job                 12\n",
       "3           education                  4\n",
       "5            poutcome                  4\n",
       "6              device                  4\n",
       "2             marital                  3\n",
       "4             contact                  3"
      ]
     },
     "execution_count": 79,
     "metadata": {},
     "output_type": "execute_result"
    }
   ],
   "source": [
    "# Data Frame that identifies features with data types object and the number of categories\n",
    "\n",
    "identify_number_categories(users_data)\n",
    "\n",
    "# we need to drop the feature user_id when we do our feature selection"
   ]
  },
  {
   "cell_type": "code",
   "execution_count": 80,
   "id": "3c415bae",
   "metadata": {
    "pycharm": {
     "name": "#%%\n"
    }
   },
   "outputs": [
    {
     "data": {
      "text/plain": [
       "user_id                    0\n",
       "number_transactions     9999\n",
       "total_amount_usd        9999\n",
       "age                        0\n",
       "job                      288\n",
       "marital                    0\n",
       "education               1857\n",
       "default                    0\n",
       "housing                    0\n",
       "loan                       0\n",
       "contact                13018\n",
       "duration                   0\n",
       "campaign                   0\n",
       "pdays                      0\n",
       "previous                   0\n",
       "poutcome               36957\n",
       "term_deposit               0\n",
       "date_joined               30\n",
       "device                    94\n",
       "dtype: int64"
      ]
     },
     "execution_count": 80,
     "metadata": {},
     "output_type": "execute_result"
    }
   ],
   "source": [
    "# identify missing data\n",
    "\n",
    "users_data.isnull().sum()\n"
   ]
  },
  {
   "cell_type": "code",
   "execution_count": 81,
   "id": "bf2ba65b",
   "metadata": {
    "pycharm": {
     "name": "#%%\n"
    }
   },
   "outputs": [
    {
     "data": {
      "text/plain": [
       "user_id                0.000000\n",
       "number_transactions    0.221173\n",
       "total_amount_usd       0.221173\n",
       "age                    0.000000\n",
       "job                    0.006370\n",
       "marital                0.000000\n",
       "education              0.041076\n",
       "default                0.000000\n",
       "housing                0.000000\n",
       "loan                   0.000000\n",
       "contact                0.287952\n",
       "duration               0.000000\n",
       "campaign               0.000000\n",
       "pdays                  0.000000\n",
       "previous               0.000000\n",
       "poutcome               0.817470\n",
       "term_deposit           0.000000\n",
       "date_joined            0.000664\n",
       "device                 0.002079\n",
       "dtype: float64"
      ]
     },
     "execution_count": 81,
     "metadata": {},
     "output_type": "execute_result"
    }
   ],
   "source": [
    "users_data.isnull().mean()"
   ]
  },
  {
   "cell_type": "code",
   "execution_count": 82,
   "id": "7d217040",
   "metadata": {
    "pycharm": {
     "name": "#%%\n"
    }
   },
   "outputs": [],
   "source": [
    "def identify_missing_data(df):\n",
    "    \"\"\"\n",
    "    This function is used to identify missing data\n",
    "    \n",
    "    @param df pandas DataFrame\n",
    "    \n",
    "    @return a DataFrame with the percentage of missing data for every feature and the data types\n",
    "    \"\"\"\n",
    "    \n",
    "    percent_missing = df.isnull().mean()\n",
    "    \n",
    "    missing_value_df = pd.DataFrame(percent_missing).reset_index() # convert to DataFrame\n",
    "    missing_value_df = missing_value_df.rename(columns = {\"index\" : \"feature\",\n",
    "                                                                0 : \"percent_missing\"}) # rename columns\n",
    "\n",
    "    missing_value_df = missing_value_df.sort_values(by = ['percent_missing'], ascending = False) # sort the values\n",
    "    \n",
    "    data_types_df = pd.DataFrame(df.dtypes).reset_index().rename(columns = {\"index\" : \"feature\",\n",
    "                                                                0 : \"data_type\"}) # rename columns\n",
    "    \n",
    "    missing_value_df = missing_value_df.merge(data_types_df, on = \"feature\") # join the dataframe with datatype\n",
    "    \n",
    "    missing_value_df.percent_missing = round(missing_value_df.percent_missing*100, 2) # format the percent_missing\n",
    "    \n",
    "    return missing_value_df\n"
   ]
  },
  {
   "cell_type": "code",
   "execution_count": 84,
   "id": "a9459d0d",
   "metadata": {
    "pycharm": {
     "name": "#%%\n"
    }
   },
   "outputs": [
    {
     "data": {
      "text/html": [
       "<div>\n",
       "<style scoped>\n",
       "    .dataframe tbody tr th:only-of-type {\n",
       "        vertical-align: middle;\n",
       "    }\n",
       "\n",
       "    .dataframe tbody tr th {\n",
       "        vertical-align: top;\n",
       "    }\n",
       "\n",
       "    .dataframe thead th {\n",
       "        text-align: right;\n",
       "    }\n",
       "</style>\n",
       "<table border=\"1\" class=\"dataframe\">\n",
       "  <thead>\n",
       "    <tr style=\"text-align: right;\">\n",
       "      <th></th>\n",
       "      <th>feature</th>\n",
       "      <th>percent_missing</th>\n",
       "      <th>data_type</th>\n",
       "    </tr>\n",
       "  </thead>\n",
       "  <tbody>\n",
       "    <tr>\n",
       "      <th>0</th>\n",
       "      <td>poutcome</td>\n",
       "      <td>81.75</td>\n",
       "      <td>object</td>\n",
       "    </tr>\n",
       "    <tr>\n",
       "      <th>1</th>\n",
       "      <td>contact</td>\n",
       "      <td>28.80</td>\n",
       "      <td>object</td>\n",
       "    </tr>\n",
       "    <tr>\n",
       "      <th>2</th>\n",
       "      <td>total_amount_usd</td>\n",
       "      <td>22.12</td>\n",
       "      <td>float64</td>\n",
       "    </tr>\n",
       "    <tr>\n",
       "      <th>3</th>\n",
       "      <td>number_transactions</td>\n",
       "      <td>22.12</td>\n",
       "      <td>float64</td>\n",
       "    </tr>\n",
       "    <tr>\n",
       "      <th>4</th>\n",
       "      <td>education</td>\n",
       "      <td>4.11</td>\n",
       "      <td>object</td>\n",
       "    </tr>\n",
       "    <tr>\n",
       "      <th>5</th>\n",
       "      <td>job</td>\n",
       "      <td>0.64</td>\n",
       "      <td>object</td>\n",
       "    </tr>\n",
       "    <tr>\n",
       "      <th>6</th>\n",
       "      <td>device</td>\n",
       "      <td>0.21</td>\n",
       "      <td>object</td>\n",
       "    </tr>\n",
       "    <tr>\n",
       "      <th>7</th>\n",
       "      <td>date_joined</td>\n",
       "      <td>0.07</td>\n",
       "      <td>datetime64[ns]</td>\n",
       "    </tr>\n",
       "  </tbody>\n",
       "</table>\n",
       "</div>"
      ],
      "text/plain": [
       "               feature  percent_missing       data_type\n",
       "0             poutcome            81.75          object\n",
       "1              contact            28.80          object\n",
       "2     total_amount_usd            22.12         float64\n",
       "3  number_transactions            22.12         float64\n",
       "4            education             4.11          object\n",
       "5                  job             0.64          object\n",
       "6               device             0.21          object\n",
       "7          date_joined             0.07  datetime64[ns]"
      ]
     },
     "execution_count": 84,
     "metadata": {},
     "output_type": "execute_result"
    }
   ],
   "source": [
    "missing_value_df = identify_missing_data(users_data)\n",
    "missing_value_df[missing_value_df[\"percent_missing\"] > 0]"
   ]
  },
  {
   "cell_type": "markdown",
   "id": "70a8f03b",
   "metadata": {
    "pycharm": {
     "name": "#%% md\n"
    }
   },
   "source": [
    "### Feature Engineering"
   ]
  },
  {
   "cell_type": "code",
   "execution_count": 120,
   "id": "a6d5c028",
   "metadata": {
    "pycharm": {
     "name": "#%%\n"
    }
   },
   "outputs": [
    {
     "data": {
      "text/html": [
       "<div>\n",
       "<style scoped>\n",
       "    .dataframe tbody tr th:only-of-type {\n",
       "        vertical-align: middle;\n",
       "    }\n",
       "\n",
       "    .dataframe tbody tr th {\n",
       "        vertical-align: top;\n",
       "    }\n",
       "\n",
       "    .dataframe thead th {\n",
       "        text-align: right;\n",
       "    }\n",
       "</style>\n",
       "<table border=\"1\" class=\"dataframe\">\n",
       "  <thead>\n",
       "    <tr style=\"text-align: right;\">\n",
       "      <th></th>\n",
       "      <th>user_id</th>\n",
       "      <th>number_transactions</th>\n",
       "      <th>total_amount_usd</th>\n",
       "      <th>age</th>\n",
       "      <th>job</th>\n",
       "      <th>marital</th>\n",
       "      <th>education</th>\n",
       "      <th>default</th>\n",
       "      <th>housing</th>\n",
       "      <th>loan</th>\n",
       "      <th>contact</th>\n",
       "      <th>duration</th>\n",
       "      <th>campaign</th>\n",
       "      <th>pdays</th>\n",
       "      <th>previous</th>\n",
       "      <th>poutcome</th>\n",
       "      <th>term_deposit</th>\n",
       "      <th>date_joined</th>\n",
       "      <th>device</th>\n",
       "    </tr>\n",
       "  </thead>\n",
       "  <tbody>\n",
       "    <tr>\n",
       "      <th>1832</th>\n",
       "      <td>a8efc367-e7bc-4ddf-a075-ab6a850c5be1</td>\n",
       "      <td>2.0</td>\n",
       "      <td>10.0</td>\n",
       "      <td>40</td>\n",
       "      <td>blue-collar</td>\n",
       "      <td>married</td>\n",
       "      <td>secondary</td>\n",
       "      <td>False</td>\n",
       "      <td>True</td>\n",
       "      <td>False</td>\n",
       "      <td>None</td>\n",
       "      <td>1692</td>\n",
       "      <td>2</td>\n",
       "      <td>-1</td>\n",
       "      <td>0</td>\n",
       "      <td>None</td>\n",
       "      <td>True</td>\n",
       "      <td>NaT</td>\n",
       "      <td>desktop</td>\n",
       "    </tr>\n",
       "    <tr>\n",
       "      <th>1970</th>\n",
       "      <td>e287579c-0eb5-4da0-a697-a92e6a024c47</td>\n",
       "      <td>6.0</td>\n",
       "      <td>391.0</td>\n",
       "      <td>34</td>\n",
       "      <td>admin.</td>\n",
       "      <td>single</td>\n",
       "      <td>secondary</td>\n",
       "      <td>False</td>\n",
       "      <td>True</td>\n",
       "      <td>False</td>\n",
       "      <td>None</td>\n",
       "      <td>192</td>\n",
       "      <td>2</td>\n",
       "      <td>-1</td>\n",
       "      <td>0</td>\n",
       "      <td>None</td>\n",
       "      <td>False</td>\n",
       "      <td>NaT</td>\n",
       "      <td>mobile</td>\n",
       "    </tr>\n",
       "    <tr>\n",
       "      <th>8033</th>\n",
       "      <td>9e6d7f37-fec1-4967-9281-d37eb69fc211</td>\n",
       "      <td>4.0</td>\n",
       "      <td>691.0</td>\n",
       "      <td>34</td>\n",
       "      <td>technician</td>\n",
       "      <td>married</td>\n",
       "      <td>tertiary</td>\n",
       "      <td>False</td>\n",
       "      <td>True</td>\n",
       "      <td>True</td>\n",
       "      <td>None</td>\n",
       "      <td>70</td>\n",
       "      <td>1</td>\n",
       "      <td>-1</td>\n",
       "      <td>0</td>\n",
       "      <td>None</td>\n",
       "      <td>False</td>\n",
       "      <td>NaT</td>\n",
       "      <td>mobile</td>\n",
       "    </tr>\n",
       "    <tr>\n",
       "      <th>11292</th>\n",
       "      <td>e380ff78-00d5-4f4d-93a3-db991ff0ca3b</td>\n",
       "      <td>3.0</td>\n",
       "      <td>2769.0</td>\n",
       "      <td>41</td>\n",
       "      <td>services</td>\n",
       "      <td>divorced</td>\n",
       "      <td>secondary</td>\n",
       "      <td>False</td>\n",
       "      <td>True</td>\n",
       "      <td>False</td>\n",
       "      <td>None</td>\n",
       "      <td>96</td>\n",
       "      <td>3</td>\n",
       "      <td>-1</td>\n",
       "      <td>0</td>\n",
       "      <td>None</td>\n",
       "      <td>False</td>\n",
       "      <td>NaT</td>\n",
       "      <td>mobile</td>\n",
       "    </tr>\n",
       "    <tr>\n",
       "      <th>12439</th>\n",
       "      <td>d64a3876-1dc0-480e-b13e-c4b89639b6d2</td>\n",
       "      <td>5.0</td>\n",
       "      <td>0.0</td>\n",
       "      <td>57</td>\n",
       "      <td>retired</td>\n",
       "      <td>married</td>\n",
       "      <td>secondary</td>\n",
       "      <td>False</td>\n",
       "      <td>False</td>\n",
       "      <td>True</td>\n",
       "      <td>None</td>\n",
       "      <td>104</td>\n",
       "      <td>2</td>\n",
       "      <td>-1</td>\n",
       "      <td>0</td>\n",
       "      <td>None</td>\n",
       "      <td>False</td>\n",
       "      <td>NaT</td>\n",
       "      <td>mobile</td>\n",
       "    </tr>\n",
       "    <tr>\n",
       "      <th>13006</th>\n",
       "      <td>2673ec0e-5df6-416f-9eda-e39cb50ca03c</td>\n",
       "      <td>2.0</td>\n",
       "      <td>473.0</td>\n",
       "      <td>32</td>\n",
       "      <td>services</td>\n",
       "      <td>single</td>\n",
       "      <td>secondary</td>\n",
       "      <td>False</td>\n",
       "      <td>True</td>\n",
       "      <td>False</td>\n",
       "      <td>cellular</td>\n",
       "      <td>624</td>\n",
       "      <td>5</td>\n",
       "      <td>-1</td>\n",
       "      <td>0</td>\n",
       "      <td>None</td>\n",
       "      <td>False</td>\n",
       "      <td>NaT</td>\n",
       "      <td>mobile</td>\n",
       "    </tr>\n",
       "    <tr>\n",
       "      <th>13826</th>\n",
       "      <td>a0e4abc2-6451-4a97-a669-45307de8059d</td>\n",
       "      <td>2.0</td>\n",
       "      <td>29.0</td>\n",
       "      <td>57</td>\n",
       "      <td>retired</td>\n",
       "      <td>married</td>\n",
       "      <td>tertiary</td>\n",
       "      <td>False</td>\n",
       "      <td>False</td>\n",
       "      <td>False</td>\n",
       "      <td>telephone</td>\n",
       "      <td>532</td>\n",
       "      <td>2</td>\n",
       "      <td>-1</td>\n",
       "      <td>0</td>\n",
       "      <td>None</td>\n",
       "      <td>False</td>\n",
       "      <td>NaT</td>\n",
       "      <td>mobile</td>\n",
       "    </tr>\n",
       "    <tr>\n",
       "      <th>15175</th>\n",
       "      <td>1101e360-4872-44a9-a3ac-38afa2f73581</td>\n",
       "      <td>NaN</td>\n",
       "      <td>NaN</td>\n",
       "      <td>33</td>\n",
       "      <td>self-employed</td>\n",
       "      <td>divorced</td>\n",
       "      <td>secondary</td>\n",
       "      <td>False</td>\n",
       "      <td>True</td>\n",
       "      <td>False</td>\n",
       "      <td>cellular</td>\n",
       "      <td>1584</td>\n",
       "      <td>2</td>\n",
       "      <td>-1</td>\n",
       "      <td>0</td>\n",
       "      <td>None</td>\n",
       "      <td>True</td>\n",
       "      <td>NaT</td>\n",
       "      <td>mobile</td>\n",
       "    </tr>\n",
       "    <tr>\n",
       "      <th>15290</th>\n",
       "      <td>a63e7d7d-00ba-4751-be20-440576efaac3</td>\n",
       "      <td>2.0</td>\n",
       "      <td>976.0</td>\n",
       "      <td>42</td>\n",
       "      <td>admin.</td>\n",
       "      <td>married</td>\n",
       "      <td>secondary</td>\n",
       "      <td>False</td>\n",
       "      <td>True</td>\n",
       "      <td>False</td>\n",
       "      <td>cellular</td>\n",
       "      <td>69</td>\n",
       "      <td>7</td>\n",
       "      <td>-1</td>\n",
       "      <td>0</td>\n",
       "      <td>None</td>\n",
       "      <td>False</td>\n",
       "      <td>NaT</td>\n",
       "      <td>mobile</td>\n",
       "    </tr>\n",
       "    <tr>\n",
       "      <th>17032</th>\n",
       "      <td>e5b0bc16-b7fc-43a8-9d4f-90827fbe8f1f</td>\n",
       "      <td>NaN</td>\n",
       "      <td>NaN</td>\n",
       "      <td>51</td>\n",
       "      <td>unemployed</td>\n",
       "      <td>married</td>\n",
       "      <td>primary</td>\n",
       "      <td>False</td>\n",
       "      <td>True</td>\n",
       "      <td>False</td>\n",
       "      <td>cellular</td>\n",
       "      <td>2015</td>\n",
       "      <td>1</td>\n",
       "      <td>-1</td>\n",
       "      <td>0</td>\n",
       "      <td>None</td>\n",
       "      <td>True</td>\n",
       "      <td>NaT</td>\n",
       "      <td>mobile</td>\n",
       "    </tr>\n",
       "    <tr>\n",
       "      <th>17688</th>\n",
       "      <td>29e5f76d-ef83-400f-92e3-6c2f250bd911</td>\n",
       "      <td>5.0</td>\n",
       "      <td>0.0</td>\n",
       "      <td>46</td>\n",
       "      <td>entrepreneur</td>\n",
       "      <td>married</td>\n",
       "      <td>secondary</td>\n",
       "      <td>False</td>\n",
       "      <td>False</td>\n",
       "      <td>False</td>\n",
       "      <td>cellular</td>\n",
       "      <td>100</td>\n",
       "      <td>12</td>\n",
       "      <td>-1</td>\n",
       "      <td>0</td>\n",
       "      <td>None</td>\n",
       "      <td>False</td>\n",
       "      <td>NaT</td>\n",
       "      <td>mobile</td>\n",
       "    </tr>\n",
       "    <tr>\n",
       "      <th>18628</th>\n",
       "      <td>3bea4654-aa7c-40e3-ad78-0384e5d1945b</td>\n",
       "      <td>NaN</td>\n",
       "      <td>NaN</td>\n",
       "      <td>45</td>\n",
       "      <td>blue-collar</td>\n",
       "      <td>single</td>\n",
       "      <td>primary</td>\n",
       "      <td>False</td>\n",
       "      <td>False</td>\n",
       "      <td>False</td>\n",
       "      <td>cellular</td>\n",
       "      <td>294</td>\n",
       "      <td>3</td>\n",
       "      <td>-1</td>\n",
       "      <td>0</td>\n",
       "      <td>None</td>\n",
       "      <td>False</td>\n",
       "      <td>NaT</td>\n",
       "      <td>desktop</td>\n",
       "    </tr>\n",
       "    <tr>\n",
       "      <th>20082</th>\n",
       "      <td>a104f34c-dcbf-4477-bbc2-fe2f2c568289</td>\n",
       "      <td>NaN</td>\n",
       "      <td>NaN</td>\n",
       "      <td>44</td>\n",
       "      <td>management</td>\n",
       "      <td>divorced</td>\n",
       "      <td>tertiary</td>\n",
       "      <td>False</td>\n",
       "      <td>False</td>\n",
       "      <td>False</td>\n",
       "      <td>cellular</td>\n",
       "      <td>70</td>\n",
       "      <td>5</td>\n",
       "      <td>-1</td>\n",
       "      <td>0</td>\n",
       "      <td>None</td>\n",
       "      <td>False</td>\n",
       "      <td>NaT</td>\n",
       "      <td>mobile</td>\n",
       "    </tr>\n",
       "    <tr>\n",
       "      <th>20958</th>\n",
       "      <td>bedacfd5-af72-4330-8f8e-c2c1d7052e75</td>\n",
       "      <td>3.0</td>\n",
       "      <td>903.0</td>\n",
       "      <td>34</td>\n",
       "      <td>technician</td>\n",
       "      <td>married</td>\n",
       "      <td>secondary</td>\n",
       "      <td>False</td>\n",
       "      <td>True</td>\n",
       "      <td>False</td>\n",
       "      <td>cellular</td>\n",
       "      <td>67</td>\n",
       "      <td>2</td>\n",
       "      <td>-1</td>\n",
       "      <td>0</td>\n",
       "      <td>None</td>\n",
       "      <td>False</td>\n",
       "      <td>NaT</td>\n",
       "      <td>mobile</td>\n",
       "    </tr>\n",
       "    <tr>\n",
       "      <th>21088</th>\n",
       "      <td>28f9caaa-de10-4d59-a263-d2918ba889e7</td>\n",
       "      <td>4.0</td>\n",
       "      <td>232.0</td>\n",
       "      <td>47</td>\n",
       "      <td>blue-collar</td>\n",
       "      <td>married</td>\n",
       "      <td>secondary</td>\n",
       "      <td>False</td>\n",
       "      <td>True</td>\n",
       "      <td>True</td>\n",
       "      <td>cellular</td>\n",
       "      <td>90</td>\n",
       "      <td>4</td>\n",
       "      <td>-1</td>\n",
       "      <td>0</td>\n",
       "      <td>None</td>\n",
       "      <td>False</td>\n",
       "      <td>NaT</td>\n",
       "      <td>desktop</td>\n",
       "    </tr>\n",
       "    <tr>\n",
       "      <th>22274</th>\n",
       "      <td>a558d62a-dfd0-4a4d-b2ad-3fe5e0cbe71c</td>\n",
       "      <td>3.0</td>\n",
       "      <td>38.0</td>\n",
       "      <td>37</td>\n",
       "      <td>management</td>\n",
       "      <td>married</td>\n",
       "      <td>secondary</td>\n",
       "      <td>False</td>\n",
       "      <td>False</td>\n",
       "      <td>False</td>\n",
       "      <td>cellular</td>\n",
       "      <td>94</td>\n",
       "      <td>13</td>\n",
       "      <td>-1</td>\n",
       "      <td>0</td>\n",
       "      <td>None</td>\n",
       "      <td>False</td>\n",
       "      <td>NaT</td>\n",
       "      <td>mobile</td>\n",
       "    </tr>\n",
       "    <tr>\n",
       "      <th>23426</th>\n",
       "      <td>d171b517-26a6-49b4-a50c-a26f69e96b2f</td>\n",
       "      <td>3.0</td>\n",
       "      <td>-315.0</td>\n",
       "      <td>47</td>\n",
       "      <td>management</td>\n",
       "      <td>married</td>\n",
       "      <td>tertiary</td>\n",
       "      <td>False</td>\n",
       "      <td>True</td>\n",
       "      <td>True</td>\n",
       "      <td>cellular</td>\n",
       "      <td>112</td>\n",
       "      <td>9</td>\n",
       "      <td>-1</td>\n",
       "      <td>0</td>\n",
       "      <td>None</td>\n",
       "      <td>False</td>\n",
       "      <td>NaT</td>\n",
       "      <td>mobile</td>\n",
       "    </tr>\n",
       "    <tr>\n",
       "      <th>23579</th>\n",
       "      <td>9d8ce14f-79e7-4577-9e61-a3f930a9066d</td>\n",
       "      <td>3.0</td>\n",
       "      <td>1232.0</td>\n",
       "      <td>40</td>\n",
       "      <td>technician</td>\n",
       "      <td>married</td>\n",
       "      <td>secondary</td>\n",
       "      <td>False</td>\n",
       "      <td>False</td>\n",
       "      <td>False</td>\n",
       "      <td>cellular</td>\n",
       "      <td>175</td>\n",
       "      <td>11</td>\n",
       "      <td>-1</td>\n",
       "      <td>0</td>\n",
       "      <td>None</td>\n",
       "      <td>False</td>\n",
       "      <td>NaT</td>\n",
       "      <td>mobile</td>\n",
       "    </tr>\n",
       "    <tr>\n",
       "      <th>25596</th>\n",
       "      <td>9391c4b9-1468-45af-8e57-169dc1b81401</td>\n",
       "      <td>NaN</td>\n",
       "      <td>NaN</td>\n",
       "      <td>45</td>\n",
       "      <td>technician</td>\n",
       "      <td>divorced</td>\n",
       "      <td>secondary</td>\n",
       "      <td>False</td>\n",
       "      <td>True</td>\n",
       "      <td>False</td>\n",
       "      <td>cellular</td>\n",
       "      <td>298</td>\n",
       "      <td>1</td>\n",
       "      <td>170</td>\n",
       "      <td>2</td>\n",
       "      <td>failure</td>\n",
       "      <td>False</td>\n",
       "      <td>NaT</td>\n",
       "      <td>tablet</td>\n",
       "    </tr>\n",
       "    <tr>\n",
       "      <th>29546</th>\n",
       "      <td>40264c58-3513-4dc1-a1c5-6cf860576ceb</td>\n",
       "      <td>4.0</td>\n",
       "      <td>2081.0</td>\n",
       "      <td>41</td>\n",
       "      <td>unemployed</td>\n",
       "      <td>married</td>\n",
       "      <td>secondary</td>\n",
       "      <td>False</td>\n",
       "      <td>True</td>\n",
       "      <td>False</td>\n",
       "      <td>cellular</td>\n",
       "      <td>53</td>\n",
       "      <td>3</td>\n",
       "      <td>-1</td>\n",
       "      <td>0</td>\n",
       "      <td>None</td>\n",
       "      <td>False</td>\n",
       "      <td>NaT</td>\n",
       "      <td>desktop</td>\n",
       "    </tr>\n",
       "    <tr>\n",
       "      <th>30104</th>\n",
       "      <td>faf4f270-b26f-4005-a750-d31e4d1eafab</td>\n",
       "      <td>6.0</td>\n",
       "      <td>468.0</td>\n",
       "      <td>27</td>\n",
       "      <td>student</td>\n",
       "      <td>single</td>\n",
       "      <td>None</td>\n",
       "      <td>False</td>\n",
       "      <td>False</td>\n",
       "      <td>False</td>\n",
       "      <td>cellular</td>\n",
       "      <td>270</td>\n",
       "      <td>2</td>\n",
       "      <td>-1</td>\n",
       "      <td>0</td>\n",
       "      <td>None</td>\n",
       "      <td>False</td>\n",
       "      <td>NaT</td>\n",
       "      <td>mobile</td>\n",
       "    </tr>\n",
       "    <tr>\n",
       "      <th>30995</th>\n",
       "      <td>3806958d-3ad8-482e-9d2d-0f74d321c17d</td>\n",
       "      <td>5.0</td>\n",
       "      <td>358.0</td>\n",
       "      <td>32</td>\n",
       "      <td>blue-collar</td>\n",
       "      <td>single</td>\n",
       "      <td>tertiary</td>\n",
       "      <td>False</td>\n",
       "      <td>False</td>\n",
       "      <td>False</td>\n",
       "      <td>cellular</td>\n",
       "      <td>103</td>\n",
       "      <td>3</td>\n",
       "      <td>-1</td>\n",
       "      <td>0</td>\n",
       "      <td>None</td>\n",
       "      <td>False</td>\n",
       "      <td>NaT</td>\n",
       "      <td>desktop</td>\n",
       "    </tr>\n",
       "    <tr>\n",
       "      <th>33027</th>\n",
       "      <td>22be7086-8b83-48ed-be20-6d11c40fa414</td>\n",
       "      <td>NaN</td>\n",
       "      <td>NaN</td>\n",
       "      <td>56</td>\n",
       "      <td>blue-collar</td>\n",
       "      <td>married</td>\n",
       "      <td>secondary</td>\n",
       "      <td>False</td>\n",
       "      <td>False</td>\n",
       "      <td>False</td>\n",
       "      <td>telephone</td>\n",
       "      <td>100</td>\n",
       "      <td>2</td>\n",
       "      <td>-1</td>\n",
       "      <td>0</td>\n",
       "      <td>None</td>\n",
       "      <td>False</td>\n",
       "      <td>NaT</td>\n",
       "      <td>tablet</td>\n",
       "    </tr>\n",
       "    <tr>\n",
       "      <th>34371</th>\n",
       "      <td>1459a5b3-5fb7-468c-a477-0ed94730a518</td>\n",
       "      <td>5.0</td>\n",
       "      <td>690.0</td>\n",
       "      <td>31</td>\n",
       "      <td>admin.</td>\n",
       "      <td>single</td>\n",
       "      <td>secondary</td>\n",
       "      <td>False</td>\n",
       "      <td>False</td>\n",
       "      <td>False</td>\n",
       "      <td>cellular</td>\n",
       "      <td>10</td>\n",
       "      <td>4</td>\n",
       "      <td>87</td>\n",
       "      <td>12</td>\n",
       "      <td>failure</td>\n",
       "      <td>False</td>\n",
       "      <td>NaT</td>\n",
       "      <td>mobile</td>\n",
       "    </tr>\n",
       "    <tr>\n",
       "      <th>35251</th>\n",
       "      <td>f3a7e3ce-95a2-44bb-ab82-5727a47cc1b1</td>\n",
       "      <td>2.0</td>\n",
       "      <td>280.0</td>\n",
       "      <td>36</td>\n",
       "      <td>entrepreneur</td>\n",
       "      <td>married</td>\n",
       "      <td>tertiary</td>\n",
       "      <td>False</td>\n",
       "      <td>True</td>\n",
       "      <td>False</td>\n",
       "      <td>cellular</td>\n",
       "      <td>252</td>\n",
       "      <td>1</td>\n",
       "      <td>351</td>\n",
       "      <td>1</td>\n",
       "      <td>failure</td>\n",
       "      <td>False</td>\n",
       "      <td>NaT</td>\n",
       "      <td>tablet</td>\n",
       "    </tr>\n",
       "    <tr>\n",
       "      <th>35498</th>\n",
       "      <td>8aa406ed-8eab-42d0-9344-e36f24fe1ba8</td>\n",
       "      <td>NaN</td>\n",
       "      <td>NaN</td>\n",
       "      <td>28</td>\n",
       "      <td>self-employed</td>\n",
       "      <td>single</td>\n",
       "      <td>tertiary</td>\n",
       "      <td>False</td>\n",
       "      <td>True</td>\n",
       "      <td>False</td>\n",
       "      <td>cellular</td>\n",
       "      <td>245</td>\n",
       "      <td>3</td>\n",
       "      <td>-1</td>\n",
       "      <td>0</td>\n",
       "      <td>None</td>\n",
       "      <td>False</td>\n",
       "      <td>NaT</td>\n",
       "      <td>mobile</td>\n",
       "    </tr>\n",
       "    <tr>\n",
       "      <th>36429</th>\n",
       "      <td>44e9aa39-8d85-44a2-8c2a-2d76c8af6263</td>\n",
       "      <td>2.0</td>\n",
       "      <td>271.0</td>\n",
       "      <td>32</td>\n",
       "      <td>technician</td>\n",
       "      <td>single</td>\n",
       "      <td>secondary</td>\n",
       "      <td>False</td>\n",
       "      <td>True</td>\n",
       "      <td>True</td>\n",
       "      <td>cellular</td>\n",
       "      <td>271</td>\n",
       "      <td>2</td>\n",
       "      <td>-1</td>\n",
       "      <td>0</td>\n",
       "      <td>None</td>\n",
       "      <td>False</td>\n",
       "      <td>NaT</td>\n",
       "      <td>mobile</td>\n",
       "    </tr>\n",
       "    <tr>\n",
       "      <th>37749</th>\n",
       "      <td>744782e8-8b61-4974-9d6b-2f7061a3d37b</td>\n",
       "      <td>2.0</td>\n",
       "      <td>1880.0</td>\n",
       "      <td>41</td>\n",
       "      <td>blue-collar</td>\n",
       "      <td>single</td>\n",
       "      <td>secondary</td>\n",
       "      <td>False</td>\n",
       "      <td>False</td>\n",
       "      <td>True</td>\n",
       "      <td>cellular</td>\n",
       "      <td>35</td>\n",
       "      <td>1</td>\n",
       "      <td>356</td>\n",
       "      <td>10</td>\n",
       "      <td>other</td>\n",
       "      <td>False</td>\n",
       "      <td>NaT</td>\n",
       "      <td>mobile</td>\n",
       "    </tr>\n",
       "    <tr>\n",
       "      <th>40661</th>\n",
       "      <td>26155934-f13d-4a27-adf0-c750acc19569</td>\n",
       "      <td>2.0</td>\n",
       "      <td>1624.0</td>\n",
       "      <td>53</td>\n",
       "      <td>management</td>\n",
       "      <td>married</td>\n",
       "      <td>tertiary</td>\n",
       "      <td>False</td>\n",
       "      <td>False</td>\n",
       "      <td>False</td>\n",
       "      <td>cellular</td>\n",
       "      <td>107</td>\n",
       "      <td>1</td>\n",
       "      <td>98</td>\n",
       "      <td>6</td>\n",
       "      <td>success</td>\n",
       "      <td>True</td>\n",
       "      <td>NaT</td>\n",
       "      <td>desktop</td>\n",
       "    </tr>\n",
       "    <tr>\n",
       "      <th>41141</th>\n",
       "      <td>fbd83e50-7187-4e0d-9835-b560e71e5830</td>\n",
       "      <td>NaN</td>\n",
       "      <td>NaN</td>\n",
       "      <td>79</td>\n",
       "      <td>housemaid</td>\n",
       "      <td>married</td>\n",
       "      <td>primary</td>\n",
       "      <td>False</td>\n",
       "      <td>False</td>\n",
       "      <td>False</td>\n",
       "      <td>cellular</td>\n",
       "      <td>90</td>\n",
       "      <td>1</td>\n",
       "      <td>-1</td>\n",
       "      <td>0</td>\n",
       "      <td>None</td>\n",
       "      <td>False</td>\n",
       "      <td>NaT</td>\n",
       "      <td>mobile</td>\n",
       "    </tr>\n",
       "  </tbody>\n",
       "</table>\n",
       "</div>"
      ],
      "text/plain": [
       "                                    user_id  number_transactions  \\\n",
       "1832   a8efc367-e7bc-4ddf-a075-ab6a850c5be1                  2.0   \n",
       "1970   e287579c-0eb5-4da0-a697-a92e6a024c47                  6.0   \n",
       "8033   9e6d7f37-fec1-4967-9281-d37eb69fc211                  4.0   \n",
       "11292  e380ff78-00d5-4f4d-93a3-db991ff0ca3b                  3.0   \n",
       "12439  d64a3876-1dc0-480e-b13e-c4b89639b6d2                  5.0   \n",
       "13006  2673ec0e-5df6-416f-9eda-e39cb50ca03c                  2.0   \n",
       "13826  a0e4abc2-6451-4a97-a669-45307de8059d                  2.0   \n",
       "15175  1101e360-4872-44a9-a3ac-38afa2f73581                  NaN   \n",
       "15290  a63e7d7d-00ba-4751-be20-440576efaac3                  2.0   \n",
       "17032  e5b0bc16-b7fc-43a8-9d4f-90827fbe8f1f                  NaN   \n",
       "17688  29e5f76d-ef83-400f-92e3-6c2f250bd911                  5.0   \n",
       "18628  3bea4654-aa7c-40e3-ad78-0384e5d1945b                  NaN   \n",
       "20082  a104f34c-dcbf-4477-bbc2-fe2f2c568289                  NaN   \n",
       "20958  bedacfd5-af72-4330-8f8e-c2c1d7052e75                  3.0   \n",
       "21088  28f9caaa-de10-4d59-a263-d2918ba889e7                  4.0   \n",
       "22274  a558d62a-dfd0-4a4d-b2ad-3fe5e0cbe71c                  3.0   \n",
       "23426  d171b517-26a6-49b4-a50c-a26f69e96b2f                  3.0   \n",
       "23579  9d8ce14f-79e7-4577-9e61-a3f930a9066d                  3.0   \n",
       "25596  9391c4b9-1468-45af-8e57-169dc1b81401                  NaN   \n",
       "29546  40264c58-3513-4dc1-a1c5-6cf860576ceb                  4.0   \n",
       "30104  faf4f270-b26f-4005-a750-d31e4d1eafab                  6.0   \n",
       "30995  3806958d-3ad8-482e-9d2d-0f74d321c17d                  5.0   \n",
       "33027  22be7086-8b83-48ed-be20-6d11c40fa414                  NaN   \n",
       "34371  1459a5b3-5fb7-468c-a477-0ed94730a518                  5.0   \n",
       "35251  f3a7e3ce-95a2-44bb-ab82-5727a47cc1b1                  2.0   \n",
       "35498  8aa406ed-8eab-42d0-9344-e36f24fe1ba8                  NaN   \n",
       "36429  44e9aa39-8d85-44a2-8c2a-2d76c8af6263                  2.0   \n",
       "37749  744782e8-8b61-4974-9d6b-2f7061a3d37b                  2.0   \n",
       "40661  26155934-f13d-4a27-adf0-c750acc19569                  2.0   \n",
       "41141  fbd83e50-7187-4e0d-9835-b560e71e5830                  NaN   \n",
       "\n",
       "       total_amount_usd  age            job   marital  education  default  \\\n",
       "1832               10.0   40    blue-collar   married  secondary    False   \n",
       "1970              391.0   34         admin.    single  secondary    False   \n",
       "8033              691.0   34     technician   married   tertiary    False   \n",
       "11292            2769.0   41       services  divorced  secondary    False   \n",
       "12439               0.0   57        retired   married  secondary    False   \n",
       "13006             473.0   32       services    single  secondary    False   \n",
       "13826              29.0   57        retired   married   tertiary    False   \n",
       "15175               NaN   33  self-employed  divorced  secondary    False   \n",
       "15290             976.0   42         admin.   married  secondary    False   \n",
       "17032               NaN   51     unemployed   married    primary    False   \n",
       "17688               0.0   46   entrepreneur   married  secondary    False   \n",
       "18628               NaN   45    blue-collar    single    primary    False   \n",
       "20082               NaN   44     management  divorced   tertiary    False   \n",
       "20958             903.0   34     technician   married  secondary    False   \n",
       "21088             232.0   47    blue-collar   married  secondary    False   \n",
       "22274              38.0   37     management   married  secondary    False   \n",
       "23426            -315.0   47     management   married   tertiary    False   \n",
       "23579            1232.0   40     technician   married  secondary    False   \n",
       "25596               NaN   45     technician  divorced  secondary    False   \n",
       "29546            2081.0   41     unemployed   married  secondary    False   \n",
       "30104             468.0   27        student    single       None    False   \n",
       "30995             358.0   32    blue-collar    single   tertiary    False   \n",
       "33027               NaN   56    blue-collar   married  secondary    False   \n",
       "34371             690.0   31         admin.    single  secondary    False   \n",
       "35251             280.0   36   entrepreneur   married   tertiary    False   \n",
       "35498               NaN   28  self-employed    single   tertiary    False   \n",
       "36429             271.0   32     technician    single  secondary    False   \n",
       "37749            1880.0   41    blue-collar    single  secondary    False   \n",
       "40661            1624.0   53     management   married   tertiary    False   \n",
       "41141               NaN   79      housemaid   married    primary    False   \n",
       "\n",
       "       housing   loan    contact  duration  campaign  pdays  previous  \\\n",
       "1832      True  False       None      1692         2     -1         0   \n",
       "1970      True  False       None       192         2     -1         0   \n",
       "8033      True   True       None        70         1     -1         0   \n",
       "11292     True  False       None        96         3     -1         0   \n",
       "12439    False   True       None       104         2     -1         0   \n",
       "13006     True  False   cellular       624         5     -1         0   \n",
       "13826    False  False  telephone       532         2     -1         0   \n",
       "15175     True  False   cellular      1584         2     -1         0   \n",
       "15290     True  False   cellular        69         7     -1         0   \n",
       "17032     True  False   cellular      2015         1     -1         0   \n",
       "17688    False  False   cellular       100        12     -1         0   \n",
       "18628    False  False   cellular       294         3     -1         0   \n",
       "20082    False  False   cellular        70         5     -1         0   \n",
       "20958     True  False   cellular        67         2     -1         0   \n",
       "21088     True   True   cellular        90         4     -1         0   \n",
       "22274    False  False   cellular        94        13     -1         0   \n",
       "23426     True   True   cellular       112         9     -1         0   \n",
       "23579    False  False   cellular       175        11     -1         0   \n",
       "25596     True  False   cellular       298         1    170         2   \n",
       "29546     True  False   cellular        53         3     -1         0   \n",
       "30104    False  False   cellular       270         2     -1         0   \n",
       "30995    False  False   cellular       103         3     -1         0   \n",
       "33027    False  False  telephone       100         2     -1         0   \n",
       "34371    False  False   cellular        10         4     87        12   \n",
       "35251     True  False   cellular       252         1    351         1   \n",
       "35498     True  False   cellular       245         3     -1         0   \n",
       "36429     True   True   cellular       271         2     -1         0   \n",
       "37749    False   True   cellular        35         1    356        10   \n",
       "40661    False  False   cellular       107         1     98         6   \n",
       "41141    False  False   cellular        90         1     -1         0   \n",
       "\n",
       "      poutcome  term_deposit date_joined   device  \n",
       "1832      None          True         NaT  desktop  \n",
       "1970      None         False         NaT   mobile  \n",
       "8033      None         False         NaT   mobile  \n",
       "11292     None         False         NaT   mobile  \n",
       "12439     None         False         NaT   mobile  \n",
       "13006     None         False         NaT   mobile  \n",
       "13826     None         False         NaT   mobile  \n",
       "15175     None          True         NaT   mobile  \n",
       "15290     None         False         NaT   mobile  \n",
       "17032     None          True         NaT   mobile  \n",
       "17688     None         False         NaT   mobile  \n",
       "18628     None         False         NaT  desktop  \n",
       "20082     None         False         NaT   mobile  \n",
       "20958     None         False         NaT   mobile  \n",
       "21088     None         False         NaT  desktop  \n",
       "22274     None         False         NaT   mobile  \n",
       "23426     None         False         NaT   mobile  \n",
       "23579     None         False         NaT   mobile  \n",
       "25596  failure         False         NaT   tablet  \n",
       "29546     None         False         NaT  desktop  \n",
       "30104     None         False         NaT   mobile  \n",
       "30995     None         False         NaT  desktop  \n",
       "33027     None         False         NaT   tablet  \n",
       "34371  failure         False         NaT   mobile  \n",
       "35251  failure         False         NaT   tablet  \n",
       "35498     None         False         NaT   mobile  \n",
       "36429     None         False         NaT   mobile  \n",
       "37749    other         False         NaT   mobile  \n",
       "40661  success          True         NaT  desktop  \n",
       "41141     None         False         NaT   mobile  "
      ]
     },
     "execution_count": 120,
     "metadata": {},
     "output_type": "execute_result"
    }
   ],
   "source": [
    "# identify rows where date_joined has missing data, and remove these rows\n",
    "\n",
    "# data frame where date joined is missing\n",
    "users_data[users_data.date_joined.isnull()]"
   ]
  },
  {
   "cell_type": "code",
   "execution_count": 121,
   "id": "27b772dd",
   "metadata": {
    "pycharm": {
     "name": "#%%\n"
    }
   },
   "outputs": [
    {
     "name": "stdout",
     "output_type": "stream",
     "text": [
      "# of rows where date joined is missing: 30\n"
     ]
    }
   ],
   "source": [
    "# check the number of rows we need to drop\n",
    "\n",
    "print(\"# of rows where date joined is missing:\", \n",
    "      users_data[users_data.date_joined.isnull()].shape[0])"
   ]
  },
  {
   "cell_type": "code",
   "execution_count": 122,
   "id": "8adbe700",
   "metadata": {
    "pycharm": {
     "name": "#%%\n"
    }
   },
   "outputs": [
    {
     "data": {
      "text/html": [
       "<div>\n",
       "<style scoped>\n",
       "    .dataframe tbody tr th:only-of-type {\n",
       "        vertical-align: middle;\n",
       "    }\n",
       "\n",
       "    .dataframe tbody tr th {\n",
       "        vertical-align: top;\n",
       "    }\n",
       "\n",
       "    .dataframe thead th {\n",
       "        text-align: right;\n",
       "    }\n",
       "</style>\n",
       "<table border=\"1\" class=\"dataframe\">\n",
       "  <thead>\n",
       "    <tr style=\"text-align: right;\">\n",
       "      <th></th>\n",
       "      <th>user_id</th>\n",
       "      <th>number_transactions</th>\n",
       "      <th>total_amount_usd</th>\n",
       "      <th>age</th>\n",
       "      <th>job</th>\n",
       "      <th>marital</th>\n",
       "      <th>education</th>\n",
       "      <th>default</th>\n",
       "      <th>housing</th>\n",
       "      <th>loan</th>\n",
       "      <th>contact</th>\n",
       "      <th>duration</th>\n",
       "      <th>campaign</th>\n",
       "      <th>pdays</th>\n",
       "      <th>previous</th>\n",
       "      <th>poutcome</th>\n",
       "      <th>term_deposit</th>\n",
       "      <th>date_joined</th>\n",
       "      <th>device</th>\n",
       "    </tr>\n",
       "  </thead>\n",
       "  <tbody>\n",
       "    <tr>\n",
       "      <th>0</th>\n",
       "      <td>9231c446-cb16-4b2b-a7f7-ddfc8b25aaf6</td>\n",
       "      <td>3.0</td>\n",
       "      <td>2143.0</td>\n",
       "      <td>58</td>\n",
       "      <td>management</td>\n",
       "      <td>married</td>\n",
       "      <td>tertiary</td>\n",
       "      <td>False</td>\n",
       "      <td>True</td>\n",
       "      <td>False</td>\n",
       "      <td>None</td>\n",
       "      <td>261</td>\n",
       "      <td>1</td>\n",
       "      <td>-1</td>\n",
       "      <td>0</td>\n",
       "      <td>None</td>\n",
       "      <td>False</td>\n",
       "      <td>1998-08-23</td>\n",
       "      <td>mobile</td>\n",
       "    </tr>\n",
       "    <tr>\n",
       "      <th>1</th>\n",
       "      <td>bb92765a-08de-4963-b432-496524b39157</td>\n",
       "      <td>NaN</td>\n",
       "      <td>NaN</td>\n",
       "      <td>44</td>\n",
       "      <td>technician</td>\n",
       "      <td>single</td>\n",
       "      <td>secondary</td>\n",
       "      <td>False</td>\n",
       "      <td>True</td>\n",
       "      <td>False</td>\n",
       "      <td>None</td>\n",
       "      <td>151</td>\n",
       "      <td>1</td>\n",
       "      <td>-1</td>\n",
       "      <td>0</td>\n",
       "      <td>None</td>\n",
       "      <td>False</td>\n",
       "      <td>2008-07-15</td>\n",
       "      <td>desktop</td>\n",
       "    </tr>\n",
       "    <tr>\n",
       "      <th>2</th>\n",
       "      <td>573de577-49ef-42b9-83da-d3cfb817b5c1</td>\n",
       "      <td>2.0</td>\n",
       "      <td>2.0</td>\n",
       "      <td>33</td>\n",
       "      <td>entrepreneur</td>\n",
       "      <td>married</td>\n",
       "      <td>secondary</td>\n",
       "      <td>False</td>\n",
       "      <td>True</td>\n",
       "      <td>True</td>\n",
       "      <td>None</td>\n",
       "      <td>76</td>\n",
       "      <td>1</td>\n",
       "      <td>-1</td>\n",
       "      <td>0</td>\n",
       "      <td>None</td>\n",
       "      <td>False</td>\n",
       "      <td>2002-06-04</td>\n",
       "      <td>mobile</td>\n",
       "    </tr>\n",
       "    <tr>\n",
       "      <th>3</th>\n",
       "      <td>d6b66b9d-7c8f-4257-a682-e136f640b7e3</td>\n",
       "      <td>NaN</td>\n",
       "      <td>NaN</td>\n",
       "      <td>47</td>\n",
       "      <td>blue-collar</td>\n",
       "      <td>married</td>\n",
       "      <td>None</td>\n",
       "      <td>False</td>\n",
       "      <td>True</td>\n",
       "      <td>False</td>\n",
       "      <td>None</td>\n",
       "      <td>92</td>\n",
       "      <td>1</td>\n",
       "      <td>-1</td>\n",
       "      <td>0</td>\n",
       "      <td>None</td>\n",
       "      <td>False</td>\n",
       "      <td>1995-06-29</td>\n",
       "      <td>tablet</td>\n",
       "    </tr>\n",
       "    <tr>\n",
       "      <th>4</th>\n",
       "      <td>fade0b20-7594-4d9a-84cd-c02f79b1b526</td>\n",
       "      <td>1.0</td>\n",
       "      <td>1.0</td>\n",
       "      <td>33</td>\n",
       "      <td>None</td>\n",
       "      <td>single</td>\n",
       "      <td>None</td>\n",
       "      <td>False</td>\n",
       "      <td>False</td>\n",
       "      <td>False</td>\n",
       "      <td>None</td>\n",
       "      <td>198</td>\n",
       "      <td>1</td>\n",
       "      <td>-1</td>\n",
       "      <td>0</td>\n",
       "      <td>None</td>\n",
       "      <td>False</td>\n",
       "      <td>1995-08-01</td>\n",
       "      <td>mobile</td>\n",
       "    </tr>\n",
       "  </tbody>\n",
       "</table>\n",
       "</div>"
      ],
      "text/plain": [
       "                                user_id  number_transactions  \\\n",
       "0  9231c446-cb16-4b2b-a7f7-ddfc8b25aaf6                  3.0   \n",
       "1  bb92765a-08de-4963-b432-496524b39157                  NaN   \n",
       "2  573de577-49ef-42b9-83da-d3cfb817b5c1                  2.0   \n",
       "3  d6b66b9d-7c8f-4257-a682-e136f640b7e3                  NaN   \n",
       "4  fade0b20-7594-4d9a-84cd-c02f79b1b526                  1.0   \n",
       "\n",
       "   total_amount_usd  age           job  marital  education  default  housing  \\\n",
       "0            2143.0   58    management  married   tertiary    False     True   \n",
       "1               NaN   44    technician   single  secondary    False     True   \n",
       "2               2.0   33  entrepreneur  married  secondary    False     True   \n",
       "3               NaN   47   blue-collar  married       None    False     True   \n",
       "4               1.0   33          None   single       None    False    False   \n",
       "\n",
       "    loan contact  duration  campaign  pdays  previous poutcome  term_deposit  \\\n",
       "0  False    None       261         1     -1         0     None         False   \n",
       "1  False    None       151         1     -1         0     None         False   \n",
       "2   True    None        76         1     -1         0     None         False   \n",
       "3  False    None        92         1     -1         0     None         False   \n",
       "4  False    None       198         1     -1         0     None         False   \n",
       "\n",
       "  date_joined   device  \n",
       "0  1998-08-23   mobile  \n",
       "1  2008-07-15  desktop  \n",
       "2  2002-06-04   mobile  \n",
       "3  1995-06-29   tablet  \n",
       "4  1995-08-01   mobile  "
      ]
     },
     "execution_count": 122,
     "metadata": {},
     "output_type": "execute_result"
    }
   ],
   "source": [
    "# drop rows where date joined is missing\n",
    "# the tilda means identify rows where date joined is not null \n",
    "\n",
    "users_data_cleaned = users_data[~users_data.date_joined.isnull()] # the tilda means.... \n",
    "users_data_cleaned.head()"
   ]
  },
  {
   "cell_type": "code",
   "execution_count": 123,
   "id": "b46879ea",
   "metadata": {
    "pycharm": {
     "name": "#%%\n"
    }
   },
   "outputs": [
    {
     "data": {
      "text/html": [
       "<div>\n",
       "<style scoped>\n",
       "    .dataframe tbody tr th:only-of-type {\n",
       "        vertical-align: middle;\n",
       "    }\n",
       "\n",
       "    .dataframe tbody tr th {\n",
       "        vertical-align: top;\n",
       "    }\n",
       "\n",
       "    .dataframe thead th {\n",
       "        text-align: right;\n",
       "    }\n",
       "</style>\n",
       "<table border=\"1\" class=\"dataframe\">\n",
       "  <thead>\n",
       "    <tr style=\"text-align: right;\">\n",
       "      <th></th>\n",
       "      <th>feature</th>\n",
       "      <th>percent_missing</th>\n",
       "      <th>data_type</th>\n",
       "    </tr>\n",
       "  </thead>\n",
       "  <tbody>\n",
       "    <tr>\n",
       "      <th>0</th>\n",
       "      <td>poutcome</td>\n",
       "      <td>81.75</td>\n",
       "      <td>object</td>\n",
       "    </tr>\n",
       "    <tr>\n",
       "      <th>1</th>\n",
       "      <td>contact</td>\n",
       "      <td>28.80</td>\n",
       "      <td>object</td>\n",
       "    </tr>\n",
       "    <tr>\n",
       "      <th>2</th>\n",
       "      <td>total_amount_usd</td>\n",
       "      <td>22.11</td>\n",
       "      <td>float64</td>\n",
       "    </tr>\n",
       "    <tr>\n",
       "      <th>3</th>\n",
       "      <td>number_transactions</td>\n",
       "      <td>22.11</td>\n",
       "      <td>float64</td>\n",
       "    </tr>\n",
       "    <tr>\n",
       "      <th>4</th>\n",
       "      <td>education</td>\n",
       "      <td>4.11</td>\n",
       "      <td>object</td>\n",
       "    </tr>\n",
       "    <tr>\n",
       "      <th>5</th>\n",
       "      <td>job</td>\n",
       "      <td>0.64</td>\n",
       "      <td>object</td>\n",
       "    </tr>\n",
       "    <tr>\n",
       "      <th>6</th>\n",
       "      <td>device</td>\n",
       "      <td>0.21</td>\n",
       "      <td>object</td>\n",
       "    </tr>\n",
       "  </tbody>\n",
       "</table>\n",
       "</div>"
      ],
      "text/plain": [
       "               feature  percent_missing data_type\n",
       "0             poutcome            81.75    object\n",
       "1              contact            28.80    object\n",
       "2     total_amount_usd            22.11   float64\n",
       "3  number_transactions            22.11   float64\n",
       "4            education             4.11    object\n",
       "5                  job             0.64    object\n",
       "6               device             0.21    object"
      ]
     },
     "execution_count": 123,
     "metadata": {},
     "output_type": "execute_result"
    }
   ],
   "source": [
    "missing_value_df = identify_missing_data(users_data_cleaned)\n",
    "missing_value_df[missing_value_df.percent_missing > 0] "
   ]
  },
  {
   "cell_type": "code",
   "execution_count": 124,
   "id": "52169218",
   "metadata": {
    "pycharm": {
     "name": "#%%\n"
    }
   },
   "outputs": [],
   "source": [
    "# drop features where we have more than 60% missing data\n",
    "\n",
    "users_data_cleaned = users_data_cleaned.drop([\"poutcome\"], axis = 1)\n"
   ]
  },
  {
   "cell_type": "code",
   "execution_count": 125,
   "id": "5d59267d",
   "metadata": {
    "pycharm": {
     "name": "#%%\n"
    }
   },
   "outputs": [
    {
     "data": {
      "text/html": [
       "<div>\n",
       "<style scoped>\n",
       "    .dataframe tbody tr th:only-of-type {\n",
       "        vertical-align: middle;\n",
       "    }\n",
       "\n",
       "    .dataframe tbody tr th {\n",
       "        vertical-align: top;\n",
       "    }\n",
       "\n",
       "    .dataframe thead th {\n",
       "        text-align: right;\n",
       "    }\n",
       "</style>\n",
       "<table border=\"1\" class=\"dataframe\">\n",
       "  <thead>\n",
       "    <tr style=\"text-align: right;\">\n",
       "      <th></th>\n",
       "      <th>feature</th>\n",
       "      <th>percent_missing</th>\n",
       "      <th>data_type</th>\n",
       "    </tr>\n",
       "  </thead>\n",
       "  <tbody>\n",
       "    <tr>\n",
       "      <th>0</th>\n",
       "      <td>contact</td>\n",
       "      <td>28.80</td>\n",
       "      <td>object</td>\n",
       "    </tr>\n",
       "    <tr>\n",
       "      <th>1</th>\n",
       "      <td>total_amount_usd</td>\n",
       "      <td>22.11</td>\n",
       "      <td>float64</td>\n",
       "    </tr>\n",
       "    <tr>\n",
       "      <th>2</th>\n",
       "      <td>number_transactions</td>\n",
       "      <td>22.11</td>\n",
       "      <td>float64</td>\n",
       "    </tr>\n",
       "    <tr>\n",
       "      <th>3</th>\n",
       "      <td>education</td>\n",
       "      <td>4.11</td>\n",
       "      <td>object</td>\n",
       "    </tr>\n",
       "    <tr>\n",
       "      <th>4</th>\n",
       "      <td>job</td>\n",
       "      <td>0.64</td>\n",
       "      <td>object</td>\n",
       "    </tr>\n",
       "    <tr>\n",
       "      <th>5</th>\n",
       "      <td>device</td>\n",
       "      <td>0.21</td>\n",
       "      <td>object</td>\n",
       "    </tr>\n",
       "  </tbody>\n",
       "</table>\n",
       "</div>"
      ],
      "text/plain": [
       "               feature  percent_missing data_type\n",
       "0              contact            28.80    object\n",
       "1     total_amount_usd            22.11   float64\n",
       "2  number_transactions            22.11   float64\n",
       "3            education             4.11    object\n",
       "4                  job             0.64    object\n",
       "5               device             0.21    object"
      ]
     },
     "execution_count": 125,
     "metadata": {},
     "output_type": "execute_result"
    }
   ],
   "source": [
    "missing_value_df = identify_missing_data(users_data_cleaned)\n",
    "missing_value_df[missing_value_df.percent_missing > 0] "
   ]
  },
  {
   "cell_type": "code",
   "execution_count": 126,
   "id": "5c0733e3",
   "metadata": {
    "pycharm": {
     "name": "#%%\n"
    }
   },
   "outputs": [
    {
     "data": {
      "text/plain": [
       "cellular     29262\n",
       "NaN          13013\n",
       "telephone     2904\n",
       "Name: contact, dtype: int64"
      ]
     },
     "execution_count": 126,
     "metadata": {},
     "output_type": "execute_result"
    }
   ],
   "source": [
    "users_data_cleaned.contact.value_counts(dropna = False)"
   ]
  },
  {
   "cell_type": "code",
   "execution_count": 127,
   "id": "420a6a6b",
   "metadata": {
    "pycharm": {
     "name": "#%%\n"
    }
   },
   "outputs": [],
   "source": [
    "# replace nas in contact with \"not contacted\"\n",
    "\n",
    "users_data_cleaned.contact.fillna(\"not_contacted\", inplace = True)"
   ]
  },
  {
   "cell_type": "code",
   "execution_count": 128,
   "id": "0da0df84",
   "metadata": {
    "pycharm": {
     "name": "#%%\n"
    }
   },
   "outputs": [
    {
     "data": {
      "text/html": [
       "<div>\n",
       "<style scoped>\n",
       "    .dataframe tbody tr th:only-of-type {\n",
       "        vertical-align: middle;\n",
       "    }\n",
       "\n",
       "    .dataframe tbody tr th {\n",
       "        vertical-align: top;\n",
       "    }\n",
       "\n",
       "    .dataframe thead th {\n",
       "        text-align: right;\n",
       "    }\n",
       "</style>\n",
       "<table border=\"1\" class=\"dataframe\">\n",
       "  <thead>\n",
       "    <tr style=\"text-align: right;\">\n",
       "      <th></th>\n",
       "      <th>feature</th>\n",
       "      <th>percent_missing</th>\n",
       "      <th>data_type</th>\n",
       "    </tr>\n",
       "  </thead>\n",
       "  <tbody>\n",
       "    <tr>\n",
       "      <th>0</th>\n",
       "      <td>total_amount_usd</td>\n",
       "      <td>22.11</td>\n",
       "      <td>float64</td>\n",
       "    </tr>\n",
       "    <tr>\n",
       "      <th>1</th>\n",
       "      <td>number_transactions</td>\n",
       "      <td>22.11</td>\n",
       "      <td>float64</td>\n",
       "    </tr>\n",
       "    <tr>\n",
       "      <th>2</th>\n",
       "      <td>education</td>\n",
       "      <td>4.11</td>\n",
       "      <td>object</td>\n",
       "    </tr>\n",
       "    <tr>\n",
       "      <th>3</th>\n",
       "      <td>job</td>\n",
       "      <td>0.64</td>\n",
       "      <td>object</td>\n",
       "    </tr>\n",
       "    <tr>\n",
       "      <th>4</th>\n",
       "      <td>device</td>\n",
       "      <td>0.21</td>\n",
       "      <td>object</td>\n",
       "    </tr>\n",
       "  </tbody>\n",
       "</table>\n",
       "</div>"
      ],
      "text/plain": [
       "               feature  percent_missing data_type\n",
       "0     total_amount_usd            22.11   float64\n",
       "1  number_transactions            22.11   float64\n",
       "2            education             4.11    object\n",
       "3                  job             0.64    object\n",
       "4               device             0.21    object"
      ]
     },
     "execution_count": 128,
     "metadata": {},
     "output_type": "execute_result"
    }
   ],
   "source": [
    "missing_value_df = identify_missing_data(users_data_cleaned)\n",
    "missing_value_df[missing_value_df.percent_missing > 0] "
   ]
  },
  {
   "cell_type": "code",
   "execution_count": 129,
   "id": "62cff917",
   "metadata": {
    "pycharm": {
     "name": "#%%\n"
    }
   },
   "outputs": [],
   "source": [
    "# replace the nas in total_amount_usd to the mean of total_amount_usd\n",
    "\n",
    "users_data_cleaned.total_amount_usd.fillna(users_data_cleaned.total_amount_usd.mean(),\n",
    "                                           inplace = True)"
   ]
  },
  {
   "cell_type": "code",
   "execution_count": 130,
   "id": "f455fe96",
   "metadata": {
    "pycharm": {
     "name": "#%%\n"
    }
   },
   "outputs": [
    {
     "data": {
      "text/html": [
       "<div>\n",
       "<style scoped>\n",
       "    .dataframe tbody tr th:only-of-type {\n",
       "        vertical-align: middle;\n",
       "    }\n",
       "\n",
       "    .dataframe tbody tr th {\n",
       "        vertical-align: top;\n",
       "    }\n",
       "\n",
       "    .dataframe thead th {\n",
       "        text-align: right;\n",
       "    }\n",
       "</style>\n",
       "<table border=\"1\" class=\"dataframe\">\n",
       "  <thead>\n",
       "    <tr style=\"text-align: right;\">\n",
       "      <th></th>\n",
       "      <th>feature</th>\n",
       "      <th>percent_missing</th>\n",
       "      <th>data_type</th>\n",
       "    </tr>\n",
       "  </thead>\n",
       "  <tbody>\n",
       "    <tr>\n",
       "      <th>0</th>\n",
       "      <td>number_transactions</td>\n",
       "      <td>22.11</td>\n",
       "      <td>float64</td>\n",
       "    </tr>\n",
       "    <tr>\n",
       "      <th>1</th>\n",
       "      <td>education</td>\n",
       "      <td>4.11</td>\n",
       "      <td>object</td>\n",
       "    </tr>\n",
       "    <tr>\n",
       "      <th>2</th>\n",
       "      <td>job</td>\n",
       "      <td>0.64</td>\n",
       "      <td>object</td>\n",
       "    </tr>\n",
       "    <tr>\n",
       "      <th>3</th>\n",
       "      <td>device</td>\n",
       "      <td>0.21</td>\n",
       "      <td>object</td>\n",
       "    </tr>\n",
       "  </tbody>\n",
       "</table>\n",
       "</div>"
      ],
      "text/plain": [
       "               feature  percent_missing data_type\n",
       "0  number_transactions            22.11   float64\n",
       "1            education             4.11    object\n",
       "2                  job             0.64    object\n",
       "3               device             0.21    object"
      ]
     },
     "execution_count": 130,
     "metadata": {},
     "output_type": "execute_result"
    }
   ],
   "source": [
    "missing_value_df = identify_missing_data(users_data_cleaned)\n",
    "missing_value_df[missing_value_df.percent_missing > 0] "
   ]
  },
  {
   "cell_type": "code",
   "execution_count": 131,
   "id": "901111b7",
   "metadata": {
    "pycharm": {
     "name": "#%%\n"
    }
   },
   "outputs": [],
   "source": [
    "# replace the nas in number_transactions to the mean of number_transactions\n",
    "\n",
    "users_data_cleaned.number_transactions.fillna(users_data_cleaned.number_transactions.mean(),\n",
    "                                           inplace = True)"
   ]
  },
  {
   "cell_type": "code",
   "execution_count": 132,
   "id": "f4663242",
   "metadata": {
    "pycharm": {
     "name": "#%%\n"
    }
   },
   "outputs": [
    {
     "data": {
      "text/html": [
       "<div>\n",
       "<style scoped>\n",
       "    .dataframe tbody tr th:only-of-type {\n",
       "        vertical-align: middle;\n",
       "    }\n",
       "\n",
       "    .dataframe tbody tr th {\n",
       "        vertical-align: top;\n",
       "    }\n",
       "\n",
       "    .dataframe thead th {\n",
       "        text-align: right;\n",
       "    }\n",
       "</style>\n",
       "<table border=\"1\" class=\"dataframe\">\n",
       "  <thead>\n",
       "    <tr style=\"text-align: right;\">\n",
       "      <th></th>\n",
       "      <th>feature</th>\n",
       "      <th>percent_missing</th>\n",
       "      <th>data_type</th>\n",
       "    </tr>\n",
       "  </thead>\n",
       "  <tbody>\n",
       "    <tr>\n",
       "      <th>0</th>\n",
       "      <td>education</td>\n",
       "      <td>4.11</td>\n",
       "      <td>object</td>\n",
       "    </tr>\n",
       "    <tr>\n",
       "      <th>1</th>\n",
       "      <td>job</td>\n",
       "      <td>0.64</td>\n",
       "      <td>object</td>\n",
       "    </tr>\n",
       "    <tr>\n",
       "      <th>2</th>\n",
       "      <td>device</td>\n",
       "      <td>0.21</td>\n",
       "      <td>object</td>\n",
       "    </tr>\n",
       "  </tbody>\n",
       "</table>\n",
       "</div>"
      ],
      "text/plain": [
       "     feature  percent_missing data_type\n",
       "0  education             4.11    object\n",
       "1        job             0.64    object\n",
       "2     device             0.21    object"
      ]
     },
     "execution_count": 132,
     "metadata": {},
     "output_type": "execute_result"
    }
   ],
   "source": [
    "missing_value_df = identify_missing_data(users_data_cleaned)\n",
    "missing_value_df[missing_value_df.percent_missing > 0] "
   ]
  },
  {
   "cell_type": "code",
   "execution_count": 133,
   "id": "b77c2361",
   "metadata": {
    "pycharm": {
     "name": "#%%\n"
    }
   },
   "outputs": [],
   "source": [
    "# replace all remaining features with data types object with Unknown\n",
    "\n",
    "users_data_cleaned.education.fillna(\"Unknown\", inplace = True)\n",
    "users_data_cleaned.job.fillna(\"Unknown\", inplace = True)\n",
    "users_data_cleaned.device.fillna(\"Unknown\", inplace = True)"
   ]
  },
  {
   "cell_type": "code",
   "execution_count": 134,
   "id": "aafc9e62",
   "metadata": {
    "pycharm": {
     "name": "#%%\n"
    }
   },
   "outputs": [
    {
     "data": {
      "text/html": [
       "<div>\n",
       "<style scoped>\n",
       "    .dataframe tbody tr th:only-of-type {\n",
       "        vertical-align: middle;\n",
       "    }\n",
       "\n",
       "    .dataframe tbody tr th {\n",
       "        vertical-align: top;\n",
       "    }\n",
       "\n",
       "    .dataframe thead th {\n",
       "        text-align: right;\n",
       "    }\n",
       "</style>\n",
       "<table border=\"1\" class=\"dataframe\">\n",
       "  <thead>\n",
       "    <tr style=\"text-align: right;\">\n",
       "      <th></th>\n",
       "      <th>feature</th>\n",
       "      <th>percent_missing</th>\n",
       "      <th>data_type</th>\n",
       "    </tr>\n",
       "  </thead>\n",
       "  <tbody>\n",
       "  </tbody>\n",
       "</table>\n",
       "</div>"
      ],
      "text/plain": [
       "Empty DataFrame\n",
       "Columns: [feature, percent_missing, data_type]\n",
       "Index: []"
      ]
     },
     "execution_count": 134,
     "metadata": {},
     "output_type": "execute_result"
    }
   ],
   "source": [
    "missing_value_df = identify_missing_data(users_data_cleaned)\n",
    "missing_value_df[missing_value_df.percent_missing > 0] "
   ]
  },
  {
   "cell_type": "code",
   "execution_count": null,
   "id": "975f6398",
   "metadata": {
    "pycharm": {
     "name": "#%%\n"
    }
   },
   "outputs": [],
   "source": []
  }
 ],
 "metadata": {
  "kernelspec": {
   "display_name": "Python 3",
   "language": "python",
   "name": "python3"
  },
  "language_info": {
   "codemirror_mode": {
    "name": "ipython",
    "version": 3
   },
   "file_extension": ".py",
   "mimetype": "text/x-python",
   "name": "python",
   "nbconvert_exporter": "python",
   "pygments_lexer": "ipython3",
   "version": "3.8.10"
  }
 },
 "nbformat": 4,
 "nbformat_minor": 5
}